{
 "cells": [
  {
   "cell_type": "markdown",
   "metadata": {},
   "source": [
    "## Алгоритм для генерации файла с названиями игр"
   ]
  },
  {
   "cell_type": "code",
   "execution_count": 13,
   "metadata": {
    "collapsed": true
   },
   "outputs": [],
   "source": [
    "# импорты, которые точно понадобятся\n",
    "import pandas as pd\n",
    "import numpy as np\n",
    "from IPython.display import Image, HTML\n",
    "\n",
    "from scipy.sparse import csr_matrix\n",
    "%matplotlib inline\n",
    "import matplotlib.pyplot as plt"
   ]
  },
  {
   "cell_type": "code",
   "execution_count": 14,
   "metadata": {
    "collapsed": true
   },
   "outputs": [],
   "source": [
    "JSON_DATA_PATH = \"C:\\\\temp\\\\meta_Video_Games.json\""
   ]
  },
  {
   "cell_type": "code",
   "execution_count": 15,
   "metadata": {},
   "outputs": [
    {
     "data": {
      "text/html": [
       "<div>\n",
       "<style>\n",
       "    .dataframe thead tr:only-child th {\n",
       "        text-align: right;\n",
       "    }\n",
       "\n",
       "    .dataframe thead th {\n",
       "        text-align: left;\n",
       "    }\n",
       "\n",
       "    .dataframe tbody tr th {\n",
       "        vertical-align: top;\n",
       "    }\n",
       "</style>\n",
       "<table border=\"1\" class=\"dataframe\">\n",
       "  <thead>\n",
       "    <tr style=\"text-align: right;\">\n",
       "      <th></th>\n",
       "      <th>asin</th>\n",
       "      <th>title</th>\n",
       "      <th>imUrl</th>\n",
       "    </tr>\n",
       "  </thead>\n",
       "  <tbody>\n",
       "    <tr>\n",
       "      <th>0</th>\n",
       "      <td>0078764343</td>\n",
       "      <td>No title</td>\n",
       "      <td>http://ecx.images-amazon.com/images/I/513h6dPb...</td>\n",
       "    </tr>\n",
       "    <tr>\n",
       "      <th>1</th>\n",
       "      <td>043933702X</td>\n",
       "      <td>No title</td>\n",
       "      <td>http://ecx.images-amazon.com/images/I/61KKRndV...</td>\n",
       "    </tr>\n",
       "    <tr>\n",
       "      <th>2</th>\n",
       "      <td>0439339987</td>\n",
       "      <td>No title</td>\n",
       "      <td>http://ecx.images-amazon.com/images/I/416QZg89...</td>\n",
       "    </tr>\n",
       "    <tr>\n",
       "      <th>3</th>\n",
       "      <td>0439342260</td>\n",
       "      <td>No title</td>\n",
       "      <td>http://ecx.images-amazon.com/images/I/61Wvu-Uj...</td>\n",
       "    </tr>\n",
       "    <tr>\n",
       "      <th>4</th>\n",
       "      <td>0439339960</td>\n",
       "      <td>No title</td>\n",
       "      <td>http://ecx.images-amazon.com/images/I/51k3oRCF...</td>\n",
       "    </tr>\n",
       "  </tbody>\n",
       "</table>\n",
       "</div>"
      ],
      "text/plain": [
       "         asin     title                                              imUrl\n",
       "0  0078764343  No title  http://ecx.images-amazon.com/images/I/513h6dPb...\n",
       "1  043933702X  No title  http://ecx.images-amazon.com/images/I/61KKRndV...\n",
       "2  0439339987  No title  http://ecx.images-amazon.com/images/I/416QZg89...\n",
       "3  0439342260  No title  http://ecx.images-amazon.com/images/I/61Wvu-Uj...\n",
       "4  0439339960  No title  http://ecx.images-amazon.com/images/I/51k3oRCF..."
      ]
     },
     "execution_count": 15,
     "metadata": {},
     "output_type": "execute_result"
    }
   ],
   "source": [
    "import codecs\n",
    "\n",
    "cols = [\"asin\", \"title\", \"imUrl\"]\n",
    "rows = []\n",
    "with codecs.open( JSON_DATA_PATH, \"r\", \"utf_8_sig\", errors='ignore' ) as f:\n",
    "    for line in f:\n",
    "        asin = line[10:20]\n",
    "        imUrl = \"\";\n",
    "        imUrl_start = line.find(\"'imUrl': '\");\n",
    "        if imUrl_start >= 0:\n",
    "            imUrl_end = line.find(\"'\", imUrl_start+10);\n",
    "            imUrl = line[imUrl_start+10:imUrl_end]   \n",
    "        title = \"No title\";\n",
    "        title_start = line.find(\"'title': '\");\n",
    "        if title_start >= 0:\n",
    "            title_end = line.find(\"'\", title_start+10);\n",
    "            title = line[title_start+10:title_end]\n",
    "        rows.append((asin, title, imUrl));    \n",
    "titles =  pd.DataFrame(rows, columns=cols)\n",
    "titles.head()"
   ]
  },
  {
   "cell_type": "code",
   "execution_count": 16,
   "metadata": {},
   "outputs": [
    {
     "name": "stdout",
     "output_type": "stream",
     "text": [
      "<class 'pandas.core.frame.DataFrame'>\n",
      "RangeIndex: 50950 entries, 0 to 50949\n",
      "Data columns (total 3 columns):\n",
      "asin     50950 non-null object\n",
      "title    50950 non-null object\n",
      "imUrl    50950 non-null object\n",
      "dtypes: object(3)\n",
      "memory usage: 1.2+ MB\n",
      "title:  2174\n",
      "imUrl:  49331\n"
     ]
    }
   ],
   "source": [
    "titles.info()\n",
    "print(\"title: \", len(titles.title.unique()))\n",
    "print(\"imUrl: \", len(titles.imUrl.unique()))"
   ]
  },
  {
   "cell_type": "code",
   "execution_count": 17,
   "metadata": {
    "collapsed": true
   },
   "outputs": [],
   "source": [
    "titles.to_csv(\"titles.csv\", index=False)"
   ]
  },
  {
   "cell_type": "code",
   "execution_count": 18,
   "metadata": {
    "scrolled": true
   },
   "outputs": [
    {
     "data": {
      "text/html": [
       "<div>\n",
       "<style>\n",
       "    .dataframe thead tr:only-child th {\n",
       "        text-align: right;\n",
       "    }\n",
       "\n",
       "    .dataframe thead th {\n",
       "        text-align: left;\n",
       "    }\n",
       "\n",
       "    .dataframe tbody tr th {\n",
       "        vertical-align: top;\n",
       "    }\n",
       "</style>\n",
       "<table border=\"1\" class=\"dataframe\">\n",
       "  <thead>\n",
       "    <tr style=\"text-align: right;\">\n",
       "      <th></th>\n",
       "      <th>asin</th>\n",
       "      <th>title</th>\n",
       "      <th>imUrl</th>\n",
       "    </tr>\n",
       "  </thead>\n",
       "  <tbody>\n",
       "    <tr>\n",
       "      <th>0</th>\n",
       "      <td>0078764343</td>\n",
       "      <td>No title</td>\n",
       "      <td>http://ecx.images-amazon.com/images/I/513h6dPb...</td>\n",
       "    </tr>\n",
       "    <tr>\n",
       "      <th>1</th>\n",
       "      <td>043933702X</td>\n",
       "      <td>No title</td>\n",
       "      <td>http://ecx.images-amazon.com/images/I/61KKRndV...</td>\n",
       "    </tr>\n",
       "    <tr>\n",
       "      <th>2</th>\n",
       "      <td>0439339987</td>\n",
       "      <td>No title</td>\n",
       "      <td>http://ecx.images-amazon.com/images/I/416QZg89...</td>\n",
       "    </tr>\n",
       "    <tr>\n",
       "      <th>3</th>\n",
       "      <td>0439342260</td>\n",
       "      <td>No title</td>\n",
       "      <td>http://ecx.images-amazon.com/images/I/61Wvu-Uj...</td>\n",
       "    </tr>\n",
       "    <tr>\n",
       "      <th>4</th>\n",
       "      <td>0439339960</td>\n",
       "      <td>No title</td>\n",
       "      <td>http://ecx.images-amazon.com/images/I/51k3oRCF...</td>\n",
       "    </tr>\n",
       "  </tbody>\n",
       "</table>\n",
       "</div>"
      ],
      "text/plain": [
       "         asin     title                                              imUrl\n",
       "0  0078764343  No title  http://ecx.images-amazon.com/images/I/513h6dPb...\n",
       "1  043933702X  No title  http://ecx.images-amazon.com/images/I/61KKRndV...\n",
       "2  0439339987  No title  http://ecx.images-amazon.com/images/I/416QZg89...\n",
       "3  0439342260  No title  http://ecx.images-amazon.com/images/I/61Wvu-Uj...\n",
       "4  0439339960  No title  http://ecx.images-amazon.com/images/I/51k3oRCF..."
      ]
     },
     "execution_count": 18,
     "metadata": {},
     "output_type": "execute_result"
    }
   ],
   "source": [
    "q = pd.read_csv('titles.csv')\n",
    "q.head()"
   ]
  },
  {
   "cell_type": "code",
   "execution_count": 19,
   "metadata": {},
   "outputs": [
    {
     "name": "stdout",
     "output_type": "stream",
     "text": [
      "<class 'pandas.core.frame.DataFrame'>\n",
      "RangeIndex: 50950 entries, 0 to 50949\n",
      "Data columns (total 3 columns):\n",
      "asin     50950 non-null object\n",
      "title    50950 non-null object\n",
      "imUrl    50730 non-null object\n",
      "dtypes: object(3)\n",
      "memory usage: 1.2+ MB\n",
      "title:  2174\n",
      "imUrl:  49331\n"
     ]
    }
   ],
   "source": [
    "q.info()\n",
    "print(\"title: \", len(q.title.unique()))\n",
    "print(\"imUrl: \", len(q.imUrl.unique()))"
   ]
  },
  {
   "cell_type": "code",
   "execution_count": null,
   "metadata": {
    "collapsed": true
   },
   "outputs": [],
   "source": []
  }
 ],
 "metadata": {
  "kernelspec": {
   "display_name": "Python 3",
   "language": "python",
   "name": "python3"
  },
  "language_info": {
   "codemirror_mode": {
    "name": "ipython",
    "version": 3
   },
   "file_extension": ".py",
   "mimetype": "text/x-python",
   "name": "python",
   "nbconvert_exporter": "python",
   "pygments_lexer": "ipython3",
   "version": "3.6.1"
  }
 },
 "nbformat": 4,
 "nbformat_minor": 2
}
