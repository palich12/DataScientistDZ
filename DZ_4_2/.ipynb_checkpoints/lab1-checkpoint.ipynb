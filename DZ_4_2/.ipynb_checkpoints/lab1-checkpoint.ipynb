{
 "cells": [
  {
   "cell_type": "markdown",
   "metadata": {},
   "source": [
    "# Описание задания"
   ]
  },
  {
   "cell_type": "markdown",
   "metadata": {},
   "source": [
    "В рамках данного задания, студент должен создать и оценить 4 типа рекомендательных систем:\n",
    "* Non-personalized RS\n",
    "* Content-based RS\n",
    "* Item-based collaborative filtering RS\n",
    "* Hybrid RS\n",
    "\n",
    "Каждая рекомендательная система - отдельное подзадание. Подзадание считается выполненным, если студент создал рекомендательную систему, которая **лучше (или хуже, но не более чем на 10%)** системы, созданной автором данного блокнота. Системы оцениваются с использованием метрики ``HR@N``, описанной ниже."
   ]
  },
  {
   "cell_type": "markdown",
   "metadata": {},
   "source": [
    "# Детальное описание"
   ]
  },
  {
   "cell_type": "markdown",
   "metadata": {},
   "source": [
    "#### Данные: \n",
    "Датасет представлен множеством отзывов к компьютерным играм (объектам) от пользователей Amazon. Каждый отзыв представлен в виде JSON-структуры со следующими полями:\n",
    "* идентификатор пользователя - reviewerID\n",
    "* идентификатор объекта - asin\n",
    "* текст отзыва - reviewText\n",
    "* рейтинг - overall\n",
    "* время публикации обзора - unixReviewTime\n",
    "* другие поля, не использованные автором этого блокнота (смотри полное описание JSON [тут](http://jmcauley.ucsd.edu/data/amazon/))\n",
    "\n",
    "У каждого объекта есть как минимум 5 отзывов, каждый пользователь написал как минимум 5 отзывов. \n",
    "#### Цель: \n",
    "Построить рекомендательную систему, предсказывающую объекты, которые пользователь приобретет в ближайшем будущем. Для упрощения мы считаем, что пользователь приобрел объект, если он написал про него отзыв.\n",
    "#### Подготовка данных:\n",
    "Данные разделены на тренировочную и тестовую выборки по времени публикации отзывов. Первые 80% данных (более старые) используются как тренировочная выборка, остальные - как тестовая. \n",
    "\n",
    "Построение рекомендательной системы (т.е., выбор и тренировка моделей, оптимизация параметров и т.д.) осуществляется **только** с использованием тренировочной выборки. Все параметры, использованные в моделях, **должны быть** получены или объяснены с помощью тренировочных данных. Студент вправе использовать тренировочную выборку как его душе угодно. \n",
    "\n",
    "Тестирующая выборка используется **только** для оценки рекомендательной системы.\n",
    "\n",
    "Для построения рекомендательных моделей также можно использовать JSON-поля из датасета, неиспользованные автором этого блокнота.\n",
    "#### Оценка качества рекомендательной системы\n",
    "Цель рекомендательной системы - посоветовать пользователю объекты, которые он захочет приобрести. Для оценки качества такой системы мы воспользуемся метрикой `hit-ratio (HR)`. \n",
    "\n",
    "$$\n",
    "HR = \\frac{1}{|U_T|}\\sum_{u \\in U_T} \\mathrm{I}(Rel_u \\cap Rec_u)\n",
    "$$\n",
    "\n",
    "* $U_T$ - множество пользователей из тестовой выборки\n",
    "* $Rec_u$ - множество объектов, рекомендованных пользователю $u$ \n",
    "* $Rel_u$ - множество объектов, оцененных пользователем $u$ в тестовой выборке\n",
    "* $\\mathrm{I}(Rel_u \\cap Rec_u)$ - бинарная функция-индикатор. Функция возвращает 1 если $Rel_u \\cap Rec_u \\ne \\emptyset$, иначе 0\n",
    "\n",
    "$HR=1$ если для каждого пользователя мы рекомендовали хотя бы один релевантный объект. Так как обычно пользователи просматривают только первые $N$ рекомендаций, мы будем считать метрику $HR@N$, где $N=10$ (т.е. множество $Rec_u$ будет содержать только 10 объектов). "
   ]
  },
  {
   "cell_type": "markdown",
   "metadata": {},
   "source": [
    "# Условные обозначения\n",
    "* `uid` - идентификатор пользователя\n",
    "* `iid` - идентификатор объекта"
   ]
  },
  {
   "cell_type": "markdown",
   "metadata": {},
   "source": [
    "# Games RSs"
   ]
  },
  {
   "cell_type": "code",
   "execution_count": 1,
   "metadata": {
    "collapsed": true
   },
   "outputs": [],
   "source": [
    "# импорты, которые точно понадобятся\n",
    "import pandas as pd\n",
    "import numpy as np\n",
    "\n",
    "from scipy.sparse import csr_matrix\n",
    "%matplotlib inline\n",
    "import matplotlib.pyplot as plt\n",
    "\n",
    "from IPython.core.display import Image, display"
   ]
  },
  {
   "cell_type": "code",
   "execution_count": 2,
   "metadata": {
    "collapsed": true
   },
   "outputs": [],
   "source": [
    "# Данные взяты отсюда - http://jmcauley.ucsd.edu/data/amazon/\n",
    "# http://snap.stanford.edu/data/amazon/productGraph/categoryFiles/reviews_Video_Games_5.json.gz\n",
    "JSON_DATA_PATH = \"C:\\\\temp\\\\Video_Games_5.json\"\n",
    "N = 10"
   ]
  },
  {
   "cell_type": "markdown",
   "metadata": {},
   "source": [
    "## Анализ данных"
   ]
  },
  {
   "cell_type": "code",
   "execution_count": 3,
   "metadata": {
    "collapsed": true
   },
   "outputs": [],
   "source": [
    "import json\n",
    "\n",
    "def iter_json_data(path):\n",
    "    with open(path) as f:\n",
    "        for line in f:\n",
    "            data = json.loads(line)\n",
    "            yield data\n",
    "            \n",
    "def get_data_frame():\n",
    "    uid_to_id = {}\n",
    "    iid_to_id = {}\n",
    "    \n",
    "    cols = [\"uid\", \"iid\", \"review\", \"rating\", \"dt\"]\n",
    "    rows = []\n",
    "    for d in iter_json_data(JSON_DATA_PATH):\n",
    "        uid = uid_to_id.setdefault(d[\"reviewerID\"], len(uid_to_id))\n",
    "        iid = iid_to_id.setdefault(d[\"asin\"], len(iid_to_id))\n",
    "        review = d[\"reviewText\"]\n",
    "        rating = float(d[\"overall\"])\n",
    "        dt = int(d[\"unixReviewTime\"])\n",
    "        rows.append((uid, iid, review, rating, dt))\n",
    "    \n",
    "    return pd.DataFrame(rows, columns=cols), uid_to_id, iid_to_id"
   ]
  },
  {
   "cell_type": "code",
   "execution_count": 4,
   "metadata": {},
   "outputs": [
    {
     "data": {
      "text/html": [
       "<div>\n",
       "<style>\n",
       "    .dataframe thead tr:only-child th {\n",
       "        text-align: right;\n",
       "    }\n",
       "\n",
       "    .dataframe thead th {\n",
       "        text-align: left;\n",
       "    }\n",
       "\n",
       "    .dataframe tbody tr th {\n",
       "        vertical-align: top;\n",
       "    }\n",
       "</style>\n",
       "<table border=\"1\" class=\"dataframe\">\n",
       "  <thead>\n",
       "    <tr style=\"text-align: right;\">\n",
       "      <th></th>\n",
       "      <th>uid</th>\n",
       "      <th>iid</th>\n",
       "      <th>review</th>\n",
       "      <th>rating</th>\n",
       "      <th>dt</th>\n",
       "    </tr>\n",
       "  </thead>\n",
       "  <tbody>\n",
       "    <tr>\n",
       "      <th>0</th>\n",
       "      <td>0</td>\n",
       "      <td>0</td>\n",
       "      <td>Installing the game was a struggle (because of...</td>\n",
       "      <td>1.0</td>\n",
       "      <td>1341792000</td>\n",
       "    </tr>\n",
       "    <tr>\n",
       "      <th>1</th>\n",
       "      <td>1</td>\n",
       "      <td>0</td>\n",
       "      <td>If you like rally cars get this game you will ...</td>\n",
       "      <td>4.0</td>\n",
       "      <td>1372550400</td>\n",
       "    </tr>\n",
       "    <tr>\n",
       "      <th>2</th>\n",
       "      <td>2</td>\n",
       "      <td>0</td>\n",
       "      <td>1st shipment received a book instead of the ga...</td>\n",
       "      <td>1.0</td>\n",
       "      <td>1403913600</td>\n",
       "    </tr>\n",
       "    <tr>\n",
       "      <th>3</th>\n",
       "      <td>3</td>\n",
       "      <td>0</td>\n",
       "      <td>I got this version instead of the PS3 version,...</td>\n",
       "      <td>3.0</td>\n",
       "      <td>1315958400</td>\n",
       "    </tr>\n",
       "    <tr>\n",
       "      <th>4</th>\n",
       "      <td>4</td>\n",
       "      <td>0</td>\n",
       "      <td>I had Dirt 2 on Xbox 360 and it was an okay ga...</td>\n",
       "      <td>4.0</td>\n",
       "      <td>1308009600</td>\n",
       "    </tr>\n",
       "  </tbody>\n",
       "</table>\n",
       "</div>"
      ],
      "text/plain": [
       "   uid  iid                                             review  rating  \\\n",
       "0    0    0  Installing the game was a struggle (because of...     1.0   \n",
       "1    1    0  If you like rally cars get this game you will ...     4.0   \n",
       "2    2    0  1st shipment received a book instead of the ga...     1.0   \n",
       "3    3    0  I got this version instead of the PS3 version,...     3.0   \n",
       "4    4    0  I had Dirt 2 on Xbox 360 and it was an okay ga...     4.0   \n",
       "\n",
       "           dt  \n",
       "0  1341792000  \n",
       "1  1372550400  \n",
       "2  1403913600  \n",
       "3  1315958400  \n",
       "4  1308009600  "
      ]
     },
     "execution_count": 4,
     "metadata": {},
     "output_type": "execute_result"
    }
   ],
   "source": [
    "df, uid_to_id, iid_to_id = get_data_frame()\n",
    "df.head()\n"
   ]
  },
  {
   "cell_type": "markdown",
   "metadata": {},
   "source": [
    "### Создадим словарь изображений и названий продуктов"
   ]
  },
  {
   "cell_type": "code",
   "execution_count": 5,
   "metadata": {
    "collapsed": true
   },
   "outputs": [],
   "source": [
    "def get_titles_frame(uid_to_id, iid_to_id):\n",
    "    titles_csv = pd.read_csv('titles.csv')\n",
    "    titles = {}\n",
    "    \n",
    "    for index, row in titles_csv.iterrows():\n",
    "        if row[\"asin\"] in iid_to_id:\n",
    "            titles[iid_to_id[row[\"asin\"]]] = { \"title\":row[\"title\"], \"imUrl\":row[\"imUrl\"]}\n",
    "    return titles"
   ]
  },
  {
   "cell_type": "code",
   "execution_count": 6,
   "metadata": {
    "collapsed": true
   },
   "outputs": [],
   "source": [
    "titles = get_titles_frame(uid_to_id, iid_to_id)"
   ]
  },
  {
   "cell_type": "code",
   "execution_count": 7,
   "metadata": {},
   "outputs": [
    {
     "name": "stdout",
     "output_type": "stream",
     "text": [
      "min-max количество объектов на пользователя: 5 773\n",
      "min-max количество пользователей на объект: 5 802\n"
     ]
    }
   ],
   "source": [
    "print(\"min-max количество объектов на пользователя:\", \n",
    "      df.groupby(\"uid\").iid.nunique().min(), df.groupby(\"uid\").iid.nunique().max())\n",
    "print(\"min-max количество пользователей на объект:\", \n",
    "      df.groupby(\"iid\").uid.nunique().min(), df.groupby(\"iid\").uid.nunique().max())"
   ]
  },
  {
   "cell_type": "code",
   "execution_count": 8,
   "metadata": {},
   "outputs": [
    {
     "data": {
      "text/plain": [
       "<matplotlib.axes._subplots.AxesSubplot at 0x18be260d898>"
      ]
     },
     "execution_count": 8,
     "metadata": {},
     "output_type": "execute_result"
    },
    {
     "data": {
      "image/png": "[encoded data removed]",
      "text/plain": [
       "<matplotlib.figure.Figure at 0x18be260f320>"
      ]
     },
     "metadata": {},
     "output_type": "display_data"
    }
   ],
   "source": [
    "plt.title(\"Распределение отзывов по времени\")\n",
    "df.dt.hist(bins=50)"
   ]
  },
  {
   "cell_type": "code",
   "execution_count": 9,
   "metadata": {
    "scrolled": true
   },
   "outputs": [
    {
     "data": {
      "text/plain": [
       "<matplotlib.axes._subplots.AxesSubplot at 0x18bed1b7908>"
      ]
     },
     "execution_count": 9,
     "metadata": {},
     "output_type": "execute_result"
    },
    {
     "data": {
      "image/png": "[encoded data removed]",
      "text/plain": [
       "<matplotlib.figure.Figure at 0x18bf37ac7f0>"
      ]
     },
     "metadata": {},
     "output_type": "display_data"
    }
   ],
   "source": [
    "plt.title(\"Распределение рейтингов по отзывам\")\n",
    "df.rating.hist()"
   ]
  },
  {
   "cell_type": "code",
   "execution_count": 10,
   "metadata": {},
   "outputs": [
    {
     "name": "stdout",
     "output_type": "stream",
     "text": [
      "1  \n"
     ]
    }
   ],
   "source": [
    "# проверяем, есть ли случаи, когда один и тот же пользователь оставляет отзывы на один и тот же объект\n",
    "Uid_iid_pair = df.groupby([\"uid\", \"iid\"]).review.count().unique()  # ура, таких случаев нет\n",
    "for uip in Uid_iid_pair:\n",
    "    print(uip, \" \")"
   ]
  },
  {
   "cell_type": "code",
   "execution_count": 11,
   "metadata": {},
   "outputs": [
    {
     "name": "stdout",
     "output_type": "stream",
     "text": [
      "Количество объектов: 10672\n",
      "Количество пользователей: 24303\n"
     ]
    }
   ],
   "source": [
    "print(\"Количество объектов:\", df.iid.unique().size)\n",
    "print(\"Количество пользователей:\", df.uid.unique().size)"
   ]
  },
  {
   "cell_type": "markdown",
   "metadata": {},
   "source": [
    "## Готовим выборки"
   ]
  },
  {
   "cell_type": "code",
   "execution_count": 12,
   "metadata": {
    "collapsed": true
   },
   "outputs": [],
   "source": [
    "def split_df_by_dt(df, p=0.8):\n",
    "    \"\"\"Функция разбивает df на тестовую и тренировочную выборки по времени \n",
    "    публикации отзывов (значение времени в поле dt)\n",
    "    \n",
    "    :param p: персентиль значений dt, которые образуют тренировочную выборку. Например p=0.8 означает, что в \n",
    "    тренировочной части будут отзывы, соответствующие первым 80% временного интервала \n",
    "    :return: два pd.DataFrame объекта\n",
    "    \"\"\"\n",
    "    border_dt = df.dt.quantile(p)\n",
    "    print(\"Min=%s, border=%s, max=%s\" % (df.dt.min(), border_dt, df.dt.max()))\n",
    "    training_df, test_df  = df[df.dt <= border_dt], df[df.dt > border_dt]\n",
    "    print(\"Размер до очистки:\", training_df.shape, test_df.shape)\n",
    "    # удаляем из тестовых данных строки, соответствующие пользователям или объектам, \n",
    "    # которых нет в тренировочных данных \n",
    "    # (пользователи - избегаем проблем для персональных систем, объекты - для всех)\n",
    "    test_df = test_df[test_df.uid.isin(training_df.uid) & test_df.iid.isin(training_df.iid)]\n",
    "    print(\"Размер после очистки:\", training_df.shape, test_df.shape)\n",
    "    return training_df, test_df"
   ]
  },
  {
   "cell_type": "code",
   "execution_count": 13,
   "metadata": {},
   "outputs": [
    {
     "name": "stdout",
     "output_type": "stream",
     "text": [
      "Min=939859200, border=1377129600.0, max=1405987200\n",
      "Размер до очистки: (185427, 5) (46353, 5)\n",
      "Размер после очистки: (185427, 5) (19174, 5)\n"
     ]
    }
   ],
   "source": [
    "training_df, test_df = split_df_by_dt(df)\n",
    "del df"
   ]
  },
  {
   "cell_type": "code",
   "execution_count": 14,
   "metadata": {},
   "outputs": [
    {
     "data": {
      "text/html": [
       "<div>\n",
       "<style>\n",
       "    .dataframe thead tr:only-child th {\n",
       "        text-align: right;\n",
       "    }\n",
       "\n",
       "    .dataframe thead th {\n",
       "        text-align: left;\n",
       "    }\n",
       "\n",
       "    .dataframe tbody tr th {\n",
       "        vertical-align: top;\n",
       "    }\n",
       "</style>\n",
       "<table border=\"1\" class=\"dataframe\">\n",
       "  <thead>\n",
       "    <tr style=\"text-align: right;\">\n",
       "      <th></th>\n",
       "      <th>uid</th>\n",
       "      <th>iid</th>\n",
       "      <th>review</th>\n",
       "      <th>rating</th>\n",
       "      <th>dt</th>\n",
       "    </tr>\n",
       "  </thead>\n",
       "  <tbody>\n",
       "    <tr>\n",
       "      <th>0</th>\n",
       "      <td>0</td>\n",
       "      <td>0</td>\n",
       "      <td>Installing the game was a struggle (because of...</td>\n",
       "      <td>1.0</td>\n",
       "      <td>1341792000</td>\n",
       "    </tr>\n",
       "    <tr>\n",
       "      <th>1</th>\n",
       "      <td>1</td>\n",
       "      <td>0</td>\n",
       "      <td>If you like rally cars get this game you will ...</td>\n",
       "      <td>4.0</td>\n",
       "      <td>1372550400</td>\n",
       "    </tr>\n",
       "    <tr>\n",
       "      <th>3</th>\n",
       "      <td>3</td>\n",
       "      <td>0</td>\n",
       "      <td>I got this version instead of the PS3 version,...</td>\n",
       "      <td>3.0</td>\n",
       "      <td>1315958400</td>\n",
       "    </tr>\n",
       "    <tr>\n",
       "      <th>4</th>\n",
       "      <td>4</td>\n",
       "      <td>0</td>\n",
       "      <td>I had Dirt 2 on Xbox 360 and it was an okay ga...</td>\n",
       "      <td>4.0</td>\n",
       "      <td>1308009600</td>\n",
       "    </tr>\n",
       "    <tr>\n",
       "      <th>5</th>\n",
       "      <td>5</td>\n",
       "      <td>0</td>\n",
       "      <td>Overall this is a well done racing game, with ...</td>\n",
       "      <td>4.0</td>\n",
       "      <td>1368230400</td>\n",
       "    </tr>\n",
       "  </tbody>\n",
       "</table>\n",
       "</div>"
      ],
      "text/plain": [
       "   uid  iid                                             review  rating  \\\n",
       "0    0    0  Installing the game was a struggle (because of...     1.0   \n",
       "1    1    0  If you like rally cars get this game you will ...     4.0   \n",
       "3    3    0  I got this version instead of the PS3 version,...     3.0   \n",
       "4    4    0  I had Dirt 2 on Xbox 360 and it was an okay ga...     4.0   \n",
       "5    5    0  Overall this is a well done racing game, with ...     4.0   \n",
       "\n",
       "           dt  \n",
       "0  1341792000  \n",
       "1  1372550400  \n",
       "3  1315958400  \n",
       "4  1308009600  \n",
       "5  1368230400  "
      ]
     },
     "execution_count": 14,
     "metadata": {},
     "output_type": "execute_result"
    }
   ],
   "source": [
    "training_df.head()"
   ]
  },
  {
   "cell_type": "code",
   "execution_count": 15,
   "metadata": {
    "collapsed": true
   },
   "outputs": [],
   "source": [
    "def clean_df(df, min_review_per_uid, min_review_per_iid):\n",
    "    \"\"\"Функция удаляет из df строки, соответствующие пользователям и объектам, \n",
    "    у которых меньше min_review_per_uid и min_review_per_iid отзывов соответственно\n",
    "    \"\"\"\n",
    "    _df = df.copy()\n",
    "    while True:\n",
    "        review_per_uid = _df.groupby(\"uid\").review.count()\n",
    "        bad_uids = review_per_uid[review_per_uid < min_review_per_uid].index\n",
    "    \n",
    "        review_per_iid = _df.groupby(\"iid\").review.count()\n",
    "        bad_iids = review_per_iid[review_per_iid < min_review_per_iid].index\n",
    "        \n",
    "        if bad_uids.shape[0] > 0 or bad_iids.shape[0] > 0:\n",
    "            _df = _df[(~_df.uid.isin(bad_uids)) & (~_df.iid.isin(bad_iids))]\n",
    "        else:\n",
    "            break\n",
    "    return _df"
   ]
  },
  {
   "cell_type": "markdown",
   "metadata": {},
   "source": [
    " ## Метрика"
   ]
  },
  {
   "cell_type": "markdown",
   "metadata": {},
   "source": [
    "Для упрощения тестирования предлагается использовать словарь следующего типа:\n",
    "\n",
    "```python\n",
    "recs = {\n",
    "    uid_1: {\n",
    "        iid_1: score_11,\n",
    "        iid_2: score_12,\n",
    "        ...\n",
    "    },\n",
    "    uid_2: {\n",
    "        iid_1: score_21,\n",
    "        iid_2: score_22,\n",
    "        ...\n",
    "    },\n",
    "    ...\n",
    "}\n",
    "```\n",
    "\n",
    "где `uid_i` - идентификатор тестового пользователя, `iid_j` - идентификатор рекомендованного объекта, а `score_ij` - предсказанный рейтинг/вес объекта `j` для пользователя `i`."
   ]
  },
  {
   "cell_type": "code",
   "execution_count": 16,
   "metadata": {
    "collapsed": true
   },
   "outputs": [],
   "source": [
    "def hit_ratio(recs_dict, test_dict):\n",
    "    \"\"\"Функция считает метрику hit-ration для двух словарей\n",
    "    :recs_dict: словарь рекомендаций типа {uid: {iid: score, ...}, ...}\n",
    "    :test_dict: тестовый словарь типа {uid: {iid: score, ...}, ...}\n",
    "    \"\"\"\n",
    "    hits = 0\n",
    "    for uid in test_dict:\n",
    "        if set(test_dict[uid].keys()).intersection(recs_dict.get(uid, {})):\n",
    "            hits += 1\n",
    "    return hits / len(test_dict)"
   ]
  },
  {
   "cell_type": "code",
   "execution_count": 17,
   "metadata": {
    "collapsed": true
   },
   "outputs": [],
   "source": [
    "def get_test_dict(test_df):\n",
    "    \"\"\"Функция, конвертирующая тестовый df в словарь\n",
    "    \"\"\"\n",
    "    test_dict = {}\n",
    "    for t in test_df.itertuples():\n",
    "        test_dict.setdefault(t.uid, {})\n",
    "        test_dict[t.uid][t.iid] = t.rating\n",
    "    return test_dict\n",
    "\n",
    "test_dict = get_test_dict(test_df)\n",
    "training_dict = get_test_dict(training_df)"
   ]
  },
  {
   "cell_type": "markdown",
   "metadata": {},
   "source": [
    "## Non-personalized RS"
   ]
  },
  {
   "cell_type": "markdown",
   "metadata": {},
   "source": [
    "В первом подзадании студент должен построить неперсонализированную рекомендательную систему. Т.е. рекомендации для одного пользователя строятся на основе отзывов, оставленных всеми пользователями."
   ]
  },
  {
   "cell_type": "markdown",
   "metadata": {},
   "source": [
    "### Найдем самые популярные игры"
   ]
  },
  {
   "cell_type": "code",
   "execution_count": 18,
   "metadata": {},
   "outputs": [
    {
     "data": {
      "text/plain": [
       "(1, 773)"
      ]
     },
     "execution_count": 18,
     "metadata": {},
     "output_type": "execute_result"
    }
   ],
   "source": [
    "rating_per_user = training_df.uid.value_counts()\n",
    "rating_per_user.min(), rating_per_user.max()"
   ]
  },
  {
   "cell_type": "code",
   "execution_count": 19,
   "metadata": {},
   "outputs": [
    {
     "data": {
      "text/plain": [
       "(1, 471)"
      ]
     },
     "execution_count": 19,
     "metadata": {},
     "output_type": "execute_result"
    }
   ],
   "source": [
    "rating_per_game = training_df.iid.value_counts()\n",
    "rating_per_game.min(), rating_per_game.max()"
   ]
  },
  {
   "cell_type": "code",
   "execution_count": 20,
   "metadata": {
    "collapsed": true
   },
   "outputs": [],
   "source": [
    "rating1 = rating_per_game"
   ]
  },
  {
   "cell_type": "code",
   "execution_count": 21,
   "metadata": {},
   "outputs": [
    {
     "data": {
      "text/plain": [
       "5390    471\n",
       "3323    429\n",
       "8659    361\n",
       "5489    350\n",
       "3536    349\n",
       "1341    348\n",
       "8151    329\n",
       "4939    313\n",
       "9402    313\n",
       "3851    312\n",
       "Name: iid, dtype: int64"
      ]
     },
     "execution_count": 21,
     "metadata": {},
     "output_type": "execute_result"
    }
   ],
   "source": [
    "rating1.head(10)"
   ]
  },
  {
   "cell_type": "code",
   "execution_count": 22,
   "metadata": {
    "collapsed": true
   },
   "outputs": [],
   "source": [
    "def show_game_list(rating):\n",
    "    for index, score in rating.iteritems():\n",
    "        print(index, \" - \",titles[index]['title'], \" \", titles[index]['imUrl'], \":\", score)\n",
    "        display(Image(url=titles[index]['imUrl']))"
   ]
  },
  {
   "cell_type": "code",
   "execution_count": 23,
   "metadata": {},
   "outputs": [
    {
     "name": "stdout",
     "output_type": "stream",
     "text": [
      "5390  -  No title   http://ecx.images-amazon.com/images/I/41E1q8ukJRL._SX300_.jpg : 471\n"
     ]
    },
    {
     "data": {
      "text/html": [
       "<img src=\"http://ecx.images-amazon.com/images/I/41E1q8ukJRL._SX300_.jpg\"/>"
      ],
      "text/plain": [
       "<IPython.core.display.Image object>"
      ]
     },
     "metadata": {},
     "output_type": "display_data"
    },
    {
     "name": "stdout",
     "output_type": "stream",
     "text": [
      "3323  -  Wii   http://ecx.images-amazon.com/images/I/41xM31QiwdL._SX300_.jpg : 429\n"
     ]
    },
    {
     "data": {
      "text/html": [
       "<img src=\"http://ecx.images-amazon.com/images/I/41xM31QiwdL._SX300_.jpg\"/>"
      ],
      "text/plain": [
       "<IPython.core.display.Image object>"
      ]
     },
     "metadata": {},
     "output_type": "display_data"
    },
    {
     "name": "stdout",
     "output_type": "stream",
     "text": [
      "8659  -  No title   http://ecx.images-amazon.com/images/I/51KA8qJIlCL._SY300_.jpg : 361\n"
     ]
    },
    {
     "data": {
      "text/html": [
       "<img src=\"http://ecx.images-amazon.com/images/I/51KA8qJIlCL._SY300_.jpg\"/>"
      ],
      "text/plain": [
       "<IPython.core.display.Image object>"
      ]
     },
     "metadata": {},
     "output_type": "display_data"
    },
    {
     "name": "stdout",
     "output_type": "stream",
     "text": [
      "5489  -  No title   http://ecx.images-amazon.com/images/I/41kXCp%2BUyeL._SY300_.jpg : 350\n"
     ]
    },
    {
     "data": {
      "text/html": [
       "<img src=\"http://ecx.images-amazon.com/images/I/41kXCp%2BUyeL._SY300_.jpg\"/>"
      ],
      "text/plain": [
       "<IPython.core.display.Image object>"
      ]
     },
     "metadata": {},
     "output_type": "display_data"
    },
    {
     "name": "stdout",
     "output_type": "stream",
     "text": [
      "3536  -  No title   http://ecx.images-amazon.com/images/I/41Io17jh4IL._SY300_.jpg : 349\n"
     ]
    },
    {
     "data": {
      "text/html": [
       "<img src=\"http://ecx.images-amazon.com/images/I/41Io17jh4IL._SY300_.jpg\"/>"
      ],
      "text/plain": [
       "<IPython.core.display.Image object>"
      ]
     },
     "metadata": {},
     "output_type": "display_data"
    }
   ],
   "source": [
    "show_game_list(rating1.head(5))"
   ]
  },
  {
   "cell_type": "markdown",
   "metadata": {
    "collapsed": true
   },
   "source": [
    "### Определяем функцию для генирации словаря из списка, выданного неперсонализированной системой"
   ]
  },
  {
   "cell_type": "code",
   "execution_count": 24,
   "metadata": {
    "collapsed": true
   },
   "outputs": [],
   "source": [
    "def get_NonPers_dict(training_dict, test_dict, best_list):\n",
    "    NonPers_dict = {}\n",
    "    for uid in test_dict.keys():\n",
    "        NonPers_dict.setdefault(uid, {})\n",
    "        i = 0\n",
    "        NonPers_dict[uid] = []\n",
    "        while len(NonPers_dict[uid]) < 10:\n",
    "            if best_list.index[i] not in training_dict[uid].keys():\n",
    "                NonPers_dict[uid].append(best_list.index[i])\n",
    "            i +=1\n",
    "    return NonPers_dict"
   ]
  },
  {
   "cell_type": "code",
   "execution_count": 25,
   "metadata": {},
   "outputs": [
    {
     "name": "stdout",
     "output_type": "stream",
     "text": [
      "HR@10:  0.04005869405722671\n"
     ]
    }
   ],
   "source": [
    "print(\"HR@10: \", hit_ratio( get_NonPers_dict(training_dict, test_dict, rating1), test_dict) )"
   ]
  },
  {
   "cell_type": "markdown",
   "metadata": {},
   "source": [
    "### Видно что в выборке задейсвованы действительно в реальности довольно популярные игры и товары, тоесть в целом она корректра. \n",
    "### Но результат недостаточен чтобы сдать лабу :(\n",
    "### Попробуем учитывать рейтинг игры. Логичнее штрафовать за плохой рейтинг и поощерять за хороший а нейтральные игнорировать\n",
    "### Для нормировки просто вычтим средний балл 3"
   ]
  },
  {
   "cell_type": "code",
   "execution_count": 26,
   "metadata": {},
   "outputs": [
    {
     "data": {
      "text/plain": [
       "5390    753\n",
       "3536    641\n",
       "3323    624\n",
       "1341    537\n",
       "6053    524\n",
       "Name: iid, dtype: int64"
      ]
     },
     "execution_count": 26,
     "metadata": {},
     "output_type": "execute_result"
    }
   ],
   "source": [
    "rating2 = rating1.copy().apply(lambda i: 0) \n",
    "for index, row in training_df.iterrows():\n",
    "    rating2.set_value(value=rating2[row.iid] + row.rating - 3, label=row.iid)\n",
    "rating2.sort_values(ascending=False, inplace=True)\n",
    "rating2.head()"
   ]
  },
  {
   "cell_type": "code",
   "execution_count": 27,
   "metadata": {},
   "outputs": [
    {
     "name": "stdout",
     "output_type": "stream",
     "text": [
      "5390  -  No title   http://ecx.images-amazon.com/images/I/41E1q8ukJRL._SX300_.jpg : 753\n"
     ]
    },
    {
     "data": {
      "text/html": [
       "<img src=\"http://ecx.images-amazon.com/images/I/41E1q8ukJRL._SX300_.jpg\"/>"
      ],
      "text/plain": [
       "<IPython.core.display.Image object>"
      ]
     },
     "metadata": {},
     "output_type": "display_data"
    },
    {
     "name": "stdout",
     "output_type": "stream",
     "text": [
      "3536  -  No title   http://ecx.images-amazon.com/images/I/41Io17jh4IL._SY300_.jpg : 641\n"
     ]
    },
    {
     "data": {
      "text/html": [
       "<img src=\"http://ecx.images-amazon.com/images/I/41Io17jh4IL._SY300_.jpg\"/>"
      ],
      "text/plain": [
       "<IPython.core.display.Image object>"
      ]
     },
     "metadata": {},
     "output_type": "display_data"
    },
    {
     "name": "stdout",
     "output_type": "stream",
     "text": [
      "3323  -  Wii   http://ecx.images-amazon.com/images/I/41xM31QiwdL._SX300_.jpg : 624\n"
     ]
    },
    {
     "data": {
      "text/html": [
       "<img src=\"http://ecx.images-amazon.com/images/I/41xM31QiwdL._SX300_.jpg\"/>"
      ],
      "text/plain": [
       "<IPython.core.display.Image object>"
      ]
     },
     "metadata": {},
     "output_type": "display_data"
    },
    {
     "name": "stdout",
     "output_type": "stream",
     "text": [
      "1341  -  No title   http://ecx.images-amazon.com/images/I/51YQRBW6N7L._SY300_.jpg : 537\n"
     ]
    },
    {
     "data": {
      "text/html": [
       "<img src=\"http://ecx.images-amazon.com/images/I/51YQRBW6N7L._SY300_.jpg\"/>"
      ],
      "text/plain": [
       "<IPython.core.display.Image object>"
      ]
     },
     "metadata": {},
     "output_type": "display_data"
    },
    {
     "name": "stdout",
     "output_type": "stream",
     "text": [
      "6053  -  No title   http://ecx.images-amazon.com/images/I/61qAVZayaZL._SY300_.jpg : 524\n"
     ]
    },
    {
     "data": {
      "text/html": [
       "<img src=\"http://ecx.images-amazon.com/images/I/61qAVZayaZL._SY300_.jpg\"/>"
      ],
      "text/plain": [
       "<IPython.core.display.Image object>"
      ]
     },
     "metadata": {},
     "output_type": "display_data"
    }
   ],
   "source": [
    "show_game_list(rating2.head(5))"
   ]
  },
  {
   "cell_type": "markdown",
   "metadata": {},
   "source": [
    "### Девайсы остались, игры сменились. Пока не понятно лучше это или хуже. \n",
    "### По хорошему бы выкинуть девайсы и подарочные талоны. Но это не входит в задание :)\n",
    "### Посмотрим, что получилось теперь"
   ]
  },
  {
   "cell_type": "code",
   "execution_count": 28,
   "metadata": {},
   "outputs": [
    {
     "name": "stdout",
     "output_type": "stream",
     "text": [
      "HR@10:  0.08011738811445342\n"
     ]
    }
   ],
   "source": [
    "print(\"HR@10: \", hit_ratio( get_NonPers_dict( training_dict, test_dict, rating2), test_dict) )"
   ]
  },
  {
   "cell_type": "markdown",
   "metadata": {},
   "source": [
    "### А ларчик просто открывался :)"
   ]
  },
  {
   "cell_type": "markdown",
   "metadata": {},
   "source": [
    "###  Видно что в топе довольно старые игры, попробуем  штрафовать старые комментарии, т. к. они мение актуальны."
   ]
  },
  {
   "cell_type": "code",
   "execution_count": 29,
   "metadata": {},
   "outputs": [
    {
     "data": {
      "text/plain": [
       "9267    180\n",
       "8659    121\n",
       "7163    116\n",
       "3536    109\n",
       "8401    105\n",
       "Name: iid, dtype: int64"
      ]
     },
     "execution_count": 29,
     "metadata": {},
     "output_type": "execute_result"
    }
   ],
   "source": [
    "max_dt = training_df.dt.max()\n",
    "rating3 = rating1.copy().apply(lambda i: 0) \n",
    "for index, row in training_df.iterrows():\n",
    "    rating3.set_value(value=(rating3[row.iid] + row.rating - 3)* 0.99**((max_dt-row[\"dt\"])/(60*60*24*365)),label=row.iid)\n",
    " \n",
    "rating3.sort_values(ascending=False, inplace=True)\n",
    "rating3.head()"
   ]
  },
  {
   "cell_type": "code",
   "execution_count": 30,
   "metadata": {},
   "outputs": [
    {
     "name": "stdout",
     "output_type": "stream",
     "text": [
      "9267  -  No title   http://ecx.images-amazon.com/images/I/61WVjDOzNEL._SY300_.jpg : 180\n"
     ]
    },
    {
     "data": {
      "text/html": [
       "<img src=\"http://ecx.images-amazon.com/images/I/61WVjDOzNEL._SY300_.jpg\"/>"
      ],
      "text/plain": [
       "<IPython.core.display.Image object>"
      ]
     },
     "metadata": {},
     "output_type": "display_data"
    },
    {
     "name": "stdout",
     "output_type": "stream",
     "text": [
      "8659  -  No title   http://ecx.images-amazon.com/images/I/51KA8qJIlCL._SY300_.jpg : 121\n"
     ]
    },
    {
     "data": {
      "text/html": [
       "<img src=\"http://ecx.images-amazon.com/images/I/51KA8qJIlCL._SY300_.jpg\"/>"
      ],
      "text/plain": [
       "<IPython.core.display.Image object>"
      ]
     },
     "metadata": {},
     "output_type": "display_data"
    },
    {
     "name": "stdout",
     "output_type": "stream",
     "text": [
      "7163  -  No title   http://ecx.images-amazon.com/images/I/415TMngowzL._SY300_.jpg : 116\n"
     ]
    },
    {
     "data": {
      "text/html": [
       "<img src=\"http://ecx.images-amazon.com/images/I/415TMngowzL._SY300_.jpg\"/>"
      ],
      "text/plain": [
       "<IPython.core.display.Image object>"
      ]
     },
     "metadata": {},
     "output_type": "display_data"
    },
    {
     "name": "stdout",
     "output_type": "stream",
     "text": [
      "3536  -  No title   http://ecx.images-amazon.com/images/I/41Io17jh4IL._SY300_.jpg : 109\n"
     ]
    },
    {
     "data": {
      "text/html": [
       "<img src=\"http://ecx.images-amazon.com/images/I/41Io17jh4IL._SY300_.jpg\"/>"
      ],
      "text/plain": [
       "<IPython.core.display.Image object>"
      ]
     },
     "metadata": {},
     "output_type": "display_data"
    },
    {
     "name": "stdout",
     "output_type": "stream",
     "text": [
      "8401  -  No title   http://ecx.images-amazon.com/images/I/51kH-voitsL._SY300_.jpg : 105\n"
     ]
    },
    {
     "data": {
      "text/html": [
       "<img src=\"http://ecx.images-amazon.com/images/I/51kH-voitsL._SY300_.jpg\"/>"
      ],
      "text/plain": [
       "<IPython.core.display.Image object>"
      ]
     },
     "metadata": {},
     "output_type": "display_data"
    }
   ],
   "source": [
    "show_game_list(rating3.head(5))"
   ]
  },
  {
   "cell_type": "markdown",
   "metadata": {},
   "source": [
    "### Отлично, в топе только новинки"
   ]
  },
  {
   "cell_type": "code",
   "execution_count": 31,
   "metadata": {},
   "outputs": [
    {
     "name": "stdout",
     "output_type": "stream",
     "text": [
      "HR@10:  0.09405722670579604\n"
     ]
    }
   ],
   "source": [
    "print(\"HR@10: \", hit_ratio( get_NonPers_dict( training_dict, test_dict, rating3), test_dict) )"
   ]
  },
  {
   "cell_type": "markdown",
   "metadata": {},
   "source": [
    "#### `HR@10` для non-personalized модели, созданной автором блокнота: 0.055"
   ]
  },
  {
   "cell_type": "markdown",
   "metadata": {},
   "source": [
    "### Подсказки\n",
    "Подумайте, какие игры обычно приобретают люди. \n",
    "* Какие свойства, помимо, популярности могут помочь покупателю выбрать игру, если у него нет явных предпочтений? \n",
    "* Можно ли как-нибудь использовать рейтинги или время публикации отзывов?"
   ]
  },
  {
   "cell_type": "markdown",
   "metadata": {
    "collapsed": true
   },
   "source": [
    "## Content-based RS"
   ]
  },
  {
   "cell_type": "markdown",
   "metadata": {},
   "source": [
    "Простая content-based рекомендательная система описывает пользователей и объекты как вектора в некотором N-мерном пространстве фич. Вектор объекта показывает, насколько объект принадлежит к той или иной фиче. Вектор пользователя показывает, насколько пользователь предпочитает ту или иную фичу. Рекомендации строятся путем поиска объектов, чьи вектора похожи на вектор предпочтений пользователя. Предполагается, что чем более похожи вектора пользователя и объекта, тем интереснее этот объект пользователю."
   ]
  },
  {
   "cell_type": "code",
   "execution_count": 32,
   "metadata": {},
   "outputs": [
    {
     "data": {
      "text/plain": [
       "970    773\n",
       "164    634\n",
       "500    443\n",
       "300    414\n",
       "851    382\n",
       "Name: uid, dtype: int64"
      ]
     },
     "execution_count": 32,
     "metadata": {},
     "output_type": "execute_result"
    }
   ],
   "source": [
    "# посчитаем количество рейтингов на пользователя\n",
    "r_per_user = training_df.uid.value_counts()\n",
    "r_per_user.head()"
   ]
  },
  {
   "cell_type": "markdown",
   "metadata": {},
   "source": [
    "### Создадим toy-dataset"
   ]
  },
  {
   "cell_type": "code",
   "execution_count": 33,
   "metadata": {},
   "outputs": [
    {
     "data": {
      "text/plain": [
       "array([9527,  392, 1124, 4043,   83,  997,  970, 9274, 3254,  296], dtype=int64)"
      ]
     },
     "execution_count": 33,
     "metadata": {},
     "output_type": "execute_result"
    }
   ],
   "source": [
    "# посчитаем количество рейтингов на пользователя\n",
    "r_per_user = training_df.uid.value_counts()\n",
    "# оставим только 10 пользователей с 50 рейтингами\n",
    "good_uids = np.random.choice(r_per_user[r_per_user > 50].index, size=10, replace=False)\n",
    "good_uids"
   ]
  },
  {
   "cell_type": "code",
   "execution_count": 34,
   "metadata": {},
   "outputs": [
    {
     "data": {
      "text/plain": [
       "(185427, 5)"
      ]
     },
     "execution_count": 34,
     "metadata": {},
     "output_type": "execute_result"
    }
   ],
   "source": [
    "training_df.shape"
   ]
  },
  {
   "cell_type": "code",
   "execution_count": 35,
   "metadata": {},
   "outputs": [
    {
     "data": {
      "text/plain": [
       "(1443, 5)"
      ]
     },
     "execution_count": 35,
     "metadata": {},
     "output_type": "execute_result"
    }
   ],
   "source": [
    "training_df10 = training_df[training_df.uid.isin(good_uids)]\n",
    "training_df10.shape"
   ]
  },
  {
   "cell_type": "code",
   "execution_count": 36,
   "metadata": {},
   "outputs": [
    {
     "data": {
      "text/html": [
       "<div>\n",
       "<style>\n",
       "    .dataframe thead tr:only-child th {\n",
       "        text-align: right;\n",
       "    }\n",
       "\n",
       "    .dataframe thead th {\n",
       "        text-align: left;\n",
       "    }\n",
       "\n",
       "    .dataframe tbody tr th {\n",
       "        vertical-align: top;\n",
       "    }\n",
       "</style>\n",
       "<table border=\"1\" class=\"dataframe\">\n",
       "  <thead>\n",
       "    <tr style=\"text-align: right;\">\n",
       "      <th></th>\n",
       "      <th>uid</th>\n",
       "      <th>iid</th>\n",
       "      <th>review</th>\n",
       "      <th>rating</th>\n",
       "      <th>dt</th>\n",
       "    </tr>\n",
       "  </thead>\n",
       "  <tbody>\n",
       "    <tr>\n",
       "      <th>83</th>\n",
       "      <td>83</td>\n",
       "      <td>7</td>\n",
       "      <td>This is a great and cheap memory card. It is w...</td>\n",
       "      <td>5.0</td>\n",
       "      <td>1332806400</td>\n",
       "    </tr>\n",
       "    <tr>\n",
       "      <th>323</th>\n",
       "      <td>296</td>\n",
       "      <td>28</td>\n",
       "      <td>Even though this game is almost 15 years old a...</td>\n",
       "      <td>5.0</td>\n",
       "      <td>1320105600</td>\n",
       "    </tr>\n",
       "    <tr>\n",
       "      <th>440</th>\n",
       "      <td>392</td>\n",
       "      <td>35</td>\n",
       "      <td>with this game you play through each level in ...</td>\n",
       "      <td>5.0</td>\n",
       "      <td>1343606400</td>\n",
       "    </tr>\n",
       "    <tr>\n",
       "      <th>510</th>\n",
       "      <td>392</td>\n",
       "      <td>36</td>\n",
       "      <td>before this the racing games were race around ...</td>\n",
       "      <td>5.0</td>\n",
       "      <td>1339372800</td>\n",
       "    </tr>\n",
       "    <tr>\n",
       "      <th>814</th>\n",
       "      <td>296</td>\n",
       "      <td>44</td>\n",
       "      <td>THQ's second American release is a huge leap i...</td>\n",
       "      <td>5.0</td>\n",
       "      <td>998179200</td>\n",
       "    </tr>\n",
       "  </tbody>\n",
       "</table>\n",
       "</div>"
      ],
      "text/plain": [
       "     uid  iid                                             review  rating  \\\n",
       "83    83    7  This is a great and cheap memory card. It is w...     5.0   \n",
       "323  296   28  Even though this game is almost 15 years old a...     5.0   \n",
       "440  392   35  with this game you play through each level in ...     5.0   \n",
       "510  392   36  before this the racing games were race around ...     5.0   \n",
       "814  296   44  THQ's second American release is a huge leap i...     5.0   \n",
       "\n",
       "             dt  \n",
       "83   1332806400  \n",
       "323  1320105600  \n",
       "440  1343606400  \n",
       "510  1339372800  \n",
       "814   998179200  "
      ]
     },
     "execution_count": 36,
     "metadata": {},
     "output_type": "execute_result"
    }
   ],
   "source": [
    "training_df10.head()"
   ]
  },
  {
   "cell_type": "markdown",
   "metadata": {},
   "source": [
    "### Посчитаем TFIDF"
   ]
  },
  {
   "cell_type": "code",
   "execution_count": 65,
   "metadata": {},
   "outputs": [
    {
     "data": {
      "text/plain": [
       "1328"
      ]
     },
     "execution_count": 65,
     "metadata": {},
     "output_type": "execute_result"
    }
   ],
   "source": [
    "training_df10.iid.unique().size"
   ]
  },
  {
   "cell_type": "code",
   "execution_count": 66,
   "metadata": {
    "collapsed": true
   },
   "outputs": [],
   "source": [
    "def get_games(df):\n",
    "    games = df.iid.value_counts().copy().apply(lambda i: \"\") \n",
    "    for index, row in df.iterrows():\n",
    "        games.set_value(value= games[row.iid] + \" \" + row.review,label=row.iid)\n",
    "    return games;\n"
   ]
  },
  {
   "cell_type": "code",
   "execution_count": 67,
   "metadata": {},
   "outputs": [
    {
     "data": {
      "text/plain": [
       "2894     one of Sony's greatest video game series of a...\n",
       "3920     god of war is 1 of Sony's most popular video ...\n",
       "1354     This is a 10 year old classic crime drama act...\n",
       "2437     i love the ps2 a lot.  this look like a mirro...\n",
       "6814     What can anyone say except the batman Arkham ...\n",
       "Name: iid, dtype: object"
      ]
     },
     "execution_count": 67,
     "metadata": {},
     "output_type": "execute_result"
    }
   ],
   "source": [
    "games10 = get_games(training_df10)\n",
    "games10.head()"
   ]
  },
  {
   "cell_type": "code",
   "execution_count": 68,
   "metadata": {},
   "outputs": [],
   "source": [
    "texts10 = training_df10[\"review\"].values"
   ]
  },
  {
   "cell_type": "code",
   "execution_count": 69,
   "metadata": {},
   "outputs": [
    {
     "data": {
      "text/plain": [
       "TfidfVectorizer(analyzer='word', binary=False, decode_error='strict',\n",
       "        dtype=<class 'numpy.int64'>, encoding='utf-8', input='content',\n",
       "        lowercase=True, max_df=1.0, max_features=None, min_df=1,\n",
       "        ngram_range=(1, 1), norm='l2', preprocessor=None, smooth_idf=True,\n",
       "        stop_words='english', strip_accents=None, sublinear_tf=False,\n",
       "        token_pattern='(?u)\\\\b\\\\w\\\\w+\\\\b', tokenizer=None, use_idf=True,\n",
       "        vocabulary=None)"
      ]
     },
     "execution_count": 69,
     "metadata": {},
     "output_type": "execute_result"
    }
   ],
   "source": [
    "from sklearn.feature_extraction.text import TfidfVectorizer\n",
    "tfidf = TfidfVectorizer(stop_words='english')\n",
    "tfidf.fit(texts10)"
   ]
  },
  {
   "cell_type": "markdown",
   "metadata": {},
   "source": [
    "### Создадим профиль объекта"
   ]
  },
  {
   "cell_type": "code",
   "execution_count": 84,
   "metadata": {},
   "outputs": [
    {
     "data": {
      "text/plain": [
       "2894     one of Sony's greatest video game series of a...\n",
       "Name: iid, dtype: object"
      ]
     },
     "execution_count": 84,
     "metadata": {},
     "output_type": "execute_result"
    }
   ],
   "source": [
    "target_g = games10.head(1)\n",
    "target_g"
   ]
  },
  {
   "cell_type": "code",
   "execution_count": 124,
   "metadata": {},
   "outputs": [
    {
     "data": {
      "text/plain": [
       "<1x18726 sparse matrix of type '<class 'numpy.float64'>'\n",
       "\twith 401 stored elements in Compressed Sparse Row format>"
      ]
     },
     "execution_count": 124,
     "metadata": {},
     "output_type": "execute_result"
    }
   ],
   "source": [
    "item_profile = tfidf.transform([target_g.values[0]])\n",
    "item_profile"
   ]
  },
  {
   "cell_type": "code",
   "execution_count": 87,
   "metadata": {},
   "outputs": [
    {
     "name": "stdout",
     "output_type": "stream",
     "text": [
      "kratos : 0.253762159708\n",
      "aries : 0.244945462987\n",
      "god : 0.221601708594\n",
      "puzzles : 0.144947817276\n",
      "war : 0.143883924127\n",
      "action : 0.134947981218\n",
      "game : 0.133069991595\n",
      "greek : 0.126881079854\n",
      "fighting : 0.124025634216\n",
      "enemies : 0.117598044818\n",
      "music : 0.10450684612\n",
      "fluid : 0.101226008008\n",
      "awesome : 0.100209612169\n",
      "pawn : 0.0979781851947\n",
      "great : 0.0943091070717\n",
      "story : 0.0918704537851\n",
      "sound : 0.0892769545201\n",
      "orchestra : 0.0864104276167\n",
      "mature : 0.086312563471\n",
      "epic : 0.0856183006569\n",
      "pumping : 0.0845873865692\n",
      "execute : 0.0815409130357\n",
      "gods : 0.0802396881581\n",
      "clever : 0.0790517629164\n",
      "giant : 0.078485400427\n",
      "battles : 0.0775436808729\n",
      "gigantic : 0.0769472164776\n",
      "standard : 0.0753630278612\n",
      "lightning : 0.0742964960965\n",
      "analog : 0.0742964960965\n",
      "adventure : 0.0728363745902\n",
      "playing : 0.0713693886231\n",
      "ps2 : 0.0704243203405\n",
      "slay : 0.0701695980955\n",
      "kudos : 0.0701695980955\n",
      "themes : 0.0695885517773\n",
      "controls : 0.069163689074\n",
      "hiding : 0.069031228363\n",
      "visuals : 0.0679805156108\n",
      "diverse : 0.0679805156108\n",
      "em : 0.0670049201198\n",
      "button : 0.063814311283\n",
      "violence : 0.0619483816856\n",
      "let : 0.0608602535948\n",
      "history : 0.0607063869563\n",
      "core : 0.0607063869563\n",
      "high : 0.0602578927673\n",
      "combat : 0.0600609797918\n",
      "allows : 0.0590325553479\n",
      "end : 0.058917680604\n",
      "death : 0.0570788671046\n",
      "break : 0.0568532003505\n",
      "feeling : 0.0561977531518\n",
      "boss : 0.055777642227\n",
      "definitely : 0.0553545483907\n",
      "magic : 0.0551707633035\n",
      "stick : 0.0547806645424\n",
      "play : 0.0546740852215\n",
      "need : 0.0546654773098\n",
      "feel : 0.0542186495838\n",
      "minutes : 0.0529816808188\n",
      "blood : 0.0528141630389\n",
      "beautiful : 0.0528141630389\n",
      "talk : 0.0523236002847\n",
      "beat : 0.0521639197769\n",
      "volt : 0.0517569044238\n",
      "suggested : 0.0517569044238\n",
      "spam : 0.0517569044238\n",
      "sedate : 0.0517569044238\n",
      "racking : 0.0517569044238\n",
      "poseidon : 0.0517569044238\n",
      "ontop : 0.0517569044238\n",
      "inadvertently : 0.0517569044238\n",
      "gushes : 0.0517569044238\n",
      "gounging : 0.0517569044238\n",
      "gorgons : 0.0517569044238\n",
      "engraved : 0.0517569044238\n",
      "disguised : 0.0517569044238\n",
      "daunting : 0.0517569044238\n",
      "cyclopes : 0.0517569044238\n",
      "cussing : 0.0517569044238\n",
      "contrasting : 0.0517569044238\n",
      "beefy : 0.0517569044238\n",
      "achieves : 0.0517569044238\n",
      "fine : 0.0510955794847\n",
      "buttons : 0.0509495617529\n",
      "zeus : 0.0489890925974\n",
      "sexuality : 0.0489890925974\n",
      "powerup : 0.0489890925974\n",
      "minotaur : 0.0489890925974\n",
      "medusas : 0.0489890925974\n",
      "medusa : 0.0489890925974\n",
      "hydras : 0.0489890925974\n",
      "greece : 0.0489890925974\n",
      "consumption : 0.0489890925974\n",
      "bloodshed : 0.0489890925974\n",
      "blockiness : 0.0489890925974\n",
      "amazement : 0.0489890925974\n",
      "true : 0.048315939092\n",
      "looks : 0.0476156559654\n",
      "jump : 0.0476156559654\n",
      "things : 0.0472860538249\n",
      "sounds : 0.0470583325511\n",
      "tackled : 0.0470252988542\n",
      "selects : 0.0470252988542\n",
      "obtain : 0.0470252988542\n",
      "nudity : 0.0470252988542\n",
      "mythology : 0.0470252988542\n",
      "freely : 0.0470252988542\n",
      "ferrying : 0.0470252988542\n",
      "excellently : 0.0470252988542\n",
      "empowering : 0.0470252988542\n",
      "decapitating : 0.0470252988542\n",
      "awe : 0.0470252988542\n",
      "alcohol : 0.0470252988542\n",
      "kill : 0.0469495468936\n",
      "change : 0.046628296124\n",
      "different : 0.0458661630831\n",
      "entire : 0.0455111095266\n",
      "vistas : 0.0455020620874\n",
      "upgradable : 0.0455020620874\n",
      "swirl : 0.0455020620874\n",
      "profanity : 0.0455020620874\n",
      "nooks : 0.0455020620874\n",
      "mythological : 0.0455020620874\n",
      "horizon : 0.0455020620874\n",
      "head : 0.0453174534033\n",
      "attack : 0.045032024308\n",
      "certain : 0.0448450004548\n",
      "mow : 0.0442574870278\n",
      "happening : 0.0442574870278\n",
      "goods : 0.0442574870278\n",
      "gaze : 0.0442574870278\n",
      "damn : 0.0442574870278\n",
      "rating : 0.044033720556\n",
      "probably : 0.0436880684791\n",
      "really : 0.0433281428862\n",
      "swimming : 0.0432052138084\n",
      "staggering : 0.0432052138084\n",
      "spoil : 0.0432052138084\n",
      "ropes : 0.0432052138084\n",
      "rage : 0.0432052138084\n",
      "overpowered : 0.0432052138084\n",
      "million : 0.0432052138084\n",
      "jaw : 0.0432052138084\n",
      "gory : 0.0432052138084\n",
      "conclusion : 0.0432052138084\n",
      "quickly : 0.0427007086377\n",
      "comes : 0.0426215633275\n",
      "skeletons : 0.0422936932846\n",
      "mp3 : 0.0422936932846\n",
      "hasn : 0.0422936932846\n",
      "fortress : 0.0422936932846\n",
      "said : 0.0421560911599\n",
      "amazing : 0.0417059670563\n",
      "whipping : 0.0414896752014\n",
      "stylized : 0.0414896752014\n",
      "minions : 0.0414896752014\n",
      "legions : 0.0414896752014\n",
      "crawling : 0.0414896752014\n",
      "chains : 0.0414896752014\n",
      "temporary : 0.0407704565178\n",
      "rushed : 0.0407704565178\n",
      "pressure : 0.0407704565178\n",
      "overs : 0.0407704565178\n",
      "gladiator : 0.0407704565178\n",
      "distant : 0.0407704565178\n",
      "saga : 0.040119844079\n",
      "burst : 0.040119844079\n",
      "hard : 0.0399106281376\n",
      "looking : 0.0396542351042\n",
      "bad : 0.0395908821933\n",
      "millions : 0.0395258814582\n",
      "integrated : 0.0395258814582\n",
      "emphasis : 0.0395258814582\n",
      "earns : 0.0395258814582\n",
      "enemy : 0.0393403700679\n",
      "unlockables : 0.0389794888131\n",
      "sexual : 0.0389794888131\n",
      "patterns : 0.0389794888131\n",
      "diversity : 0.0389794888131\n",
      "logical : 0.0384736082388\n",
      "wildly : 0.0380026446914\n",
      "sticks : 0.0380026446914\n",
      "archers : 0.0380026446914\n",
      "finishing : 0.037562087715\n",
      "dragons : 0.037562087715\n",
      "nice : 0.0372181045769\n",
      "stone : 0.0371482480482\n",
      "selling : 0.0371482480482\n",
      "duck : 0.0371482480482\n",
      "darkness : 0.0371482480482\n",
      "bits : 0.0371482480482\n",
      "relaxing : 0.0367580696318\n",
      "delivers : 0.0363889925116\n",
      "brief : 0.0363889925116\n",
      "timed : 0.0360388509483\n",
      "spell : 0.0360388509483\n",
      "shoulder : 0.0360388509483\n",
      "reflect : 0.0360388509483\n",
      "kills : 0.0360388509483\n",
      "desert : 0.0360388509483\n",
      "style : 0.0359023993785\n",
      "best : 0.0359023993785\n",
      "wife : 0.0357057964124\n",
      "soul : 0.0357057964124\n",
      "sold : 0.0357057964124\n",
      "hanging : 0.0357057964124\n",
      "greatest : 0.0357057964124\n",
      "count : 0.0357057964124\n",
      "ancient : 0.0357057964124\n",
      "know : 0.0355688131688\n",
      "completing : 0.0353882385095\n",
      "start : 0.0351059712927\n",
      "frustrated : 0.0350847990477\n",
      "say : 0.0348356153734\n",
      "sony : 0.0347942758886\n",
      "child : 0.0347942758886\n",
      "dying : 0.0345156141815\n",
      "slaying : 0.0342478832435\n",
      "enjoying : 0.0342478832435\n",
      "look : 0.0341397945864\n",
      "right : 0.0340552585405\n",
      "loading : 0.0339902578054\n",
      "generation : 0.0339902578054\n",
      "fresh : 0.0339902578054\n",
      "corner : 0.0337420026692\n",
      "bloody : 0.0337420026692\n",
      "dodge : 0.0335024600599\n",
      "quiet : 0.0332710391219\n",
      "charge : 0.0332710391219\n",
      "swinging : 0.0330472071383\n",
      "blocky : 0.0330472071383\n",
      "weak : 0.0328304821455\n",
      "foes : 0.0328304821455\n",
      "army : 0.0328304821455\n",
      "screens : 0.0326204266831\n",
      "pace : 0.0324166424787\n",
      "require : 0.0322187659024\n",
      "pad : 0.0322187659024\n",
      "double : 0.0322187659024\n",
      "block : 0.0320264640622\n",
      "just : 0.0318930071374\n",
      "warrior : 0.0318394314341\n",
      "inside : 0.0318394314341\n",
      "bosses : 0.0318394314341\n",
      "waiting : 0.031657386942\n",
      "mechanics : 0.031657386942\n",
      "little : 0.0316294613321\n",
      "told : 0.0314800714171\n",
      "tactics : 0.0314800714171\n",
      "drawn : 0.0314800714171\n",
      "push : 0.0313072453787\n",
      "heart : 0.0313072453787\n",
      "roll : 0.031138687089\n",
      "food : 0.031138687089\n",
      "standing : 0.0309741908428\n",
      "mixed : 0.0309741908428\n",
      "hack : 0.0309741908428\n",
      "defeat : 0.0309741908428\n",
      "value : 0.030813565458\n",
      "changes : 0.030813565458\n",
      "meet : 0.0306566329399\n",
      "information : 0.0306566329399\n",
      "reasons : 0.0305032272955\n",
      "mentioned : 0.0305032272955\n",
      "heard : 0.0303531934782\n",
      "energy : 0.0303531934782\n",
      "world : 0.0303507044728\n",
      "eye : 0.030206386446\n",
      "bored : 0.030206386446\n",
      "spells : 0.0300626703191\n",
      "drop : 0.0300626703191\n",
      "oh : 0.0299219176234\n",
      "keeping : 0.0297840086119\n",
      "depth : 0.0297840086119\n",
      "stealth : 0.0296488306523\n",
      "slash : 0.0296488306523\n",
      "tons : 0.029516277674\n",
      "powerful : 0.0293862496684\n",
      "heavy : 0.0293862496684\n",
      "seeing : 0.0292586522358\n",
      "admit : 0.0290103970996\n",
      "quest : 0.0286541633772\n",
      "ok : 0.0285394335523\n",
      "damage : 0.0285394335523\n",
      "test : 0.0284266001752\n",
      "skill : 0.0284266001752\n",
      "larger : 0.0284266001752\n",
      "finish : 0.0284266001752\n",
      "environments : 0.0283156015688\n",
      "incredible : 0.0282063790164\n",
      "turns : 0.0280988765759\n",
      "specific : 0.0280988765759\n",
      "way : 0.0279690551277\n",
      "elements : 0.0278888211135\n",
      "win : 0.0277861685942\n",
      "nicely : 0.0277861685942\n",
      "content : 0.0277861685942\n",
      "adult : 0.0277861685942\n",
      "gameplay : 0.0277814806473\n",
      "throw : 0.0276850369091\n",
      "smooth : 0.0276850369091\n",
      "soldiers : 0.0275853816518\n",
      "solid : 0.0272948584927\n",
      "water : 0.0272007016359\n",
      "man : 0.0272007016359\n",
      "guy : 0.0272007016359\n",
      "wasn : 0.0271078258645\n",
      "issue : 0.0271078258645\n",
      "console : 0.0271078258645\n",
      "excellent : 0.0270161967855\n",
      "care : 0.0270161967855\n",
      "explore : 0.0269257813724\n",
      "stop : 0.026836547894\n",
      "current : 0.0266615058959\n",
      "deal : 0.0265756398091\n",
      "stand : 0.0263243379137\n",
      "design : 0.0263243379137\n",
      "non : 0.0257716217259\n",
      "wide : 0.0256961926281\n",
      "fantastic : 0.0256215879086\n",
      "time : 0.0255746676045\n",
      "days : 0.0255477897424\n",
      "puzzle : 0.0254025446057\n",
      "mini : 0.0252603256305\n",
      "female : 0.0252603256305\n",
      "lots : 0.0251903120538\n",
      "attacks : 0.0251210092871\n",
      "speed : 0.0249844794581\n",
      "monsters : 0.0249844794581\n",
      "guys : 0.0249172250827\n",
      "happy : 0.0246546440989\n",
      "replay : 0.0245905472534\n",
      "cut : 0.0245905472534\n"
     ]
    },
    {
     "name": "stdout",
     "output_type": "stream",
     "text": [
      "weapon : 0.0244641313463\n",
      "dark : 0.0244017906035\n",
      "won : 0.0243400140381\n",
      "rpg : 0.0242181132293\n",
      "features : 0.0240392489208\n",
      "detailed : 0.0239806540211\n",
      "came : 0.0239225578076\n",
      "video : 0.0238649518633\n",
      "seen : 0.0238649518633\n",
      "options : 0.0238078279827\n",
      "plus : 0.0235291662756\n",
      "classic : 0.0235291662756\n",
      "taking : 0.0234747734468\n",
      "goes : 0.0234747734468\n",
      "gamers : 0.023314148062\n",
      "gamer : 0.0232614353376\n",
      "scenes : 0.0232091265461\n",
      "battle : 0.0232091265461\n",
      "background : 0.0232091265461\n",
      "city : 0.0231056963266\n",
      "ways : 0.0230038098995\n",
      "graphics : 0.0229840112349\n",
      "job : 0.0227555547633\n",
      "fun : 0.0223616703227\n",
      "left : 0.0223302520142\n",
      "challenge : 0.0221941758029\n",
      "control : 0.0220607592324\n",
      "special : 0.022016860278\n",
      "moves : 0.0219732418299\n",
      "general : 0.0219299003263\n",
      "voice : 0.0218015028628\n",
      "easily : 0.0216754759499\n",
      "gaming : 0.0214301945728\n",
      "fact : 0.0214301945728\n",
      "recommend : 0.0213901577196\n",
      "turn : 0.0211934218007\n",
      "hours : 0.0210021974231\n",
      "gets : 0.0207069616204\n",
      "games : 0.0204917401812\n",
      "point : 0.0203894037175\n",
      "simply : 0.0201856195131\n",
      "getting : 0.0197639109534\n",
      "help : 0.0197012842399\n",
      "run : 0.019670185034\n",
      "screen : 0.0194865076597\n",
      "actually : 0.0192782830311\n",
      "thing : 0.0192199385401\n",
      "times : 0.0185825424924\n",
      "long : 0.0185561352491\n",
      "players : 0.0185036252679\n",
      "fan : 0.0184775209765\n",
      "enjoy : 0.0174625702333\n",
      "player : 0.0173733367549\n",
      "isn : 0.0173733367549\n",
      "set : 0.0172852547084\n",
      "played : 0.0171337941456\n",
      "real : 0.0168611267746\n",
      "love : 0.0167997206883\n",
      "series : 0.0166187487493\n",
      "better : 0.0162894750298\n",
      "ve : 0.0159934388797\n",
      "lot : 0.0158678536103\n",
      "characters : 0.0157445371027\n",
      "don : 0.0149696786703\n",
      "good : 0.0128670408751\n",
      "like : 0.00969887736076\n"
     ]
    }
   ],
   "source": [
    "ftr_id_to_term = {ftr_id: term for term, ftr_id in tfidf.vocabulary_.items()}\n",
    "for ftr_id, score in sorted(zip(item_profile.indices, item_profile.data), key=lambda x: x[1], reverse=True):\n",
    "    print(ftr_id_to_term[ftr_id], \":\", score)"
   ]
  },
  {
   "cell_type": "code",
   "execution_count": 135,
   "metadata": {},
   "outputs": [
    {
     "name": "stdout",
     "output_type": "stream",
     "text": [
      "1328\n"
     ]
    },
    {
     "data": {
      "text/plain": [
       "<1328x18726 sparse matrix of type '<class 'numpy.float64'>'\n",
       "\twith 178450 stored elements in Compressed Sparse Row format>"
      ]
     },
     "execution_count": 135,
     "metadata": {},
     "output_type": "execute_result"
    }
   ],
   "source": [
    "item_profiles = []\n",
    "for text in games10:\n",
    "    item_profiles.append(tfidf.transform([text]))\n",
    "print( len(item_profiles))\n",
    "item_profiles\n",
    "item_profiles = vstack(item_profiles, 'csr')\n",
    "item_profiles"
   ]
  },
  {
   "cell_type": "code",
   "execution_count": null,
   "metadata": {
    "collapsed": true
   },
   "outputs": [],
   "source": []
  },
  {
   "cell_type": "markdown",
   "metadata": {},
   "source": [
    "###  Создадим профиль пользователя"
   ]
  },
  {
   "cell_type": "code",
   "execution_count": 169,
   "metadata": {},
   "outputs": [],
   "source": [
    "def get_usersCB(df):\n",
    "    \n",
    "    users_mean = df.uid.value_counts().copy().apply(lambda i: 0.0)\n",
    "    for uid, value in users_mean.iteritems():\n",
    "        uid_df = df[df.uid == uid]\n",
    "        users_mean[uid] = uid_df.rating.mean()\n",
    "    \n",
    "    users = df.uid.value_counts().copy().apply(lambda i: \"\") \n",
    "    for index, row in df.iterrows():\n",
    "        if row.rating > users_mean[row.uid]:\n",
    "            users.set_value(value= users[row.uid] + \" \" + row.review,label=row.uid)\n",
    "    return users;"
   ]
  },
  {
   "cell_type": "code",
   "execution_count": 95,
   "metadata": {},
   "outputs": [
    {
     "data": {
      "text/plain": [
       "3254"
      ]
     },
     "execution_count": 95,
     "metadata": {},
     "output_type": "execute_result"
    }
   ],
   "source": [
    "uid = np.random.choice(good_uids)\n",
    "uid"
   ]
  },
  {
   "cell_type": "code",
   "execution_count": 98,
   "metadata": {},
   "outputs": [
    {
     "data": {
      "text/html": [
       "<div>\n",
       "<style>\n",
       "    .dataframe thead tr:only-child th {\n",
       "        text-align: right;\n",
       "    }\n",
       "\n",
       "    .dataframe thead th {\n",
       "        text-align: left;\n",
       "    }\n",
       "\n",
       "    .dataframe tbody tr th {\n",
       "        vertical-align: top;\n",
       "    }\n",
       "</style>\n",
       "<table border=\"1\" class=\"dataframe\">\n",
       "  <thead>\n",
       "    <tr style=\"text-align: right;\">\n",
       "      <th></th>\n",
       "      <th>uid</th>\n",
       "      <th>iid</th>\n",
       "      <th>review</th>\n",
       "      <th>rating</th>\n",
       "      <th>dt</th>\n",
       "    </tr>\n",
       "  </thead>\n",
       "  <tbody>\n",
       "    <tr>\n",
       "      <th>8080</th>\n",
       "      <td>3254</td>\n",
       "      <td>526</td>\n",
       "      <td>For it's time, this was probably the best Batm...</td>\n",
       "      <td>4.0</td>\n",
       "      <td>1321574400</td>\n",
       "    </tr>\n",
       "    <tr>\n",
       "      <th>36056</th>\n",
       "      <td>3254</td>\n",
       "      <td>2032</td>\n",
       "      <td>A lot of times, when I get a new system, I wil...</td>\n",
       "      <td>4.0</td>\n",
       "      <td>1318723200</td>\n",
       "    </tr>\n",
       "    <tr>\n",
       "      <th>75037</th>\n",
       "      <td>3254</td>\n",
       "      <td>4115</td>\n",
       "      <td>Though I started out with the original version...</td>\n",
       "      <td>5.0</td>\n",
       "      <td>1328832000</td>\n",
       "    </tr>\n",
       "    <tr>\n",
       "      <th>92694</th>\n",
       "      <td>3254</td>\n",
       "      <td>4961</td>\n",
       "      <td>Here is another X-Box 360/Playstation 3 gaming...</td>\n",
       "      <td>4.0</td>\n",
       "      <td>1319068800</td>\n",
       "    </tr>\n",
       "    <tr>\n",
       "      <th>97892</th>\n",
       "      <td>3254</td>\n",
       "      <td>5155</td>\n",
       "      <td>I am a big fan of the God of War games, and I ...</td>\n",
       "      <td>5.0</td>\n",
       "      <td>1329436800</td>\n",
       "    </tr>\n",
       "  </tbody>\n",
       "</table>\n",
       "</div>"
      ],
      "text/plain": [
       "        uid   iid                                             review  rating  \\\n",
       "8080   3254   526  For it's time, this was probably the best Batm...     4.0   \n",
       "36056  3254  2032  A lot of times, when I get a new system, I wil...     4.0   \n",
       "75037  3254  4115  Though I started out with the original version...     5.0   \n",
       "92694  3254  4961  Here is another X-Box 360/Playstation 3 gaming...     4.0   \n",
       "97892  3254  5155  I am a big fan of the God of War games, and I ...     5.0   \n",
       "\n",
       "               dt  \n",
       "8080   1321574400  \n",
       "36056  1318723200  \n",
       "75037  1328832000  \n",
       "92694  1319068800  \n",
       "97892  1329436800  "
      ]
     },
     "execution_count": 98,
     "metadata": {},
     "output_type": "execute_result"
    }
   ],
   "source": [
    "uid_df = training_df10[training_df10.uid == uid]\n",
    "uid_df.head()"
   ]
  },
  {
   "cell_type": "code",
   "execution_count": 99,
   "metadata": {},
   "outputs": [
    {
     "name": "stderr",
     "output_type": "stream",
     "text": [
      "C:\\ProgramData\\Anaconda3\\lib\\site-packages\\ipykernel_launcher.py:1: SettingWithCopyWarning: \n",
      "A value is trying to be set on a copy of a slice from a DataFrame.\n",
      "Try using .loc[row_indexer,col_indexer] = value instead\n",
      "\n",
      "See the caveats in the documentation: http://pandas.pydata.org/pandas-docs/stable/indexing.html#indexing-view-versus-copy\n",
      "  \"\"\"Entry point for launching an IPython kernel.\n"
     ]
    },
    {
     "data": {
      "text/html": [
       "<div>\n",
       "<style>\n",
       "    .dataframe thead tr:only-child th {\n",
       "        text-align: right;\n",
       "    }\n",
       "\n",
       "    .dataframe thead th {\n",
       "        text-align: left;\n",
       "    }\n",
       "\n",
       "    .dataframe tbody tr th {\n",
       "        vertical-align: top;\n",
       "    }\n",
       "</style>\n",
       "<table border=\"1\" class=\"dataframe\">\n",
       "  <thead>\n",
       "    <tr style=\"text-align: right;\">\n",
       "      <th></th>\n",
       "      <th>uid</th>\n",
       "      <th>iid</th>\n",
       "      <th>review</th>\n",
       "      <th>rating</th>\n",
       "      <th>dt</th>\n",
       "      <th>liked</th>\n",
       "    </tr>\n",
       "  </thead>\n",
       "  <tbody>\n",
       "    <tr>\n",
       "      <th>8080</th>\n",
       "      <td>3254</td>\n",
       "      <td>526</td>\n",
       "      <td>For it's time, this was probably the best Batm...</td>\n",
       "      <td>4.0</td>\n",
       "      <td>1321574400</td>\n",
       "      <td>0</td>\n",
       "    </tr>\n",
       "    <tr>\n",
       "      <th>36056</th>\n",
       "      <td>3254</td>\n",
       "      <td>2032</td>\n",
       "      <td>A lot of times, when I get a new system, I wil...</td>\n",
       "      <td>4.0</td>\n",
       "      <td>1318723200</td>\n",
       "      <td>0</td>\n",
       "    </tr>\n",
       "    <tr>\n",
       "      <th>75037</th>\n",
       "      <td>3254</td>\n",
       "      <td>4115</td>\n",
       "      <td>Though I started out with the original version...</td>\n",
       "      <td>5.0</td>\n",
       "      <td>1328832000</td>\n",
       "      <td>1</td>\n",
       "    </tr>\n",
       "    <tr>\n",
       "      <th>92694</th>\n",
       "      <td>3254</td>\n",
       "      <td>4961</td>\n",
       "      <td>Here is another X-Box 360/Playstation 3 gaming...</td>\n",
       "      <td>4.0</td>\n",
       "      <td>1319068800</td>\n",
       "      <td>0</td>\n",
       "    </tr>\n",
       "    <tr>\n",
       "      <th>97892</th>\n",
       "      <td>3254</td>\n",
       "      <td>5155</td>\n",
       "      <td>I am a big fan of the God of War games, and I ...</td>\n",
       "      <td>5.0</td>\n",
       "      <td>1329436800</td>\n",
       "      <td>1</td>\n",
       "    </tr>\n",
       "  </tbody>\n",
       "</table>\n",
       "</div>"
      ],
      "text/plain": [
       "        uid   iid                                             review  rating  \\\n",
       "8080   3254   526  For it's time, this was probably the best Batm...     4.0   \n",
       "36056  3254  2032  A lot of times, when I get a new system, I wil...     4.0   \n",
       "75037  3254  4115  Though I started out with the original version...     5.0   \n",
       "92694  3254  4961  Here is another X-Box 360/Playstation 3 gaming...     4.0   \n",
       "97892  3254  5155  I am a big fan of the God of War games, and I ...     5.0   \n",
       "\n",
       "               dt  liked  \n",
       "8080   1321574400      0  \n",
       "36056  1318723200      0  \n",
       "75037  1328832000      1  \n",
       "92694  1319068800      0  \n",
       "97892  1329436800      1  "
      ]
     },
     "execution_count": 99,
     "metadata": {},
     "output_type": "execute_result"
    }
   ],
   "source": [
    "uid_df[\"liked\"] = (uid_df.rating >= uid_df.rating.mean()).astype(int)\n",
    "uid_df.head()"
   ]
  },
  {
   "cell_type": "code",
   "execution_count": 100,
   "metadata": {},
   "outputs": [
    {
     "data": {
      "text/plain": [
       "1    34\n",
       "0    19\n",
       "Name: liked, dtype: int64"
      ]
     },
     "execution_count": 100,
     "metadata": {},
     "output_type": "execute_result"
    }
   ],
   "source": [
    "uid_df.liked.value_counts()"
   ]
  },
  {
   "cell_type": "code",
   "execution_count": 114,
   "metadata": {},
   "outputs": [],
   "source": [
    "user_text = \"\";\n",
    "for t in uid_df.itertuples():\n",
    "    if t.iid in games10.keys() and t.liked :\n",
    "        user_text += \" \" + t.review"
   ]
  },
  {
   "cell_type": "code",
   "execution_count": 133,
   "metadata": {},
   "outputs": [
    {
     "data": {
      "text/plain": [
       "<1x18726 sparse matrix of type '<class 'numpy.float64'>'\n",
       "\twith 1576 stored elements in Compressed Sparse Row format>"
      ]
     },
     "execution_count": 133,
     "metadata": {},
     "output_type": "execute_result"
    }
   ],
   "source": [
    "user_profile = tfidf.transform([user_text])\n",
    "user_profile"
   ]
  },
  {
   "cell_type": "markdown",
   "metadata": {},
   "source": [
    "### CBRS"
   ]
  },
  {
   "cell_type": "code",
   "execution_count": 146,
   "metadata": {},
   "outputs": [],
   "source": [
    "sims = cosine_similarity(user_profile, item_profiles)"
   ]
  },
  {
   "cell_type": "code",
   "execution_count": 147,
   "metadata": {},
   "outputs": [
    {
     "data": {
      "text/plain": [
       "(1199, 0.5337518872826591)"
      ]
     },
     "execution_count": 147,
     "metadata": {},
     "output_type": "execute_result"
    }
   ],
   "source": [
    "best_iid = np.argsort(sims[0])[-1]\n",
    "best_iid, sims[0, best_iid]"
   ]
  },
  {
   "cell_type": "code",
   "execution_count": 148,
   "metadata": {},
   "outputs": [
    {
     "data": {
      "text/plain": [
       "1328"
      ]
     },
     "execution_count": 148,
     "metadata": {},
     "output_type": "execute_result"
    }
   ],
   "source": [
    "len( np.argsort(sims[0]))"
   ]
  },
  {
   "cell_type": "code",
   "execution_count": 149,
   "metadata": {},
   "outputs": [
    {
     "data": {
      "text/plain": [
       "1328"
      ]
     },
     "execution_count": 149,
     "metadata": {},
     "output_type": "execute_result"
    }
   ],
   "source": [
    "len( games10)"
   ]
  },
  {
   "cell_type": "code",
   "execution_count": 159,
   "metadata": {},
   "outputs": [
    {
     "data": {
      "text/plain": [
       "9580    0.533752\n",
       "6394    0.450482\n",
       "7585    0.444263\n",
       "8516    0.420519\n",
       "8022    0.411922\n",
       "Name: iid, dtype: float64"
      ]
     },
     "execution_count": 159,
     "metadata": {},
     "output_type": "execute_result"
    }
   ],
   "source": [
    "rating4_toy = games10.copy().apply(lambda i: 0.0) \n",
    "i = 0\n",
    "for index, val in rating4_toy.iteritems():\n",
    "    rating4_toy.set_value(value=sims[0, i],label=index)\n",
    "    i += 1\n",
    "rating4_toy.sort_values(ascending=False, inplace=True)\n",
    "rating4_toy.head()"
   ]
  },
  {
   "cell_type": "code",
   "execution_count": 160,
   "metadata": {},
   "outputs": [
    {
     "name": "stdout",
     "output_type": "stream",
     "text": [
      "9580  -  No title   http://ecx.images-amazon.com/images/I/51m%2BFcXCDwL._SY300_.jpg : 0.533751887283\n"
     ]
    },
    {
     "data": {
      "text/html": [
       "<img src=\"http://ecx.images-amazon.com/images/I/51m%2BFcXCDwL._SY300_.jpg\"/>"
      ],
      "text/plain": [
       "<IPython.core.display.Image object>"
      ]
     },
     "metadata": {},
     "output_type": "display_data"
    },
    {
     "name": "stdout",
     "output_type": "stream",
     "text": [
      "6394  -  No title   http://ecx.images-amazon.com/images/I/61g8yPKo0gL._SY300_.jpg : 0.450482380793\n"
     ]
    },
    {
     "data": {
      "text/html": [
       "<img src=\"http://ecx.images-amazon.com/images/I/61g8yPKo0gL._SY300_.jpg\"/>"
      ],
      "text/plain": [
       "<IPython.core.display.Image object>"
      ]
     },
     "metadata": {},
     "output_type": "display_data"
    },
    {
     "name": "stdout",
     "output_type": "stream",
     "text": [
      "7585  -  No title   http://ecx.images-amazon.com/images/I/51s%2BMQarztL._SY300_.jpg : 0.444263433222\n"
     ]
    },
    {
     "data": {
      "text/html": [
       "<img src=\"http://ecx.images-amazon.com/images/I/51s%2BMQarztL._SY300_.jpg\"/>"
      ],
      "text/plain": [
       "<IPython.core.display.Image object>"
      ]
     },
     "metadata": {},
     "output_type": "display_data"
    },
    {
     "name": "stdout",
     "output_type": "stream",
     "text": [
      "8516  -  No title   http://ecx.images-amazon.com/images/I/51H5mieNudL._SY300_.jpg : 0.420519133296\n"
     ]
    },
    {
     "data": {
      "text/html": [
       "<img src=\"http://ecx.images-amazon.com/images/I/51H5mieNudL._SY300_.jpg\"/>"
      ],
      "text/plain": [
       "<IPython.core.display.Image object>"
      ]
     },
     "metadata": {},
     "output_type": "display_data"
    },
    {
     "name": "stdout",
     "output_type": "stream",
     "text": [
      "8022  -  No title   http://ecx.images-amazon.com/images/I/51fwmj14GAL._SY300_.jpg : 0.41192249957\n"
     ]
    },
    {
     "data": {
      "text/html": [
       "<img src=\"http://ecx.images-amazon.com/images/I/51fwmj14GAL._SY300_.jpg\"/>"
      ],
      "text/plain": [
       "<IPython.core.display.Image object>"
      ]
     },
     "metadata": {},
     "output_type": "display_data"
    }
   ],
   "source": [
    "show_game_list(rating4_toy.head(5))"
   ]
  },
  {
   "cell_type": "markdown",
   "metadata": {},
   "source": [
    "### Видно, что в что все игры, это топовые 3D экшены на PS3, можно предположить, \n",
    "### что это любимая тематика пользователя, \n",
    "### а значит алгоритм работает верно"
   ]
  },
  {
   "cell_type": "markdown",
   "metadata": {},
   "source": [
    "# Начнем обработку основных данных\n",
    "### Посчитаем TFIDF"
   ]
  },
  {
   "cell_type": "code",
   "execution_count": 162,
   "metadata": {},
   "outputs": [
    {
     "data": {
      "text/plain": [
       "10098"
      ]
     },
     "execution_count": 162,
     "metadata": {},
     "output_type": "execute_result"
    }
   ],
   "source": [
    "training_df.iid.unique().size"
   ]
  },
  {
   "cell_type": "code",
   "execution_count": 163,
   "metadata": {},
   "outputs": [
    {
     "data": {
      "text/plain": [
       "5390     GREAT INVESTMENT VERY PLEASED THE COLOR IS BE...\n",
       "3323     Buy the wii if you have kids or like inviting...\n",
       "8659     The franchise is really showing its age, but ...\n",
       "5489     So far, I'm pretty happy with the third title...\n",
       "3536     Great product, great price!Buy Mega Man 9 and...\n",
       "Name: iid, dtype: object"
      ]
     },
     "execution_count": 163,
     "metadata": {},
     "output_type": "execute_result"
    }
   ],
   "source": [
    "gamesCB = get_games(training_df)\n",
    "gamesCB.head()"
   ]
  },
  {
   "cell_type": "code",
   "execution_count": 164,
   "metadata": {
    "collapsed": true
   },
   "outputs": [],
   "source": [
    "textsCB = training_df[\"review\"].values"
   ]
  },
  {
   "cell_type": "code",
   "execution_count": 165,
   "metadata": {},
   "outputs": [
    {
     "data": {
      "text/plain": [
       "TfidfVectorizer(analyzer='word', binary=False, decode_error='strict',\n",
       "        dtype=<class 'numpy.int64'>, encoding='utf-8', input='content',\n",
       "        lowercase=True, max_df=1.0, max_features=None, min_df=1,\n",
       "        ngram_range=(1, 1), norm='l2', preprocessor=None, smooth_idf=True,\n",
       "        stop_words='english', strip_accents=None, sublinear_tf=False,\n",
       "        token_pattern='(?u)\\\\b\\\\w\\\\w+\\\\b', tokenizer=None, use_idf=True,\n",
       "        vocabulary=None)"
      ]
     },
     "execution_count": 165,
     "metadata": {},
     "output_type": "execute_result"
    }
   ],
   "source": [
    "from sklearn.feature_extraction.text import TfidfVectorizer\n",
    "tfidfCB = TfidfVectorizer(stop_words='english')\n",
    "tfidfCB.fit(textsCB)"
   ]
  },
  {
   "cell_type": "markdown",
   "metadata": {},
   "source": [
    "### Создадим профили объектов"
   ]
  },
  {
   "cell_type": "code",
   "execution_count": 166,
   "metadata": {},
   "outputs": [
    {
     "name": "stdout",
     "output_type": "stream",
     "text": [
      "10098\n"
     ]
    },
    {
     "data": {
      "text/plain": [
       "<10098x197239 sparse matrix of type '<class 'numpy.float64'>'\n",
       "\twith 7356087 stored elements in Compressed Sparse Row format>"
      ]
     },
     "execution_count": 166,
     "metadata": {},
     "output_type": "execute_result"
    }
   ],
   "source": [
    "item_profilesCB = []\n",
    "for text in gamesCB:\n",
    "    item_profilesCB.append(tfidfCB.transform([text]))\n",
    "print( len(item_profilesCB))\n",
    "item_profilesCB = vstack(item_profilesCB, 'csr')\n",
    "item_profilesCB"
   ]
  },
  {
   "cell_type": "markdown",
   "metadata": {},
   "source": [
    "### Создадим профили пользователей"
   ]
  },
  {
   "cell_type": "code",
   "execution_count": 170,
   "metadata": {
    "collapsed": true
   },
   "outputs": [],
   "source": [
    "user_textsCB = get_usersCB(training_df)"
   ]
  },
  {
   "cell_type": "code",
   "execution_count": 171,
   "metadata": {},
   "outputs": [
    {
     "data": {
      "text/plain": [
       "970     The expansion pack beefs up the graphics capa...\n",
       "164     The original Grand Theft Auto was a classic f...\n",
       "500     For Nintendo, some of their most popular game...\n",
       "300     The Good: Game holds up 10 years later, one o...\n",
       "851     In 1999 everyone had gotten all excited about...\n",
       "Name: uid, dtype: object"
      ]
     },
     "execution_count": 171,
     "metadata": {},
     "output_type": "execute_result"
    }
   ],
   "source": [
    "user_textsCB.head()"
   ]
  },
  {
   "cell_type": "code",
   "execution_count": 172,
   "metadata": {
    "collapsed": true
   },
   "outputs": [],
   "source": [
    "user_profilesCB = training_df.uid.value_counts().copy().apply(lambda i: {})\n",
    "for uid, value in user_profilesCB.iteritems():\n",
    "    user_profilesCB[uid] = tfidfCB.transform([user_textsCB[uid]])"
   ]
  },
  {
   "cell_type": "code",
   "execution_count": 173,
   "metadata": {},
   "outputs": [
    {
     "data": {
      "text/plain": [
       "970      (0, 197106)\\t0.00218640391154\\n  (0, 197095)...\n",
       "164      (0, 197217)\\t0.00656707074223\\n  (0, 197152)...\n",
       "500      (0, 197176)\\t0.00162249131254\\n  (0, 197067)...\n",
       "300      (0, 197098)\\t0.00239574425524\\n  (0, 197095)...\n",
       "851      (0, 197092)\\t0.00112861438886\\n  (0, 197085)...\n",
       "Name: uid, dtype: object"
      ]
     },
     "execution_count": 173,
     "metadata": {},
     "output_type": "execute_result"
    }
   ],
   "source": [
    "user_profilesCB.head()"
   ]
  },
  {
   "cell_type": "code",
   "execution_count": 176,
   "metadata": {},
   "outputs": [
    {
     "data": {
      "text/plain": [
       "22215"
      ]
     },
     "execution_count": 176,
     "metadata": {},
     "output_type": "execute_result"
    }
   ],
   "source": [
    "len(user_profilesCB)"
   ]
  },
  {
   "cell_type": "markdown",
   "metadata": {},
   "source": [
    "### CBRS"
   ]
  },
  {
   "cell_type": "code",
   "execution_count": 177,
   "metadata": {
    "collapsed": true
   },
   "outputs": [],
   "source": [
    "from IPython.display import clear_output"
   ]
  },
  {
   "cell_type": "code",
   "execution_count": 189,
   "metadata": {},
   "outputs": [],
   "source": [
    "user_profilesCB_opt = user_profilesCB.copy()\n",
    "for uid, user_profileCB in user_profilesCB.iteritems():\n",
    "    if uid not in test_dict.keys():\n",
    "        user_profilesCB_opt.drop(uid, inplace=True)"
   ]
  },
  {
   "cell_type": "code",
   "execution_count": 190,
   "metadata": {},
   "outputs": [
    {
     "data": {
      "text/plain": [
       "22215"
      ]
     },
     "execution_count": 190,
     "metadata": {},
     "output_type": "execute_result"
    }
   ],
   "source": [
    "len( user_profilesCB)"
   ]
  },
  {
   "cell_type": "code",
   "execution_count": 191,
   "metadata": {},
   "outputs": [
    {
     "data": {
      "text/plain": [
       "6815"
      ]
     },
     "execution_count": 191,
     "metadata": {},
     "output_type": "execute_result"
    }
   ],
   "source": [
    "len( user_profilesCB_opt)"
   ]
  },
  {
   "cell_type": "code",
   "execution_count": 192,
   "metadata": {},
   "outputs": [
    {
     "data": {
      "text/plain": [
       "6815"
      ]
     },
     "execution_count": 192,
     "metadata": {},
     "output_type": "execute_result"
    }
   ],
   "source": [
    "len( test_dict)"
   ]
  },
  {
   "cell_type": "code",
   "execution_count": 194,
   "metadata": {},
   "outputs": [
    {
     "name": "stdout",
     "output_type": "stream",
     "text": [
      "     100.0%\n"
     ]
    },
    {
     "data": {
      "text/plain": [
       "{500: [9779, 7426, 8552, 441, 733, 6937, 388, 559, 588, 1013],\n",
       " 300: [7299, 8656, 4659, 8626, 9267, 7458, 4819, 5061, 2346, 2499],\n",
       " 851: [5795, 6035, 6033, 7647, 9527, 4659, 6034, 8005, 441, 8656],\n",
       " 410: [4540, 4819, 441, 2346, 6707, 3293, 4825, 8715, 8626, 2582],\n",
       " 509: [445, 8491, 2761, 4175, 5496, 3906, 5497, 5824, 5850, 9641],\n",
       " 288: [4825, 6035, 5795, 6033, 4819, 4215, 6643, 4540, 2346, 7433],\n",
       " 146: [9267, 2346, 2722, 8341, 2499, 4659, 2603, 8444, 5268, 7299],\n",
       " 287: [6035, 6033, 4928, 8208, 8003, 8005, 6255, 8004, 8207, 3985],\n",
       " 662: [8549, 9122, 722, 4819, 3862, 3293, 1341, 5435, 4825, 2085],\n",
       " 170: [1781, 7576, 3862, 1354, 7299, 8626, 9267, 8388, 8656, 5521],\n",
       " 5317: [3862, 4825, 4819, 9267, 6426, 6053, 8656, 7433, 8626, 7619],\n",
       " 1959: [2346, 9267, 5075, 6707, 6043, 2499, 7299, 8626, 3862, 5074],\n",
       " 4745: [8656, 2346, 7299, 4819, 8682, 3857, 4215, 4861, 5632, 6426],\n",
       " 121: [6707, 7224, 4658, 1686, 3862, 1395, 86, 4687, 4939, 9267],\n",
       " 3152: [9267, 8656, 8626, 6033, 8005, 6035, 6643, 5795, 7433, 4939],\n",
       " 9553: [5384, 8617, 3322, 4878, 9794, 4187, 8341, 8584, 8207, 8247],\n",
       " 1240: [5795, 6033, 2771, 6034, 8341, 4659, 9267, 5446, 8005, 9346],\n",
       " 1571: [6033, 6053, 8005, 6035, 3862, 6034, 8003, 7433, 6873, 9346],\n",
       " 2589: [4900, 6070, 4839, 6597, 2549, 4686, 5932, 3322, 4901, 3862],\n",
       " 432: [1395, 2954, 6903, 2346, 7576, 6043, 6707, 1781, 3862, 86],\n",
       " 1264: [3852, 5795, 6035, 6034, 6033, 5446, 8005, 9268, 2771, 2126],\n",
       " 4639: [3862, 4825, 5155, 9267, 4819, 2346, 7433, 5434, 5842, 7299],\n",
       " 120: [4819, 4825, 3862, 6426, 7619, 5070, 2346, 4835, 6587, 5434],\n",
       " 13003: [6053, 9267, 7299, 4819, 7433, 8656, 4659, 2499, 8574, 2346],\n",
       " 726: [3862, 2346, 9267, 2499, 7299, 4825, 4215, 4819, 7433, 8626],\n",
       " 14148: [7598, 3862, 8919, 4825, 6930, 4215, 4819, 3857, 7433, 2346],\n",
       " 2753: [6590, 3869, 8071, 6324, 6585, 6866, 6308, 9094, 2958, 8629],\n",
       " 392: [1354, 3506, 7601, 5062, 7641, 1343, 4721, 6866, 6324, 5063],\n",
       " 13503: [5051, 7299, 5061, 8656, 2346, 7458, 5461, 8626, 4659, 4717],\n",
       " 2944: [2604, 5446, 3575, 6623, 3620, 1455, 6390, 1544, 2346, 5546],\n",
       " 1331: [4141, 4888, 4819, 4825, 5070, 4904, 4861, 3857, 2346, 2954],\n",
       " 10785: [8626, 3862, 4819, 7458, 8005, 9267, 7433, 4825, 8682, 5632],\n",
       " 641: [1686, 7224, 2587, 6268, 4678, 2600, 4115, 8626, 8611, 8656],\n",
       " 2230: [2487, 1118, 883, 837, 1057, 965, 929, 1098, 1010, 570],\n",
       " 6462: [6035, 6034, 4500, 8656, 8003, 9267, 8004, 7433, 8064, 8005],\n",
       " 9618: [2346, 8656, 3862, 9267, 8682, 8626, 4819, 4825, 6034, 4543],\n",
       " 3037: [4659, 8626, 5061, 6707, 9267, 8656, 7458, 3862, 7299, 2346],\n",
       " 763: [10374, 4127, 6566, 9551, 2711, 9020, 9113, 3115, 4247, 1350],\n",
       " 7129: [6033, 9267, 6035, 6643, 8656, 8005, 3985, 1455, 8003, 3862],\n",
       " 429: [2126, 2630, 3852, 3967, 101, 5795, 6880, 3775, 1470, 2632],\n",
       " 114: [4540, 8626, 3499, 6035, 9267, 7299, 5051, 6033, 3862, 4542],\n",
       " 5825: [3862, 2346, 4975, 3560, 3544, 3985, 1455, 3554, 2499, 2452],\n",
       " 1399: [5795, 6035, 4659, 5446, 6034, 8341, 8656, 6033, 9267, 2346],\n",
       " 2376: [4215, 9267, 4819, 3862, 8656, 6426, 6035, 2346, 8682, 6034],\n",
       " 3909: [4819, 4825, 5069, 3862, 2346, 8656, 4717, 8626, 4215, 5051],\n",
       " 2018: [2894, 4659, 1295, 8656, 7299, 7433, 9267, 5051, 8626, 3862],\n",
       " 3103: [2346, 4659, 7299, 2499, 3862, 5632, 7458, 8656, 7433, 2603],\n",
       " 793: [7224, 1847, 7225, 5205, 2346, 4660, 3862, 9081, 6259, 4659],\n",
       " 13320: [8341, 9267, 6033, 8004, 8003, 8208, 8656, 6034, 4500, 8841],\n",
       " 1626: [2346, 4825, 3828, 2603, 6034, 4819, 5446, 3862, 8656, 2499],\n",
       " 1685: [4825, 3685, 4861, 5434, 5127, 3862, 6426, 5641, 2429, 5632],\n",
       " 8503: [9197, 6938, 4658, 6581, 9501, 9505, 9508, 9195, 6819, 5163],\n",
       " 6274: [2346, 7619, 4819, 4825, 4835, 4861, 6898, 5070, 8632, 7674],\n",
       " 6625: [3862, 4825, 7433, 2346, 2499, 3857, 3293, 8656, 6053, 7619],\n",
       " 9318: [6035, 8005, 8004, 8003, 6033, 3985, 4928, 3560, 7299, 2599],\n",
       " 9274: [4115, 4825, 3862, 4819, 1354, 8388, 2600, 5070, 3293, 6426],\n",
       " 4043: [3737, 4427, 3854, 6936, 8892, 1482, 1661, 2258, 46, 733],\n",
       " 3157: [9267, 8210, 7056, 3862, 8656, 7433, 8626, 7299, 6035, 2499],\n",
       " 83: [6707, 7660, 3862, 6043, 4819, 2346, 4215, 4540, 4825, 9267],\n",
       " 7680: [6033, 6826, 6035, 6278, 5795, 4000, 5446, 8003, 3220, 8005],\n",
       " 10270: [3862, 8656, 8626, 2346, 5061, 4928, 6268, 9267, 2499, 5070],\n",
       " 1184: [9405, 86, 1847, 7224, 4658, 6574, 8483, 3790, 7225, 735],\n",
       " 198: [5795, 3862, 9267, 6033, 3852, 2346, 101, 8626, 7299, 6035],\n",
       " 8947: [7818, 5803, 6843, 6884, 5923, 7819, 8617, 4187, 6957, 4825],\n",
       " 2386: [5795, 101, 1408, 3862, 1407, 9267, 6707, 201, 6033, 2346],\n",
       " 604: [7860, 46, 9509, 8892, 6592, 1661, 4427, 559, 441, 306],\n",
       " 3982: [4104, 7299, 8626, 5632, 5093, 4717, 8656, 4928, 3862, 5070],\n",
       " 4280: [5074, 5075, 7214, 8591, 6870, 9267, 6295, 6423, 4939, 8656],\n",
       " 8771: [7444, 8469, 4941, 7879, 5472, 5764, 9249, 8040, 8374, 7065],\n",
       " 7853: [7598, 8919, 3862, 2346, 4825, 9206, 4819, 9267, 6930, 2499],\n",
       " 6697: [4819, 3862, 4825, 6426, 7619, 8632, 8656, 7674, 7208, 5258],\n",
       " 12385: [4825, 2346, 4819, 3862, 7299, 6707, 6053, 4215, 3857, 8626],\n",
       " 2338: [1904, 677, 3862, 5795, 3775, 3852, 5074, 6269, 2346, 4819],\n",
       " 3457: [4819, 4714, 6426, 4861, 3293, 7493, 6803, 5434, 3857, 6427],\n",
       " 205: [2954, 86, 441, 3855, 9267, 731, 2346, 1407, 4659, 6574],\n",
       " 6392: [4825, 6892, 5332, 5330, 5070, 4819, 8656, 4608, 4215, 2346],\n",
       " 4630: [6574, 441, 3737, 40, 6798, 6936, 3854, 6820, 9267, 2802],\n",
       " 2788: [8341, 4825, 8208, 4819, 8005, 6035, 6043, 3560, 8626, 6756],\n",
       " 4091: [3862, 8656, 8626, 6869, 9267, 2346, 4825, 5070, 4819, 6053],\n",
       " 13766: [9267, 2346, 4825, 4819, 8626, 6053, 7433, 8611, 4543, 2603],\n",
       " 4127: [6908, 7512, 8609, 5064, 4686, 5914, 4659, 5253, 9350, 8841],\n",
       " 3254: [8611, 6423, 8647, 3862, 4825, 4543, 4939, 8656, 4542, 8626],\n",
       " 5572: [3862, 4825, 2346, 4835, 4215, 7208, 5434, 3857, 3504, 2499],\n",
       " 12404: [9267, 4819, 6033, 3862, 7299, 8656, 4861, 7619, 4825, 5070],\n",
       " 17721: [4819, 9267, 8341, 4825, 3862, 8626, 8656, 6512, 7299, 6426],\n",
       " 884: [9350, 5915, 5914, 7396, 5913, 6814, 6831, 9351, 8193, 9267],\n",
       " 980: [3862, 4819, 4825, 7493, 5434, 3293, 6426, 5435, 6427, 4835],\n",
       " 1296: [5795, 9267, 3862, 4939, 6053, 5155, 6033, 4215, 9268, 4500],\n",
       " 3453: [5614, 6803, 1193, 4825, 6798, 5268, 3862, 3626, 6043, 3857],\n",
       " 9527: [8656, 2346, 7433, 5795, 5446, 3862, 6643, 8682, 6035, 6033],\n",
       " 3411: [6033, 4500, 6035, 8656, 8064, 6891, 4928, 5343, 6325, 5446],\n",
       " 12542: [6053, 3862, 4939, 8626, 4819, 7433, 4825, 2346, 3293, 4340],\n",
       " 7511: [6053, 5155, 4903, 2894, 3862, 3851, 4825, 6813, 8656, 6033],\n",
       " 3341: [7299, 4825, 8656, 5061, 8626, 5051, 4819, 4928, 7695, 6255],\n",
       " 1652: [9267, 2603, 7458, 8656, 4819, 7674, 8626, 5446, 7619, 2346],\n",
       " 9486: [6225, 4698, 7923, 4687, 4658, 5154, 7330, 4253, 4677, 6878],\n",
       " 6116: [4215, 5435, 5258, 6255, 5434, 3862, 4825, 6891, 4102, 6426],\n",
       " 12985: [3857, 4825, 4215, 3862, 2641, 5070, 4819, 7619, 9267, 5434],\n",
       " 1875: [9267, 6053, 3857, 4939, 4825, 8656, 5061, 6033, 8626, 3862],\n",
       " 459: [5795, 3852, 9267, 7299, 6033, 6035, 3862, 101, 4659, 9268],\n",
       " 2136: [4825, 4819, 3862, 4835, 7619, 6426, 6898, 5434, 7674, 7493],\n",
       " 929: [5795, 3852, 6035, 6033, 5446, 3219, 6034, 9267, 8341, 86],\n",
       " 637: [46, 6574, 8084, 6936, 733, 2632, 588, 3737, 441, 559],\n",
       " 2868: [5795, 8656, 8626, 6033, 7181, 7433, 5075, 9268, 6053, 6035],\n",
       " 286: [9267, 1097, 2346, 3694, 2357, 6643, 3116, 4939, 6033, 2499],\n",
       " 2322: [4825, 4819, 3862, 8656, 7458, 7299, 5061, 8626, 9267, 7619],\n",
       " 12543: [9267, 6813, 8151, 4819, 6426, 3862, 5434, 4215, 6427, 1730],\n",
       " 8125: [3862, 4819, 4825, 7433, 4717, 5070, 3857, 7299, 5632, 2346],\n",
       " 13487: [6053, 4939, 9267, 6707, 3862, 6813, 4540, 5155, 6255, 5311],\n",
       " 816: [2722, 9500, 1968, 5144, 6425, 1969, 4641, 4540, 8631, 7205],\n",
       " 11304: [7433, 3862, 4939, 8656, 2346, 8626, 4819, 2499, 3857, 4825],\n",
       " 1655: [8666, 6891, 8164, 8165, 4500, 6325, 8628, 7165, 8683, 6834],\n",
       " 7628: [6813, 9267, 8919, 8574, 3862, 6930, 9206, 6707, 4825, 6832],\n",
       " 10458: [9007, 2230, 3490, 5030, 7637, 7638, 1341, 7605, 3862, 2085],\n",
       " 15423: [9471, 8720, 8210, 8620, 8828, 8829, 8721, 9591, 8827, 8662],\n",
       " 7334: [5803, 6053, 6884, 8617, 3322, 4825, 4939, 4215, 5094, 6957],\n",
       " 3508: [9267, 4939, 8656, 8626, 8005, 7433, 3862, 7299, 6813, 4825],\n",
       " 9476: [5074, 7214, 4819, 8591, 6427, 4340, 6870, 3862, 5648, 4651],\n",
       " 9488: [6707, 6043, 6892, 5936, 7923, 4648, 8223, 5764, 4910, 8637],\n",
       " 10106: [4889, 7142, 5936, 1097, 5764, 8469, 7816, 2357, 7236, 8240],\n",
       " 6345: [8656, 8682, 6035, 2346, 6033, 3862, 9267, 7299, 7433, 4819],\n",
       " 7208: [5795, 2771, 3775, 6035, 6033, 6881, 9268, 5145, 3219, 3220],\n",
       " 8541: [3323, 8482, 5997, 8986, 9779, 8014, 6936, 7425, 9610, 3854],\n",
       " 2704: [5428, 2274, 2783, 5925, 1756, 7499, 3453, 3538, 5350, 7501],\n",
       " 1517: [9206, 8919, 9175, 9001, 6930, 6832, 8568, 8567, 6931, 8585],\n",
       " 1446: [9140, 6255, 5924, 6622, 6648, 4928, 6466, 4929, 6369, 4013],\n",
       " 4301: [8645, 8676, 5051, 5053, 5061, 7944, 7619, 7638, 3490, 7299],\n",
       " 8188: [5764, 4486, 3711, 6030, 3841, 4141, 1785, 8626, 6538, 2923],\n",
       " 175: [9267, 3862, 7299, 8626, 4939, 4819, 2346, 6053, 6643, 8444],\n",
       " 8659: [5343, 8164, 6325, 6033, 8166, 6373, 8666, 6053, 9267, 6035],\n",
       " 351: [1407, 3323, 8986, 5997, 8482, 9068, 9779, 7426, 8014, 4540],\n",
       " 9237: [6035, 2599, 3868, 6034, 3418, 4928, 8656, 6622, 8003, 7299],\n",
       " 14186: [6707, 9267, 3862, 8626, 6053, 2346, 4540, 3323, 5795, 7299],\n",
       " 1271: [3852, 5795, 2126, 3967, 3775, 5533, 4296, 40, 1686, 4806],\n",
       " 2102: [2346, 9267, 2603, 8656, 8626, 4825, 5061, 4104, 7458, 4819],\n",
       " 342: [7591, 2012, 6903, 588, 3858, 6880, 6596, 441, 8483, 387],\n",
       " 4232: [6563, 6035, 6033, 3855, 6707, 4825, 9268, 8005, 4215, 101],\n",
       " 6109: [9154, 6345, 6347, 6909, 9152, 4522, 3802, 3156, 5263, 4825],\n",
       " 222: [3862, 4819, 4825, 2346, 2230, 7299, 1341, 5070, 2713, 4215],\n",
       " 8558: [3852, 5795, 3775, 4285, 6035, 3967, 4884, 1470, 6033, 101],\n",
       " 236: [9390, 4928, 5366, 6906, 7301, 5795, 6035, 6033, 6873, 3560],\n",
       " 13671: [4825, 7493, 4819, 7619, 7208, 4835, 7071, 8525, 8524, 6427],\n",
       " 5030: [3862, 6035, 2346, 6033, 9267, 4939, 6053, 6643, 7433, 2603],\n",
       " 5826: [6763, 4686, 5842, 6053, 7155, 7512, 3862, 9546, 5843, 8609],\n",
       " 10257: [8954, 8223, 7444, 5764, 8469, 9399, 5936, 5074, 7278, 8024],\n",
       " 8846: [9267, 4819, 6033, 6034, 3862, 7433, 6035, 5061, 8656, 4825],\n",
       " 8335: [5496, 6877, 4175, 5493, 5495, 2130, 9024, 3298, 8490, 2060],\n",
       " 11798: [8869, 7645, 3862, 6602, 9751, 9168, 7012, 9480, 10009, 10008],\n",
       " 4829: [4819, 1295, 4825, 5156, 2716, 7468, 5070, 7458, 4215, 1395],\n",
       " 4615: [7717, 3462, 8728, 3862, 7433, 9267, 2785, 4754, 7721, 2346],\n",
       " 4996: [7598, 6798, 8919, 9206, 8557, 6070, 9577, 9578, 6930, 9070],\n",
       " 2038: [4928, 5051, 8341, 4929, 6622, 5061, 3985, 4659, 5461, 8208],\n",
       " 2677: [9267, 1781, 3862, 2346, 2499, 492, 4939, 4215, 6033, 7433],\n",
       " 587: [2701, 5308, 2702, 4485, 2011, 1785, 2012, 2326, 7591, 3299],\n",
       " 8571: [5097, 5997, 3404, 1229, 2251, 6549, 4540, 38, 6560, 2455],\n",
       " 9712: [2599, 3418, 3868, 3862, 7097, 4102, 4825, 4819, 2832, 4928],\n",
       " 1874: [6392, 3985, 8656, 8208, 8626, 5061, 4659, 8341, 4418, 269],\n",
       " 665: [7559, 5984, 1888, 5985, 4839, 731, 449, 4123, 3050, 4124],\n",
       " 1600: [9083, 6622, 4928, 5623, 8003, 2603, 6035, 6034, 6033, 2346],\n",
       " 2716: [3862, 7299, 2346, 6707, 9267, 8626, 6035, 5795, 6033, 9268],\n",
       " 152: [6881, 3625, 5794, 2530, 389, 3339, 3852, 101, 2533, 3401],\n",
       " 168: [10374, 4127, 6566, 9551, 2711, 9020, 9113, 3115, 4247, 1350],\n",
       " 904: [3220, 6574, 441, 7591, 5619, 6033, 1627, 3737, 4540, 6801],\n",
       " 10831: [5165, 3865, 4115, 8387, 5471, 4928, 9235, 8386, 7299, 6255],\n",
       " 6737: [6587, 7299, 3862, 4573, 5632, 6565, 4215, 4825, 8656, 5061],\n",
       " 3848: [9384, 1778, 4482, 771, 47, 1106, 4103, 6406, 396, 3437],\n",
       " 2892: [7347, 8152, 8559, 8537, 3926, 597, 787, 2968, 3891, 81],\n",
       " 1897: [1800, 2194, 1544, 6428, 2346, 6034, 1686, 6033, 5821, 6035],\n",
       " 3406: [3685, 5563, 5127, 7113, 7517, 6423, 7515, 4819, 3293, 4825],\n",
       " 2662: [1878, 40, 3826, 2632, 2012, 2899, 3858, 6596, 6880, 80],\n",
       " 1540: [2346, 2499, 2603, 4573, 3558, 5632, 2981, 5093, 7465, 1455],\n",
       " 828: [2722, 9267, 8444, 4540, 8366, 5268, 3862, 5075, 9457, 8443],\n",
       " 14112: [9169, 7645, 8869, 10009, 6602, 7211, 10046, 8652, 9480, 5501],\n",
       " 11795: [3862, 9267, 6033, 7299, 3560, 7433, 8626, 6035, 8005, 3865],\n",
       " 35: [4819, 6707, 3862, 4825, 7619, 6043, 5070, 6898, 7674, 1619],\n",
       " 11149: [6413, 7461, 6655, 7460, 1286, 882, 5534, 8478, 858, 2789],\n",
       " 4233: [6466, 4928, 7135, 6622, 6255, 4929, 9056, 5097, 5997, 999],\n",
       " 1979: [1202, 5050, 155, 5052, 902, 153, 166, 5054, 1091, 1544],\n",
       " 1012: [3841, 2923, 4888, 8557, 6793, 2954, 3597, 8015, 9395, 9578],\n",
       " 10273: [3862, 7224, 2346, 4825, 4215, 8626, 4658, 9267, 4819, 6707],\n",
       " 9408: [6427, 6426, 4819, 6565, 7619, 5435, 7674, 4835, 7208, 5434],\n",
       " 7772: [3862, 5939, 2722, 6873, 8444, 8443, 8656, 4534, 3499, 3323],\n",
       " 4040: [8656, 8626, 9267, 8367, 8366, 5061, 8364, 2346, 2499, 4659],\n",
       " 10353: [5632, 2346, 4659, 5061, 8341, 6179, 7299, 8656, 2499, 7458],\n",
       " 13943: [7433, 9267, 4500, 4859, 4144, 6033, 8656, 3862, 3603, 8412],\n",
       " 11874: [8656, 7299, 8626, 2346, 3862, 9267, 4939, 5632, 8160, 2603],\n",
       " 7717: [4825, 4819, 3862, 8363, 5051, 4717, 9154, 7323, 7458, 8656],\n",
       " 863: [8631, 9267, 8616, 8656, 6033, 6035, 6643, 8626, 5795, 3499],\n",
       " 12444: [7322, 4819, 3862, 6941, 3935, 4861, 3390, 4215, 7433, 4835],\n",
       " 15983: [3868, 2599, 4340, 6033, 4500, 8004, 9267, 8005, 3418, 8003],\n",
       " 4536: [6707, 6043, 7299, 8626, 3862, 8656, 4825, 4819, 4215, 3857],\n",
       " 11302: [2274, 1800, 7499, 3538, 5428, 2783, 3453, 4910, 7501, 4658],\n",
       " 9493: [3322, 7818, 5384, 6884, 6843, 4187, 5923, 7819, 8617, 6957],\n",
       " 17884: [5843, 2894, 4659, 7458, 8791, 5632, 8341, 7299, 3862, 5461],\n",
       " 8415: [4825, 2346, 8656, 4819, 5061, 8626, 4939, 9267, 4215, 8682],\n",
       " 302: [2343, 1899, 1847, 1686, 3429, 1603, 4678, 4660, 1898, 3257],\n",
       " 7606: [3862, 4939, 7299, 9267, 4825, 6053, 4102, 4717, 2346, 7433],\n",
       " 7373: [6426, 6427, 4500, 4819, 7493, 4825, 7433, 9402, 4835, 8656],\n",
       " 4446: [6033, 6891, 3862, 3852, 9267, 7433, 5795, 5343, 6035, 101],\n",
       " 1836: [2346, 5458, 2499, 1810, 3116, 2603, 4573, 4157, 8206, 7433],\n",
       " 5493: [4335, 8152, 8559, 2252, 3899, 81, 787, 2968, 597, 3926],\n",
       " 7918: [5343, 6033, 9394, 3862, 7299, 9393, 6852, 6891, 6373, 6035],\n",
       " 16: [5051, 5061, 8645, 8656, 2346, 7299, 8003, 3560, 5053, 8004],\n",
       " 5617: [8656, 5061, 8626, 6035, 8682, 7299, 9267, 8003, 2346, 4659],\n",
       " 722: [6707, 7601, 5070, 8626, 8656, 6043, 5069, 3862, 4825, 6526],\n",
       " 3012: [4042, 3749, 5984, 1122, 9803, 5985, 4124, 2563, 4850, 2391],\n",
       " 13440: [4215, 5258, 7956, 8135, 7582, 6162, 4333, 4819, 4825, 5434],\n",
       " 3414: [7802, 5623, 4670, 7156, 4500, 8003, 2603, 5343, 4339, 6033],\n",
       " 12721: [9338, 9175, 8637, 8528, 8543, 878, 8530, 8274, 1145, 3992],\n",
       " 1334: [7056, 8722, 8210, 7610, 9472, 8620, 8829, 9593, 6939, 8721],\n",
       " 6733: [4829, 7707, 1800, 4859, 5729, 4144, 4354, 7708, 4855, 6478],\n",
       " 14107: [3862, 4825, 4819, 6652, 7619, 2346, 7674, 3857, 9267, 2379],\n",
       " 11079: [6798, 5324, 4994, 7752, 9578, 8557, 8014, 5855, 7575, 9395],\n",
       " 2807: [8762, 8430, 2434, 9743, 8765, 9762, 9725, 9943, 9355, 8750],\n",
       " 8512: [4115, 8388, 8387, 5471, 2600, 1354, 9235, 6269, 5632, 4500],\n",
       " 6384: [3697, 6807, 1303, 7315, 79, 737, 1314, 1426, 2188, 4389],\n",
       " 4397: [3862, 2230, 4215, 4819, 2346, 4825, 3857, 2713, 2582, 7433],\n",
       " 4077: [4819, 8676, 7299, 6423, 8626, 5053, 8606, 5051, 3985, 7946],\n",
       " 2579: [2954, 4141, 6043, 3841, 4092, 6707, 4888, 3894, 4884, 2107],\n",
       " 11280: [8366, 8364, 8656, 9457, 8626, 3862, 4651, 9267, 7299, 9456],\n",
       " 9280: [9621, 9192, 8005, 5821, 8003, 8004, 6035, 8208, 5051, 5145],\n",
       " 2928: [5795, 3852, 4659, 3775, 6035, 6033, 6034, 2346, 9267, 8341],\n",
       " 11647: [6466, 6622, 4929, 9056, 7299, 8626, 8656, 9055, 8005, 8004],\n",
       " 19228: [8548, 8462, 4285, 7056, 7504, 7503, 5311, 1895, 5324, 5593],\n",
       " 2107: [8626, 1674, 8656, 967, 6033, 3761, 4215, 6035, 5051, 2346],\n",
       " 2832: [3323, 4540, 8715, 9268, 5311, 6953, 3862, 5939, 4267, 4215],\n",
       " 4194: [6873, 6906, 2346, 596, 2603, 2499, 7299, 9267, 4928, 2211],\n",
       " 883: [6892, 4910, 3257, 4658, 7752, 4687, 6436, 6707, 3862, 7638],\n",
       " 16795: [6793, 6826, 9578, 8015, 8557, 9577, 3841, 9395, 2923, 4141],\n",
       " 13458: [2085, 3864, 1341, 2713, 4230, 2230, 8661, 6023, 3862, 4819],\n",
       " 4226: [5075, 4104, 5074, 2499, 4939, 2586, 5202, 2346, 7433, 7299],\n",
       " 2882: [3221, 6574, 6892, 4688, 2954, 6707, 4884, 9267, 441, 1803],\n",
       " 13344: [7493, 4543, 5155, 4542, 8525, 8524, 3862, 6427, 6423, 8626],\n",
       " 8875: [6891, 6373, 5343, 6033, 8166, 8165, 6035, 7165, 8005, 8388],\n",
       " 875: [201, 1255, 6042, 2334, 5298, 3098, 8649, 6898, 9267, 2852],\n",
       " 517: [40, 7591, 272, 1395, 1878, 2012, 3858, 588, 86, 38],\n",
       " 9750: [8895, 7879, 8708, 4941, 4837, 7128, 9983, 5861, 10070, 6051],\n",
       " 6256: [8014, 7426, 8482, 9779, 8552, 8017, 4267, 7541, 5311, 9790],\n",
       " 7079: [4500, 6033, 5343, 6891, 4819, 6034, 6035, 8164, 6426, 8666],\n",
       " 19083: [2346, 3862, 7492, 8626, 5435, 8160, 7946, 6255, 4939, 6725],\n",
       " 17057: [5075, 2499, 5074, 7214, 5093, 5458, 6587, 7433, 5343, 4573],\n",
       " 940: [8367, 8366, 8341, 8364, 9267, 4651, 6696, 3862, 9457, 9393],\n",
       " 6710: [8319, 4133, 5051, 7946, 4135, 8316, 5053, 8645, 7299, 1689],\n",
       " 15434: [4825, 3862, 3857, 5070, 8656, 7299, 8626, 9267, 6587, 7458],\n",
       " 6881: [2346, 4573, 5458, 2499, 2603, 4157, 5061, 4189, 5715, 7071],\n",
       " 10755: [4014, 3862, 7639, 4928, 6255, 3985, 7458, 4819, 7605, 7299],\n",
       " 13359: [7299, 2346, 5632, 5061, 2499, 4825, 4340, 4339, 4819, 7458],\n",
       " 13191: [2316, 3862, 4825, 6707, 5634, 4939, 4102, 4819, 2346, 5434],\n",
       " 14846: [9267, 4659, 7458, 2346, 8656, 3862, 8160, 8626, 7433, 6035],\n",
       " 9574: [6426, 7493, 4835, 4819, 7492, 7208, 7619, 4102, 9403, 9402],\n",
       " 17514: [6908, 9350, 6053, 7397, 7396, 4939, 9267, 5914, 8193, 4500],\n",
       " 7651: [8510, 3862, 5155, 7638, 3490, 4819, 7637, 5605, 5156, 3920],\n",
       " 15851: [5821, 6035, 6034, 8656, 4928, 1689, 9192, 8626, 8208, 8005],\n",
       " 11571: [6735, 5900, 5613, 5901, 3862, 5616, 4859, 5452, 4857, 5735],\n",
       " 14415: [6589, 6916, 7605, 6852, 8654, 8763, 8664, 7725, 9199, 7819],\n",
       " 3865: [8014, 7426, 8482, 9779, 8552, 8017, 5311, 9826, 4540, 7425],\n",
       " 1495: [5795, 3852, 3775, 457, 101, 2464, 5145, 6035, 6034, 1741],\n",
       " 11148: [4829, 8464, 4354, 4826, 5341, 4859, 6155, 8463, 3603, 6963],\n",
       " 2028: [1686, 6894, 1847, 4678, 6763, 2587, 3862, 8630, 6859, 1687],\n",
       " 1777: [1408, 3565, 1407, 3378, 3405, 1178, 588, 2437, 3384, 272],\n",
       " 6076: [2346, 9267, 6707, 3862, 7408, 8656, 7224, 2603, 6033, 6035],\n",
       " 9017: [4859, 6155, 7404, 4354, 4826, 5341, 4829, 3603, 10041, 6035],\n",
       " 7897: [5357, 212, 1240, 1459, 7628, 2621, 4106, 5224, 5358, 1990],\n",
       " 13536: [7196, 4459, 2619, 4458, 7226, 6746, 4309, 3169, 6617, 8085],\n",
       " 13242: [8573, 4939, 6813, 7433, 3862, 7598, 2346, 7265, 8626, 6930],\n",
       " 7332: [5795, 6035, 3852, 4285, 6563, 6034, 3862, 6033, 9267, 5145],\n",
       " 53: [5821, 6323, 6033, 8064, 4500, 6035, 9192, 8005, 8838, 8004],\n",
       " 5259: [6574, 733, 6936, 6795, 1134, 1013, 9509, 8084, 388, 4427],\n",
       " 2331: [1689, 4995, 6872, 5821, 8678, 6034, 7609, 5061, 9192, 3560],\n",
       " 13934: [3862, 7946, 6844, 5051, 4717, 6570, 5061, 4819, 7458, 4825],\n",
       " 10753: [4819, 5044, 5185, 4244, 4102, 7322, 5156, 4825, 3857, 7433],\n",
       " 13270: [7433, 3136, 9267, 8656, 8626, 3116, 6643, 7299, 2603, 3862],\n",
       " 11428: [8626, 8386, 8388, 7299, 8682, 8611, 6423, 4928, 8387, 6268],\n",
       " 4213: [5458, 4157, 7673, 7629, 1810, 2346, 7433, 3862, 3857, 4215],\n",
       " 542: [7205, 3732, 5268, 5144, 9728, 7204, 4981, 8029, 6035, 6255],\n",
       " 1160: [8626, 9267, 8656, 3862, 6268, 6707, 2346, 4543, 7458, 4540],\n",
       " 13697: [4825, 4819, 7299, 6426, 7322, 3862, 8656, 6427, 5061, 5051],\n",
       " 1514: [2437, 4184, 7073, 687, 3322, 3490, 4128, 5030, 3323, 1408],\n",
       " 7808: [4502, 5396, 6791, 10019, 3650, 5397, 2592, 7598, 9206, 5894],\n",
       " 8170: [3865, 4215, 4939, 5144, 4825, 4540, 3857, 7818, 4819, 7205],\n",
       " 11583: [6844, 6758, 3862, 6841, 5365, 4981, 8244, 7262, 8665, 3293],\n",
       " 7923: [8223, 8240, 9267, 4939, 6643, 3116, 3862, 5936, 4543, 9028],\n",
       " 849: [3852, 5795, 1470, 101, 3775, 457, 250, 7647, 3220, 958],\n",
       " 12683: [6035, 6034, 6033, 3678, 8003, 8005, 5343, 4928, 6622, 3985],\n",
       " 2687: [1903, 2761, 761, 5824, 2882, 1260, 1006, 500, 8491, 8490],\n",
       " 1611: [2603, 2346, 596, 6622, 6906, 7299, 4928, 2499, 6255, 5061],\n",
       " 701: [1006, 2761, 1260, 2130, 6877, 1903, 3296, 2060, 9024, 8491],\n",
       " 5247: [2800, 6345, 3802, 9154, 6347, 2645, 6909, 1712, 4522, 7597],\n",
       " 203: [863, 3796, 7850, 712, 8521, 3826, 4050, 2330, 547, 6043],\n",
       " 14418: [3862, 1341, 2230, 6485, 4819, 4829, 6892, 4144, 2085, 3757],\n",
       " 13451: [8585, 6426, 6427, 6833, 7493, 7598, 4825, 4819, 8656, 7491],\n",
       " 6024: [6707, 2346, 3862, 6043, 9267, 6892, 4540, 4825, 7299, 7752],\n",
       " 15750: [8469, 7879, 7253, 8886, 6051, 5764, 6092, 4246, 7440, 7065],\n",
       " 12570: [4821, 4144, 6478, 5618, 4832, 4829, 5609, 4354, 3603, 4859],\n",
       " 7431: [3099, 8631, 2722, 5144, 8443, 7205, 1627, 5268, 4534, 8273],\n",
       " 5089: [8552, 3323, 8017, 8482, 7426, 8014, 8986, 7150, 4166, 6574],\n",
       " 8407: [7391, 9249, 5764, 8024, 7444, 5936, 9538, 8886, 8626, 6707],\n",
       " 10155: [7598, 8919, 6930, 6053, 6929, 6931, 3857, 6813, 8567, 9175],\n",
       " 13314: [7493, 4819, 6427, 7619, 4835, 8524, 8656, 9402, 4861, 4825],\n",
       " 13789: [6426, 4819, 5434, 4825, 9402, 7491, 7619, 8525, 9403, 7208],\n",
       " 2840: [10374, 4127, 6566, 9551, 2711, 9020, 9113, 3115, 4247, 1350],\n",
       " 13734: [6613, 5879, 4253, 8356, 9200, 7746, 9897, 8859, 7923, 9353],\n",
       " 8985: [8973, 5764, 7391, 3939, 5936, 4939, 2346, 9062, 8469, 9267],\n",
       " 10193: [7818, 6949, 3862, 6053, 7994, 4825, 3322, 8341, 3857, 4215],\n",
       " 12563: [9679, 9656, 9764, 9646, 9654, 8774, 8463, 9647, 9511, 8781],\n",
       " 4549: [7196, 4459, 4309, 2619, 6617, 9689, 4458, 4087, 6746, 6893],\n",
       " 12045: [1341, 2230, 2085, 7605, 7639, 3490, 4230, 4443, 7608, 3864],\n",
       " 81: [3862, 4215, 2346, 4939, 4540, 4102, 3672, 853, 201, 6053],\n",
       " 6482: [8341, 9728, 6756, 3862, 4825, 9267, 4659, 4819, 6033, 3116],\n",
       " 19721: [8160, 6053, 4939, 8159, 8656, 8626, 6813, 8151, 7674, 7299],\n",
       " 15900: [6961, 7599, 4340, 7585, 4339, 5690, 6142, 5444, 8839, 8840],\n",
       " 10154: [6580, 9577, 9578, 6798, 6793, 9395, 7138, 6878, 9897, 9645],\n",
       " 4816: [3499, 2722, 5268, 2483, 8616, 9577, 5144, 6803, 6894, 1627],\n",
       " 5139: [2437, 3322, 7818, 3490, 1407, 687, 4839, 6957, 7819, 5924],\n",
       " 14872: [7576, 9267, 4939, 4825, 4215, 6035, 3862, 6033, 7433, 3857],\n",
       " 11095: [6596, 6707, 9136, 4765, 6892, 8483, 9307, 5997, 6574, 6043],\n",
       " 13452: [6035, 6033, 9267, 6512, 5795, 6034, 6643, 7433, 3862, 4981],\n",
       " 6990: [201, 4819, 1255, 3862, 5434, 6427, 5435, 2852, 3857, 9267],\n",
       " 9805: [2274, 3538, 5428, 1756, 881, 2783, 5350, 5925, 8447, 4265],\n",
       " 12995: [4819, 6426, 6053, 4825, 5258, 5435, 3862, 8632, 4215, 6427],\n",
       " 5481: [9007, 3490, 2549, 5970, 4920, 7008, 7025, 7638, 5924, 5030],\n",
       " 3375: [3852, 5795, 3825, 6035, 6033, 101, 5051, 9267, 8645, 6034],\n",
       " 3510: [3841, 4141, 4888, 3404, 8015, 5997, 3597, 6574, 5097, 3737],\n",
       " 13515: [7610, 7056, 8722, 9471, 9472, 9469, 8720, 8662, 7567, 6939],\n",
       " 8137: [5075, 6870, 3862, 7215, 9519, 6255, 4819, 8590, 9267, 1341],\n",
       " 3072: [6043, 7224, 2346, 9267, 3862, 4659, 4825, 1515, 7299, 8656],\n",
       " 20121: [7598, 8919, 9206, 6931, 6929, 9229, 6832, 9001, 8573, 8585],\n",
       " 2910: [6311, 397, 8865, 5570, 6900, 5571, 8341, 8626, 4659, 749],\n",
       " 10772: [1341, 5156, 3293, 2085, 3504, 4087, 4825, 2230, 6844, 4981],\n",
       " 11528: [9267, 4825, 3862, 8626, 4569, 6426, 4819, 8656, 2346, 4215],\n",
       " 9226: [3862, 4939, 3920, 6813, 8151, 2894, 4819, 9267, 5156, 9359],\n",
       " 10251: [8524, 6898, 8525, 8527, 7491, 6426, 7492, 4835, 2499, 9402],\n",
       " 6976: [8005, 6033, 3862, 8004, 6035, 8003, 9267, 5795, 6034, 7299],\n",
       " 1239: [5795, 2126, 4296, 3967, 457, 2253, 9343, 5533, 7647, 4093],\n",
       " 1952: [10041, 7404, 8981, 5884, 8989, 4866, 10050, 8325, 10042, 7098],\n",
       " 7676: [9028, 4340, 3116, 4339, 9267, 7433, 3862, 5690, 4659, 6033],\n",
       " 7690: [7106, 5993, 5981, 4530, 6891, 4500, 5343, 6325, 729, 6373],\n",
       " 3319: [2470, 1768, 1408, 1407, 7912, 4514, 4169, 978, 1225, 2437],\n",
       " 5512: [6892, 3862, 6707, 6255, 2603, 2346, 8443, 8444, 5268, 4540],\n",
       " 13383: [8341, 6512, 9728, 6756, 6035, 6033, 6053, 8005, 9267, 6034],\n",
       " 12854: [6585, 9094, 1004, 3506, 2821, 6324, 2426, 7601, 4721, 5063],\n",
       " 17555: [5145, 4659, 9267, 9268, 5075, 3862, 3852, 8626, 7299, 8341],\n",
       " 16361: [7214, 9519, 6870, 8591, 5074, 6295, 8056, 8055, 8589, 8645],\n",
       " 6246: [5428, 2274, 2783, 7499, 5925, 1800, 6960, 1756, 7501, 3538],\n",
       " 2539: [6852, 8654, 6900, 6043, 2346, 8656, 8626, 6707, 5061, 8305],\n",
       " 13724: [4479, 1181, 3287, 4036, 2527, 5521, 1948, 3337, 1728, 8172],\n",
       " 13676: [3862, 9267, 7433, 6798, 6707, 7299, 4819, 2346, 7674, 8656],\n",
       " 9760: [7619, 6426, 6570, 6427, 5434, 7493, 4819, 8632, 4835, 5435],\n",
       " 16977: [7879, 6974, 8469, 7128, 8886, 5827, 5472, 4837, 7253, 8040],\n",
       " 6268: [6043, 8696, 6707, 6950, 8637, 3894, 9536, 2421, 8688, 7901],\n",
       " 4554: [7635, 5971, 6271, 7025, 7637, 7638, 3862, 5030, 5739, 8665],\n",
       " 15540: [3894, 4141, 4470, 7923, 3841, 2923, 9391, 7038, 4888, 5764],\n",
       " 12826: [7598, 9206, 6930, 6931, 6929, 8341, 9175, 9728, 8567, 5396],\n",
       " 1106: [2487, 1118, 1876, 837, 965, 124, 1010, 2150, 1082, 800],\n",
       " 9257: [3862, 3334, 4819, 2067, 8057, 4009, 6543, 918, 1619, 5070],\n",
       " 18997: [8919, 6930, 8567, 9001, 6929, 9206, 6931, 9202, 10385, 8566],\n",
       " 7417: [1228, 4290, 4277, 1019, 4839, 4438, 4781, 4360, 1469, 1026],\n",
       " 783: [6033, 9267, 3862, 2346, 7601, 6866, 4819, 6590, 5434, 3293],\n",
       " 3815: [5428, 2274, 5925, 4469, 4264, 3538, 2783, 2419, 7068, 5350],\n",
       " 1082: [2346, 40, 1455, 6035, 3116, 1395, 1864, 8240, 6034, 4659],\n",
       " 2571: [1689, 6872, 9621, 8208, 8197, 8303, 8003, 3985, 4077, 8005],\n",
       " 4436: [8656, 8626, 8682, 7299, 4819, 3862, 5632, 4861, 2499, 5093],\n",
       " 3548: [3339, 2530, 3625, 7438, 2894, 716, 5155, 3401, 3862, 7073],\n",
       " 14072: [6053, 9267, 4939, 6269, 3862, 6643, 8656, 7224, 8626, 3388],\n",
       " 11596: [9048, 7638, 7604, 6255, 4920, 4516, 5970, 6496, 9007, 6902],\n",
       " 17988: [6035, 6033, 5795, 6034, 9405, 5446, 5061, 3852, 5145, 2771],\n",
       " 533: [3855, 9405, 6574, 2802, 6936, 3737, 441, 9527, 6643, 8864],\n",
       " 2087: [2599, 3418, 6918, 3862, 7097, 5368, 6033, 4819, 8656, 8003],\n",
       " 4: [4102, 7790, 7818, 3322, 6957, 6707, 4215, 4825, 3857, 3862],\n",
       " 14443: [2098, 5146, 5716, 6495, 6444, 8855, 3301, 8858, 4939, 7224],\n",
       " 13203: [9257, 2736, 7301, 5821, 9390, 5767, 8003, 4825, 8656, 5262],\n",
       " 32: [3323, 8482, 9779, 8014, 4166, 8017, 8552, 7426, 4267, 9753],\n",
       " 3280: [8491, 6877, 4175, 9024, 3906, 2130, 8041, 5496, 3298, 1903],\n",
       " 693: [4462, 2098, 8858, 8549, 9122, 6078, 5032, 722, 117, 461],\n",
       " 13235: [4825, 7299, 7224, 7674, 4819, 8632, 8656, 3862, 7433, 6426],\n",
       " 9008: [4141, 4888, 4904, 6150, 4900, 3626, 5810, 3022, 3209, 3765],\n",
       " 1878: [2844, 3685, 5127, 6622, 2346, 2603, 8003, 7299, 3862, 8004],\n",
       " 7142: [2346, 8626, 4651, 8364, 7299, 8366, 8656, 6570, 3862, 2603],\n",
       " 6473: [1689, 1470, 2736, 101, 9267, 3852, 6033, 9083, 5795, 4077],\n",
       " 16744: [3323, 7426, 8014, 5311, 8482, 4267, 9779, 7752, 8017, 8485],\n",
       " 16109: [4939, 6053, 6707, 6043, 9267, 3862, 8626, 4825, 7433, 4215],\n",
       " 3214: [6574, 3404, 3737, 1395, 3855, 6043, 5097, 1229, 6936, 46],\n",
       " 8842: [8208, 1455, 2452, 3560, 3985, 8656, 2346, 7619, 4825, 7492],\n",
       " 6996: [5372, 8656, 3862, 1619, 6707, 7224, 8626, 7946, 6401, 6255],\n",
       " 6493: [4939, 6622, 5384, 6843, 8207, 4878, 2346, 7818, 5803, 7465],\n",
       " 1136: [1825, 1908, 6595, 2898, 716, 3859, 431, 3625, 389, 718],\n",
       " 9036: [8482, 8552, 8017, 7426, 8014, 7425, 4267, 6817, 4540, 8986],\n",
       " 10520: [7214, 5075, 5074, 8591, 6870, 8590, 6295, 9519, 6423, 8656],\n",
       " 2121: [3821, 6195, 2750, 1651, 850, 120, 9111, 6463, 6053, 17],\n",
       " 4746: [6597, 4232, 3475, 3080, 4899, 3765, 4900, 5081, 3165, 6139],\n",
       " 11747: [3018, 1755, 2582, 5075, 9558, 9560, 5074, 2499, 4819, 7297],\n",
       " 9238: [7492, 2346, 5343, 8206, 8003, 5093, 6428, 6034, 4825, 8207],\n",
       " 1226: [6316, 4166, 8468, 3323, 7216, 7426, 4167, 9753, 8014, 8482],\n",
       " 2200: [5357, 1977, 1459, 7628, 2621, 7618, 1240, 5224, 8607, 8876],\n",
       " 2296: [3958, 6574, 1961, 664, 3737, 46, 4661, 7150, 6936, 1130],\n",
       " 14086: [8510, 4686, 3920, 3862, 9546, 5151, 2894, 9548, 9359, 3202],\n",
       " 13308: [9267, 6643, 3862, 4825, 6033, 5434, 8626, 6707, 7299, 4819],\n",
       " 11921: [9779, 3490, 7637, 3323, 4920, 3489, 4516, 6496, 5030, 7818],\n",
       " 1391: [10374, 4127, 6566, 9551, 2711, 9020, 9113, 3115, 4247, 1350],\n",
       " 15743: [7056, 8462, 9472, 7610, 8722, 9471, 8829, 8828, 6574, 3323],\n",
       " 8702: [7695, 6598, 1517, 7697, 6585, 7601, 8587, 7641, 1004, 3850],\n",
       " 12233: [5061, 7818, 5051, 5053, 7946, 8676, 8606, 8656, 6035, 8207],\n",
       " 15124: [3513, 4517, 4545, 7913, 3748, 3518, 4514, 3512, 7134, 5292],\n",
       " 2890: [3517, 3757, 4117, 558, 3752, 4138, 7650, 6311, 9779, 5572],\n",
       " 8610: [6798, 6878, 1803, 9261, 6793, 6824, 3737, 6707, 9070, 9509],\n",
       " 8202: [3852, 5795, 6035, 6034, 1467, 3775, 6033, 3220, 9268, 9346],\n",
       " 15426: [7926, 9307, 9344, 6596, 1671, 9306, 6880, 2012, 6043, 8687],\n",
       " 2145: [4104, 4819, 5074, 4825, 5434, 2499, 1043, 6427, 4861, 5070],\n",
       " 12883: [7299, 9267, 4659, 3862, 7433, 6033, 8626, 2346, 8656, 6035],\n",
       " 9070: [7585, 4339, 4340, 5690, 6142, 5444, 5443, 9859, 9838, 9450],\n",
       " 14066: [6590, 3869, 6324, 6585, 9094, 4510, 8071, 2958, 8382, 6339],\n",
       " 15433: [6295, 5939, 4825, 5074, 9267, 5075, 3862, 4819, 7433, 6883],\n",
       " 10301: [3765, 4900, 6070, 4901, 3672, 4899, 6597, 2346, 4686, 6103],\n",
       " 9136: [5264, 4475, 291, 3313, 4951, 1706, 9377, 6888, 3394, 3318],\n",
       " 5437: [4540, 4285, 6574, 2346, 6707, 7575, 4688, 8656, 6043, 8014],\n",
       " 5022: [5803, 5094, 7818, 4878, 4825, 6884, 4187, 5384, 4714, 4102],\n",
       " 8438: [3507, 7638, 9570, 3322, 4515, 4187, 7773, 5803, 5970, 4878],\n",
       " 1305: [7433, 9267, 3862, 7299, 4939, 8626, 8656, 4215, 4825, 2603],\n",
       " 5613: [6857, 8004, 6891, 6033, 4500, 8003, 6035, 6643, 8673, 6034],\n",
       " 28: [6884, 9789, 7637, 9793, 6843, 5803, 7819, 3322, 9794, 8584],\n",
       " 10457: [5127, 2844, 1608, 1209, 3839, 2346, 2544, 4819, 8656, 5446],\n",
       " 7704: [7619, 6898, 9643, 7071, 1341, 7820, 9481, 8931, 7638, 2230],\n",
       " 60: [7025, 3490, 4920, 6902, 6496, 4516, 3862, 7008, 7638, 5970],\n",
       " 10985: [4878, 5803, 5384, 6884, 6301, 3322, 7818, 6843, 5923, 5412],\n",
       " 11155: [4115, 8626, 8611, 6268, 8682, 4542, 8647, 4364, 2600, 8388],\n",
       " 9881: [6798, 6793, 9578, 9395, 9070, 6878, 9883, 8557, 4339, 8553],\n",
       " 18962: [9199, 7639, 7605, 6826, 8576, 8196, 8664, 6901, 7119, 6892],\n",
       " 1346: [5896, 3852, 5795, 561, 3775, 8207, 586, 5533, 2126, 8005],\n",
       " 6381: [8613, 4903, 7581, 6444, 3932, 5242, 6375, 9846, 5389, 9766],\n",
       " 18202: [6793, 9577, 6824, 6803, 8553, 7591, 8557, 7729, 6033, 8005],\n",
       " 13338: [5384, 3322, 7818, 5634, 5094, 6884, 4878, 6843, 8617, 5704],\n",
       " 14602: [3490, 3322, 5094, 7638, 3489, 7637, 4516, 7818, 5803, 4920],\n",
       " 18680: [6957, 5803, 4226, 6885, 8617, 5384, 4102, 3322, 6884, 4825],\n",
       " 17072: [6798, 8557, 9578, 9070, 6879, 9071, 7591, 9395, 9135, 6795],\n",
       " 12595: [4335, 787, 8152, 81, 8559, 2968, 3899, 2969, 597, 603],\n",
       " 8025: [5258, 4215, 7299, 8626, 7582, 8341, 8656, 5632, 9350, 3865],\n",
       " 2050: [853, 6707, 7224, 3862, 851, 4939, 6255, 9267, 1619, 6053],\n",
       " 15562: [8388, 8386, 6268, 1354, 5330, 9235, 6269, 5332, 8387, 5165],\n",
       " 18440: [5803, 7818, 3322, 5094, 4878, 6318, 6883, 4187, 6885, 6884],\n",
       " 7237: [5047, 4825, 4215, 6707, 4832, 4821, 7071, 7619, 4819, 6428],\n",
       " 6496: [5795, 3852, 101, 6035, 9267, 6033, 7224, 6707, 6034, 6643],\n",
       " 6661: [9394, 3862, 2346, 9267, 9396, 6053, 4825, 6033, 6035, 4102],\n",
       " 5583: [2722, 9267, 4540, 2346, 3862, 5268, 8444, 8443, 6900, 1627],\n",
       " 3369: [5795, 457, 8341, 3775, 2753, 1470, 101, 5446, 7647, 4649],\n",
       " 17198: [5097, 5997, 9610, 6548, 4688, 9779, 4285, 6903, 6574, 3323],\n",
       " 2003: [1875, 2006, 4801, 3629, 4892, 2863, 1801, 2509, 7238, 2868],\n",
       " 5608: [3868, 2599, 3418, 5368, 6035, 6033, 9267, 6918, 8003, 6034],\n",
       " 2382: [3221, 6831, 2085, 1341, 3864, 2713, 4819, 3862, 2230, 8659],\n",
       " 17883: [8427, 7950, 5084, 5200, 8656, 3862, 4825, 2346, 8626, 5390],\n",
       " 1799: [3560, 1209, 8208, 3985, 1689, 5821, 1455, 5632, 8005, 8656],\n",
       " 2372: [1470, 3852, 2126, 101, 457, 5795, 3967, 4433, 3775, 4281],\n",
       " 4807: [5262, 7141, 6879, 2729, 5782, 546, 7140, 567, 9462, 849],\n",
       " 11398: [5795, 6033, 4500, 7433, 6035, 3852, 9267, 5446, 9268, 2771],\n",
       " 6373: [5097, 3862, 5997, 3293, 5311, 7369, 5842, 5070, 4825, 6707],\n",
       " 11709: [4215, 6891, 5343, 6858, 6644, 6642, 6255, 2641, 5258, 8628],\n",
       " 8598: [8098, 8097, 10040, 6487, 4913, 5114, 3482, 4023, 6159, 7904],\n",
       " 2492: [4839, 3518, 4879, 2601, 7912, 7559, 7913, 2437, 4514, 1686],\n",
       " 14176: [6043, 3862, 6707, 7238, 4659, 4825, 2346, 5446, 9267, 6035],\n",
       " 14785: [4166, 3323, 5507, 9779, 9753, 7426, 4267, 8014, 8467, 8482],\n",
       " 9392: [3490, 1341, 3862, 2085, 6033, 2230, 3985, 4920, 3864, 3293],\n",
       " 8619: [7433, 7299, 9194, 1354, 8388, 5332, 2603, 7297, 8656, 3857],\n",
       " 17869: [7598, 6930, 6053, 4939, 8585, 9206, 8567, 8160, 9001, 9175],\n",
       " 11049: [4826, 6963, 7784, 6170, 3603, 6332, 4144, 8485, 5106, 4145],\n",
       " 10021: [4287, 3894, 6056, 5315, 6457, 6707, 5326, 5936, 6043, 7575],\n",
       " 7107: [2736, 9736, 5821, 9621, 5858, 8838, 3985, 8003, 4744, 9620],\n",
       " 7371: [5061, 5097, 6035, 4659, 4825, 7408, 1395, 4819, 1730, 5461],\n",
       " 16171: [9267, 3862, 6643, 5070, 5795, 6033, 7299, 7674, 7408, 8656],\n",
       " 14089: [6930, 7598, 6053, 6929, 9206, 8574, 6931, 4939, 6833, 8151],\n",
       " 5551: [3852, 5795, 2126, 101, 4433, 3967, 4806, 1470, 3775, 5533],\n",
       " 7760: [5061, 7299, 3862, 8676, 8645, 5051, 5053, 7458, 8656, 6707],\n",
       " 5947: [1875, 4500, 2006, 2863, 4819, 4825, 3629, 2346, 4801, 4892],\n",
       " 19049: [6563, 7312, 7598, 9419, 8566, 8919, 9405, 8005, 6832, 6033],\n",
       " 4830: [3323, 3748, 7426, 5311, 8014, 8468, 6779, 8482, 3512, 8467],\n",
       " 8132: [4819, 4825, 2346, 3293, 4292, 4102, 9267, 3390, 4215, 8656],\n",
       " 11319: [6033, 6035, 6034, 8064, 8066, 8005, 4500, 6255, 6891, 8003],\n",
       " 4046: [6930, 7492, 4540, 6832, 6833, 7299, 7465, 2230, 6428, 6033],\n",
       " 409: [2336, 3737, 6574, 1482, 733, 1134, 388, 3854, 6795, 6936],\n",
       " 2836: [7860, 6936, 3737, 8084, 733, 2258, 4169, 1482, 3854, 8892],\n",
       " 7755: [4335, 8537, 2252, 476, 7347, 3899, 81, 9348, 3926, 597],\n",
       " 3763: [5428, 2274, 5925, 1756, 7377, 2783, 7068, 6960, 7844, 3012],\n",
       " 633: [5803, 5094, 7818, 5384, 4878, 6884, 2274, 7501, 5428, 2783],\n",
       " 12079: [10374, 4127, 6566, 9551, 2711, 9020, 9113, 3115, 4247, 1350],\n",
       " 1917: [4574, 3488, 6570, 4653, 4558, 4651, 28, 2346, 6412, 2499],\n",
       " 9335: [2346, 2499, 6652, 7433, 6034, 3862, 9267, 5093, 5343, 4670],\n",
       " 15604: [5097, 9610, 5997, 3323, 8482, 4829, 5616, 6936, 3404, 5151],\n",
       " 18533: [9510, 9511, 9513, 8463, 9238, 9512, 8462, 9514, 9682, 9683],\n",
       " 367: [1260, 1903, 2761, 5496, 6877, 9024, 127, 8491, 4175, 4041],\n",
       " 21313: [4540, 3862, 4819, 4215, 9267, 6707, 6053, 4939, 2346, 3323],\n",
       " 11514: [7604, 6891, 4500, 7141, 2126, 8677, 8165, 5259, 7164, 5343],\n",
       " 9806: [8210, 7056, 8720, 9471, 8722, 7610, 8662, 9472, 8828, 9591],\n",
       " 19122: [8341, 6512, 6756, 6587, 7299, 7227, 6035, 8743, 9728, 5795],\n",
       " 9616: [3985, 6035, 3560, 6033, 6034, 4928, 8208, 8005, 4418, 8004],\n",
       " 9596: [7453, 7454, 7452, 2499, 5422, 3975, 7433, 4104, 4819, 224],\n",
       " 7660: [6033, 6035, 5915, 5914, 7396, 7397, 9350, 8064, 1686, 4500],\n",
       " 9557: [9169, 7211, 4988, 8937, 8815, 7645, 9787, 9167, 4971, 9751],\n",
       " 12188: [7983, 8059, 9160, 9497, 7978, 9496, 7056, 7660, 9472, 7907],\n",
       " 6719: [8869, 7211, 7011, 6602, 7792, 7373, 4825, 7619, 8937, 9787],\n",
       " 2483: [9538, 8886, 9249, 10070, 8469, 9983, 6974, 8040, 9774, 6631],\n",
       " 14920: [6053, 3862, 2346, 8656, 7707, 4939, 8626, 7433, 4819, 4825],\n",
       " 17924: [5262, 7141, 5259, 8245, 6798, 5781, 7140, 5782, 849, 8557],\n",
       " 13005: [10374, 4127, 6566, 9551, 2711, 9020, 9113, 3115, 1350, 9519],\n",
       " 2450: [5156, 3862, 6758, 4717, 4981, 5365, 4087, 7458, 4215, 4939],\n",
       " 9221: [3560, 3985, 8208, 2452, 4418, 3544, 4928, 1455, 2603, 5075],\n",
       " 16791: [6707, 3992, 6043, 6892, 9267, 3862, 8637, 8543, 6643, 8655],\n",
       " 5340: [4859, 5452, 5613, 5735, 5728, 4851, 5059, 5614, 5289, 5729],\n",
       " 5180: [7752, 6707, 8354, 6892, 6043, 8356, 5879, 6767, 7073, 6435],\n",
       " 11608: [5795, 5396, 2592, 4939, 101, 9268, 9346, 2297, 9267, 6053],\n",
       " 3924: [4829, 6155, 4826, 4354, 6963, 5840, 3603, 8412, 6737, 4859],\n",
       " 13198: [5720, 6602, 9787, 8862, 8869, 7792, 6886, 2109, 7818, 10008],\n",
       " 776: [4819, 4825, 5434, 3293, 3862, 6565, 7619, 6426, 4573, 5070],\n",
       " 3794: [2126, 4433, 101, 958, 2912, 5795, 3561, 2253, 530, 5533],\n",
       " 13174: [3862, 7619, 4825, 6898, 4819, 8626, 6426, 3867, 5434, 6053],\n",
       " 6019: [5173, 8607, 4677, 4687, 5163, 9197, 1459, 7333, 7332, 3047],\n",
       " 10749: [4819, 6587, 3862, 6565, 4825, 7619, 1341, 4835, 7493, 8656],\n",
       " 20264: [8742, 6756, 8743, 9728, 8206, 8083, 8115, 8003, 6895, 8675],\n",
       " 8862: [6906, 5044, 2346, 2895, 6459, 8656, 3985, 3560, 9082, 3935],\n",
       " 7297: [9350, 9267, 8193, 6908, 7397, 6035, 9405, 6814, 6033, 5795],\n",
       " 12897: [5795, 6035, 9268, 6033, 1470, 8064, 9267, 101, 6034, 2592],\n",
       " 11775: [6381, 8756, 6155, 8097, 7098, 4826, 7404, 8098, 6737, 7049],\n",
       " 9501: [10374, 4127, 6566, 9551, 2711, 9020, 9113, 3115, 4247, 1350],\n",
       " 10034: [8626, 6842, 4835, 1727, 6898, 6426, 4819, 4825, 4861, 7208],\n",
       " 17810: [4825, 8854, 2592, 5396, 3862, 4102, 5795, 6707, 4939, 6053],\n",
       " 939: [561, 6033, 9268, 5446, 4123, 3220, 5795, 441, 3852, 8005],\n",
       " 13388: [9267, 6643, 7433, 4543, 3862, 6707, 8656, 8626, 6423, 5795],\n",
       " 6947: [9071, 6793, 6937, 8444, 6574, 8554, 6795, 8557, 46, 441],\n",
       " 3724: [4318, 6538, 6043, 6707, 6835, 3862, 9267, 7009, 6950, 8626],\n",
       " 21973: [9438, 6162, 8120, 9045, 6545, 7509, 9439, 6869, 8518, 4333],\n",
       " 20221: [8861, 9420, 6403, 7760, 8223, 8240, 8040, 4786, 3679, 2357],\n",
       " 8585: [8164, 8166, 3862, 6033, 6906, 4500, 5343, 6873, 9267, 8165],\n",
       " 15307: [6884, 9789, 8617, 9793, 6843, 7818, 8584, 7420, 5803, 5094],\n",
       " 12666: [9690, 5428, 2274, 3538, 9669, 5925, 5350, 2783, 1756, 2419],\n",
       " 7050: [4903, 4215, 6444, 7581, 6707, 2642, 3862, 3852, 101, 1797],\n",
       " 5206: [9279, 6035, 6033, 9267, 6034, 3852, 5795, 2592, 8005, 3775],\n",
       " 8991: [8003, 6033, 6035, 6034, 9192, 8004, 6323, 3220, 8005, 8656],\n",
       " 15641: [3862, 4825, 2346, 9267, 7299, 6652, 4819, 7601, 4543, 7619],\n",
       " 19566: [3323, 8552, 8482, 7426, 8014, 6779, 4540, 7541, 5649, 6937],\n",
       " 11994: [4659, 8626, 8656, 9267, 7299, 7458, 4928, 5061, 8682, 6895],\n",
       " 13690: [4819, 4825, 6426, 6427, 7322, 5434, 7208, 7619, 5435, 4835],\n",
       " 1428: [1136, 3493, 119, 2369, 2027, 3492, 979, 3481, 755, 2502],\n",
       " 20205: [9402, 7493, 7491, 7923, 9401, 4651, 4575, 8366, 8581, 8690],\n",
       " 19613: [5345, 5394, 8169, 8958, 4984, 5045, 8629, 8809, 8550, 5309],\n",
       " 12081: [2346, 7404, 3862, 9267, 8003, 7299, 4659, 8919, 8656, 2499],\n",
       " 6528: [6428, 4819, 4825, 6426, 7071, 7492, 7619, 6652, 7674, 5434],\n",
       " 22413: [5051, 5053, 8676, 5061, 8364, 8606, 7946, 8366, 7944, 7299],\n",
       " 3917: [1755, 9558, 9560, 3018, 2582, 341, 60, 9556, 3520, 1378],\n",
       " 1443: [1338, 2268, 6943, 7568, 1383, 2279, 5459, 3452, 5481, 4322],\n",
       " 7928: [7004, 1864, 1010, 3769, 3116, 4182, 8240, 3730, 3939, 4786],\n",
       " 8240: [8206, 8208, 8207, 8005, 8003, 3560, 1689, 1455, 3586, 3985],\n",
       " 18995: [7619, 3857, 9267, 6053, 4825, 3862, 4819, 8632, 8626, 8524],\n",
       " 20037: [5764, 6056, 5472, 5936, 8469, 4869, 4486, 4648, 7444, 5237],\n",
       " 16366: [7130, 7654, 9391, 8705, 8104, 3894, 7993, 6089, 6733, 1730],\n",
       " 6506: [5446, 3672, 1354, 6268, 9028, 6269, 9194, 3391, 8626, 3862],\n",
       " 6938: [4939, 6053, 7227, 9508, 9501, 4658, 5795, 6035, 7433, 6033],\n",
       " 8277: [473, 97, 2670, 7802, 2375, 9083, 1000, 1046, 5623, 4670],\n",
       " 11399: [7433, 4135, 3862, 7492, 4215, 2346, 2499, 8316, 6255, 6428],\n",
       " 14464: [7433, 4835, 7265, 8632, 8626, 5070, 3862, 7674, 9267, 8596],\n",
       " 971: [1248, 1937, 5762, 2107, 670, 2954, 441, 10182, 7467, 306],\n",
       " 11030: [7578, 6904, 5344, 4558, 4653, 4574, 9512, 8462, 9510, 8463],\n",
       " 2196: [6033, 6035, 4825, 3851, 5155, 5434, 3862, 4939, 9267, 6426],\n",
       " 10394: [9134, 7598, 6930, 8919, 9210, 9163, 9206, 9096, 1843, 6929],\n",
       " 7349: [2499, 4104, 7433, 2346, 1043, 5074, 7156, 4112, 3558, 129],\n",
       " 7667: [7578, 6904, 7299, 7297, 2346, 2499, 5344, 6587, 4558, 4574],\n",
       " 9285: [8208, 6255, 7946, 8626, 8206, 5061, 5075, 7299, 2603, 3985],\n",
       " 5884: [5556, 1915, 3338, 4964, 4711, 4162, 9750, 2904, 2613, 5759],\n",
       " 4235: [10374, 4127, 6566, 9551, 2711, 9020, 9113, 3115, 4247, 1350],\n",
       " 7333: [4517, 3513, 7134, 7939, 7220, 7838, 5292, 9065, 4091, 4545],\n",
       " 17791: [6593, 6316, 6612, 4994, 5855, 6852, 6575, 6332, 5507, 8654],\n",
       " 14416: [3862, 4819, 4825, 4215, 8626, 8656, 3857, 7433, 5434, 8596],\n",
       " 9498: [3543, 6593, 3323, 6575, 2711, 2603, 7357, 4540, 2346, 5052],\n",
       " 3542: [5093, 5343, 2346, 3862, 3985, 4418, 4819, 5061, 1455, 2499],\n",
       " 8650: [4819, 5435, 5434, 3862, 2316, 6427, 6426, 4825, 4835, 3293],\n",
       " 10990: [7598, 9206, 8919, 6070, 6931, 3322, 4900, 3080, 8607, 3765],\n",
       " 11309: [4819, 4825, 7491, 6426, 3293, 5070, 6898, 8524, 4835, 6427],\n",
       " 15669: [4826, 8412, 4144, 4829, 3603, 4832, 4354, 4821, 8410, 4831],\n",
       " 13641: [3862, 4819, 7619, 6898, 5435, 4835, 7674, 4825, 7208, 3293],\n",
       " 3998: [5795, 3852, 1470, 6035, 6033, 6034, 8005, 101, 7408, 8003],\n",
       " 14113: [4340, 8839, 7585, 5690, 6961, 4339, 4215, 3862, 9267, 5075],\n",
       " 4687: [3257, 2587, 3259, 1691, 4819, 4825, 1847, 1686, 6570, 5074],\n",
       " 9789: [4115, 2599, 6590, 7593, 6918, 3418, 3862, 2958, 7097, 8022],\n",
       " 18439: [6627, 9282, 6922, 7594, 1209, 7437, 7392, 4663, 5461, 1731],\n",
       " 3804: [6053, 6813, 4939, 8611, 9549, 9267, 6423, 4428, 8573, 8647],\n",
       " 18192: [5390, 7786, 7825, 4226, 8254, 7448, 7913, 8138, 7941, 7790],\n",
       " 12849: [7404, 3490, 7098, 4920, 7025, 9117, 6985, 6381, 6902, 5924],\n",
       " 10284: [5764, 5936, 8223, 8469, 8886, 7391, 5237, 4941, 9249, 7278],\n",
       " 13431: [2570, 5648, 4559, 4245, 7632, 5641, 1515, 3946, 6035, 4656],\n",
       " 858: [4558, 3985, 1689, 3560, 8208, 4574, 4014, 5438, 4929, 3544],\n",
       " 5019: [6798, 2346, 6803, 3560, 7591, 3985, 8208, 8656, 9395, 8003],\n",
       " 3242: [1134, 2258, 1013, 6574, 3737, 6936, 388, 9509, 307, 8084],\n",
       " 11258: [4825, 2346, 4819, 7458, 5632, 7299, 6179, 4608, 8656, 3293],\n",
       " 18590: [4623, 6883, 6957, 8919, 6930, 6832, 8626, 9206, 8566, 7688],\n",
       " 3475: [1906, 2633, 9007, 2085, 2549, 7818, 4443, 3490, 4230, 2230],\n",
       " 12198: [7468, 8844, 7467, 3951, 1888, 6702, 8108, 4507, 1355, 5259],\n",
       " 17355: [8617, 8584, 9793, 7818, 9794, 3322, 6035, 5384, 9789, 7404],\n",
       " 16280: [10374, 4127, 6566, 9551, 2711, 9020, 9113, 3115, 4247, 1350],\n",
       " 5855: [4819, 4825, 3862, 6426, 3293, 2346, 3857, 4861, 4835, 7492],\n",
       " 12690: [4540, 3323, 6425, 2722, 5268, 3499, 5144, 1627, 3936, 5851],\n",
       " 16595: [5757, 9079, 6505, 8505, 2297, 4868, 5760, 3781, 7818, 3322],\n",
       " 8917: [9267, 6033, 6035, 9393, 8656, 8005, 8626, 7433, 5795, 8341],\n",
       " 8168: [3136, 6017, 6053, 9733, 4939, 6813, 1341, 8573, 2230, 3864],\n",
       " 8775: [6813, 3857, 4825, 3862, 4819, 4215, 7433, 7299, 2346, 8626],\n",
       " 8751: [4687, 4658, 6819, 5174, 6942, 6605, 9501, 5173, 4698, 9195],\n",
       " 15718: [7598, 8919, 9206, 6929, 3136, 6931, 9134, 9733, 8566, 9001],\n",
       " 3921: [2502, 979, 1768, 1225, 328, 1358, 964, 7982, 1409, 4240],\n",
       " 1783: [4573, 2429, 4835, 5343, 4861, 2499, 7492, 2346, 5641, 5093],\n",
       " 19622: [6895, 3865, 8388, 4115, 8656, 6269, 7299, 8386, 9267, 8626],\n",
       " 16544: [3323, 5507, 6589, 5616, 4267, 8014, 6883, 7639, 5311, 5452],\n",
       " 18104: [9083, 4670, 5623, 9128, 6033, 9393, 8003, 9267, 9394, 6035],\n",
       " 6479: [1627, 6425, 2722, 212, 8616, 55, 8631, 4540, 5268, 5144],\n",
       " 17447: [9512, 5311, 3323, 8464, 5116, 7575, 9514, 9511, 8463, 8014],\n",
       " 3516: [9235, 9376, 6269, 9267, 6643, 7433, 4115, 8626, 9028, 8388],\n",
       " 7274: [8364, 8366, 9457, 3768, 6570, 6696, 4651, 6412, 6701, 9597],\n",
       " 6329: [7517, 8517, 6423, 8611, 7516, 6783, 8516, 8647, 201, 1255],\n",
       " 7997: [7496, 6903, 7576, 9203, 3591, 6639, 2533, 5520, 7150, 3339],\n",
       " 13104: [7598, 8919, 9206, 6930, 6929, 6931, 6832, 8585, 8566, 9175],\n",
       " 9826: [7601, 1004, 8071, 6324, 2337, 4721, 3850, 7041, 7641, 3862],\n",
       " 13214: [7764, 8631, 5085, 8616, 1627, 6944, 5144, 2722, 3499, 4534],\n",
       " 9449: [8611, 6053, 8647, 4939, 6813, 6423, 4543, 4542, 8656, 7517],\n",
       " 867: [8341, 6203, 1755, 4500, 2582, 5343, 8344, 6756, 6903, 7299],\n",
       " 14819: [5997, 5097, 8482, 3323, 6779, 7541, 6817, 4285, 8718, 9779],\n",
       " 12319: [7131, 8878, 8618, 6466, 6622, 4928, 9232, 186, 6465, 8880],\n",
       " 5691: [6613, 9200, 4774, 5879, 4253, 8859, 8356, 7752, 6892, 7660],\n",
       " 9726: [3854, 6574, 8892, 4285, 3737, 4427, 441, 46, 5997, 1803],\n",
       " 9316: [4166, 3323, 8014, 8482, 7426, 8017, 4267, 8552, 9753, 6875],\n",
       " 3590: [2797, 3601, 2346, 4632, 6625, 3862, 5458, 3549, 8377, 7299],\n",
       " 13908: [6574, 3737, 3854, 8892, 1661, 2258, 4427, 733, 1482, 1134],\n",
       " 8308: [3985, 3862, 2098, 2509, 3629, 7224, 5716, 3504, 6255, 5099],\n",
       " 6597: [5327, 6801, 6269, 3220, 3511, 6268, 4279, 3552, 4235, 8004],\n",
       " 15007: [8760, 6449, 8411, 7617, 4278, 7207, 5588, 7505, 6045, 7890],\n",
       " 7799: [6033, 6035, 4500, 8003, 8005, 8004, 8064, 5821, 5343, 6891],\n",
       " 2299: [2098, 1295, 2599, 3418, 3868, 2832, 3862, 2716, 8005, 7097],\n",
       " 20145: [6157, 1295, 2716, 8341, 6894, 6384, 6763, 2894, 3862, 5843],\n",
       " 13192: [6587, 6426, 7493, 7208, 8524, 4835, 7492, 6427, 7674, 8527],\n",
       " 9460: [2098, 5146, 4462, 3852, 5795, 3301, 6495, 101, 6033, 6035],\n",
       " 50: [5925, 5428, 2783, 2274, 1756, 6960, 629, 7499, 1800, 3980],\n",
       " 2875: [8661, 1341, 2085, 4230, 3864, 7635, 2230, 9007, 6860, 2713],\n",
       " 15655: [6895, 3852, 6035, 8341, 4659, 5061, 6033, 3775, 3862, 5461],\n",
       " 10967: [8656, 8626, 4340, 8682, 6423, 4819, 9267, 4543, 7433, 5690],\n",
       " 3960: [2813, 2123, 4364, 2812, 7698, 2752, 3390, 1586, 7322, 3273],\n",
       " 11685: [6883, 5801, 7150, 8467, 6957, 8599, 9790, 7426, 3323, 6316],\n",
       " 21571: [9510, 3992, 9514, 4800, 6892, 8462, 8655, 5966, 6317, 6436],\n",
       " 21351: [7781, 6798, 6793, 9578, 9577, 9070, 8557, 9395, 9135, 9883],\n",
       " 13071: [4340, 5690, 4339, 6142, 7946, 5444, 6961, 7599, 6255, 4819],\n",
       " 17297: [4825, 4819, 8656, 8626, 4215, 5069, 5435, 5070, 4835, 3857],\n",
       " 7247: [3862, 9267, 6053, 7433, 4939, 8626, 7299, 4825, 3865, 4234],\n",
       " 17308: [4983, 3709, 3711, 4648, 4486, 4197, 6707, 8088, 5139, 6043],\n",
       " 2637: [4340, 4339, 5443, 6864, 5444, 6961, 7599, 2346, 8626, 2603],\n",
       " 12817: [8391, 7790, 7792, 2893, 7912, 2838, 8390, 2601, 2230, 4137],\n",
       " 5452: [1354, 3862, 7299, 2346, 1515, 8656, 8626, 4215, 1566, 4825],\n",
       " 1206: [2274, 5428, 2783, 1756, 5925, 3453, 3538, 6960, 7499, 7501],\n",
       " 17309: [9611, 10166, 5656, 7190, 9328, 10155, 8438, 7066, 6455, 8408],\n",
       " 8325: [10374, 4127, 6566, 9551, 2711, 9020, 9113, 3115, 4247, 1350],\n",
       " 11879: [8661, 4230, 2085, 4443, 2230, 6588, 7608, 9140, 1341, 7638],\n",
       " 9403: [4900, 3765, 3080, 4899, 6070, 6597, 5932, 6103, 6420, 7036],\n",
       " 5148: [7458, 9267, 2346, 8656, 5939, 6043, 7299, 8626, 2603, 2499],\n",
       " 3673: [6308, 6324, 7041, 5062, 6590, 6517, 5464, 1165, 8071, 1004],\n",
       " 17627: [6602, 6886, 5720, 2034, 9480, 8869, 6021, 4428, 54, 5200],\n",
       " 12625: [4939, 6053, 9267, 6813, 4825, 8573, 4215, 4819, 7433, 3862],\n",
       " 12753: [10374, 4127, 6566, 9551, 2711, 9020, 9113, 3115, 4247, 1350],\n",
       " 15643: [8391, 8390, 3490, 3516, 3598, 8038, 4920, 2549, 5097, 4137],\n",
       " 11485: [6969, 6380, 7432, 9078, 3336, 2346, 4825, 5145, 5795, 9405],\n",
       " 10407: [4543, 8341, 4542, 4659, 5187, 2346, 1295, 3862, 6423, 3116],\n",
       " 1273: [5458, 4939, 4253, 4157, 6416, 9842, 9881, 9573, 6813, 9926],\n",
       " 16486: [4658, 4687, 6225, 4698, 3047, 6707, 3043, 8462, 3790, 6819],\n",
       " 16569: [8527, 6225, 8524, 5435, 7619, 6428, 4825, 9197, 5434, 4698],\n",
       " 10354: [10374, 4127, 6566, 9551, 2711, 9020, 9113, 4247, 1350, 9519],\n",
       " 19043: [6793, 9577, 9578, 9070, 7619, 8557, 8553, 1689, 6428, 9395],\n",
       " 11335: [6588, 2085, 3864, 8659, 1341, 2713, 4230, 2230, 6023, 3862],\n",
       " 16537: [7656, 6846, 9035, 7652, 9040, 8654, 6852, 9470, 6716, 7614],\n",
       " 9896: [2852, 8649, 3851, 201, 1255, 2396, 8604, 8624, 6577, 5155],\n",
       " 891: [10374, 4127, 6566, 9551, 2711, 9020, 9113, 3115, 4247, 1350],\n",
       " 18438: [6590, 6839, 7593, 3869, 2958, 9094, 8651, 7641, 5097, 1803],\n",
       " 10472: [3080, 2923, 6070, 3765, 4899, 5932, 6597, 4141, 4901, 3841],\n",
       " 7877: [4573, 6587, 6565, 6579, 8633, 2346, 2499, 4861, 4906, 8612],\n",
       " 3852: [9028, 7224, 6643, 9267, 1507, 3116, 6033, 7433, 3862, 6035],\n",
       " 4835: [5390, 978, 9005, 7913, 4169, 2601, 8076, 4226, 7786, 4905],\n",
       " 15881: [6844, 5156, 3862, 7619, 6898, 7493, 9403, 6841, 7208, 4819],\n",
       " 14034: [8524, 3851, 7493, 7491, 201, 6053, 1255, 6426, 6427, 9402],\n",
       " 6901: [2346, 2499, 1810, 2603, 3862, 4819, 5458, 4653, 4825, 4558],\n",
       " 12371: [3862, 4717, 3935, 2499, 7433, 4102, 4819, 4825, 4939, 2603],\n",
       " 13707: [7224, 4660, 1686, 4819, 3862, 6587, 1847, 9267, 7433, 6426],\n",
       " 4677: [8626, 2346, 8656, 6043, 9267, 6707, 3862, 6035, 7299, 5632],\n",
       " 8818: [8206, 6890, 8207, 6392, 4659, 3985, 5061, 4418, 8656, 2346],\n",
       " 11752: [4819, 3862, 4825, 6426, 8524, 7619, 7208, 6898, 7491, 9402],\n",
       " 18470: [6587, 6906, 596, 1125, 4573, 8626, 8656, 8633, 6565, 5075],\n",
       " 22164: [8166, 8666, 6373, 8164, 6325, 7165, 8683, 6891, 5343, 9048],\n",
       " 9888: [7639, 7605, 8629, 6589, 5394, 3862, 4984, 2346, 4825, 8169],\n",
       " 17932: [4825, 5435, 4819, 6427, 5434, 7818, 4835, 5803, 6428, 6843],\n",
       " 15197: [8271, 8355, 6972, 9635, 8251, 8560, 8227, 8426, 8351, 8422],\n",
       " 3637: [4340, 8656, 6961, 7599, 8626, 4339, 9267, 5461, 8682, 5051],\n",
       " 14236: [5803, 5094, 3322, 6884, 4878, 4187, 5384, 8617, 6707, 6043],\n",
       " 13996: [5180, 3517, 7645, 8869, 3757, 10008, 10046, 6886, 9480, 9168],\n",
       " 17076: [8462, 9975, 8464, 8463, 9514, 9512, 9511, 9976, 7349, 9513],\n",
       " 14051: [5795, 6035, 6033, 3852, 6034, 9346, 2592, 9268, 4939, 5446],\n",
       " 18187: [9403, 8524, 7493, 8525, 7491, 8527, 7619, 4835, 6898, 7492],\n",
       " 3556: [5396, 3943, 2592, 6149, 3220, 9268, 3478, 4502, 101, 6033],\n",
       " 7852: [3322, 7818, 7025, 3490, 5384, 6884, 5803, 5030, 1469, 6843],\n",
       " 13822: [8524, 6426, 6427, 7491, 7493, 5435, 8527, 5434, 9536, 7619],\n",
       " 3266: [3323, 2600, 8014, 7426, 8482, 3865, 9779, 2437, 6953, 1354],\n",
       " 5779: [4991, 971, 4115, 3865, 1354, 6570, 8388, 2600, 5471, 3084],\n",
       " 13791: [7601, 7641, 8587, 2085, 7698, 7697, 1341, 4230, 8661, 1517],\n",
       " 2093: [6635, 1158, 8057, 6869, 7471, 3523, 9536, 8551, 7369, 7473],\n",
       " 11841: [6373, 8666, 8166, 8164, 7165, 6891, 5399, 8988, 7115, 8683],\n",
       " 3889: [6909, 6347, 7597, 6345, 9154, 1712, 4825, 3802, 1259, 6882],\n",
       " 1809: [4717, 9267, 3862, 8626, 8656, 7433, 5632, 2499, 2346, 8341],\n",
       " 5622: [4651, 6412, 6033, 6892, 6426, 6427, 6652, 7619, 5435, 4575],\n",
       " 14011: [9391, 4253, 6225, 6707, 7993, 9536, 6436, 4825, 8688, 3862],\n",
       " 11785: [4517, 9065, 3748, 7939, 4545, 4514, 7913, 3512, 5292, 7134],\n",
       " 17212: [8164, 8166, 4104, 3679, 7433, 7816, 8165, 6643, 9028, 8129],\n",
       " 9426: [2600, 4115, 3579, 3242, 5471, 6268, 8388, 8386, 1354, 8022],\n",
       " 11369: [3323, 8014, 7426, 7752, 5311, 6575, 7575, 6593, 8482, 6892],\n",
       " 16115: [6908, 9351, 6814, 9350, 7397, 9403, 8525, 7491, 7493, 8193],\n",
       " 16687: [9736, 1689, 6323, 6921, 6867, 6954, 4816, 9192, 8806, 8197],\n",
       " 13606: [7347, 4335, 787, 8559, 597, 1213, 2252, 3899, 81, 3380],\n",
       " 17832: [7619, 6898, 6426, 4835, 5434, 4819, 7299, 4825, 6053, 6427],\n",
       " 2017: [8360, 8515, 7632, 9267, 8626, 4543, 7433, 8841, 8656, 2346],\n",
       " 39: [10374, 4127, 6566, 9551, 2711, 9020, 9113, 3115, 4247, 1350],\n",
       " 6068: [7993, 3323, 4829, 5311, 6892, 7660, 8014, 7426, 7784, 9826],\n",
       " 11829: [6827, 6512, 6707, 6043, 9175, 3560, 8601, 2346, 3862, 8656],\n",
       " 13102: [9393, 6575, 9396, 9267, 6593, 9597, 6268, 3862, 6269, 8626],\n",
       " 8732: [4573, 6587, 6579, 6565, 8633, 5093, 4906, 8656, 6216, 8626],\n",
       " 7725: [4825, 3862, 4819, 5435, 3293, 1810, 2346, 5434, 4102, 2499],\n",
       " 3124: [4651, 9403, 6696, 8366, 9457, 4575, 6412, 6570, 9456, 3768],\n",
       " 7916: [7619, 5070, 6240, 6898, 4861, 5641, 7071, 6239, 7821, 4835],\n",
       " 12831: [3869, 7593, 2958, 6585, 9094, 6956, 8071, 8651, 3506, 6324],\n",
       " 10203: [6892, 7660, 4102, 6707, 3862, 4939, 3856, 4825, 6831, 4215],\n",
       " 11297: [5434, 5648, 6427, 3293, 4819, 5640, 4825, 1702, 6426, 3946],\n",
       " 10543: [7458, 4835, 8632, 4819, 1515, 3857, 4825, 5061, 8656, 8626],\n",
       " 426: [40, 825, 2012, 3858, 6596, 1878, 8483, 7591, 312, 9136],\n",
       " 7834: [2499, 3935, 2346, 4801, 1875, 6053, 9267, 5185, 4939, 5075],\n",
       " 7081: [10374, 4127, 6566, 9551, 2711, 9020, 9113, 3115, 4247, 1350],\n",
       " 4845: [6787, 6831, 6279, 2936, 9125, 2177, 1437, 9098, 3673, 7601],\n",
       " 2021: [7865, 559, 5273, 1221, 5896, 2530, 716, 2533, 3339, 786],\n",
       " 17442: [6268, 8079, 9267, 3560, 8626, 8656, 8206, 8005, 8003, 8364],\n",
       " 105: [5097, 2346, 4285, 4540, 8656, 1395, 7056, 3856, 8626, 8718],\n",
       " 5656: [3862, 2499, 4215, 7433, 4112, 3857, 4102, 4825, 2603, 4104],\n",
       " 2917: [44, 1595, 1159, 6683, 1353, 7717, 2379, 5487, 5486, 2859],\n",
       " 13492: [4532, 1295, 2716, 5075, 6579, 7214, 5074, 4644, 1955, 6587],\n",
       " 1960: [2346, 7619, 4861, 1847, 1686, 7071, 6898, 2499, 4825, 4819],\n",
       " 3997: [5446, 9267, 9346, 2099, 5795, 3862, 4819, 7591, 1209, 4659],\n",
       " 12699: [9469, 4994, 6651, 6593, 7224, 4220, 6645, 5324, 7056, 9471],\n",
       " 18991: [8462, 8464, 8656, 8626, 9511, 4819, 7946, 4825, 5061, 3678],\n",
       " 46: [5343, 7299, 4500, 6033, 8003, 8645, 5053, 8005, 8656, 6587],\n",
       " 7150: [8386, 8387, 5471, 8847, 8388, 5165, 3579, 5475, 9791, 10100],\n",
       " 11928: [5879, 10162, 6613, 4253, 7746, 7856, 8222, 7256, 5245, 9200],\n",
       " 14628: [7433, 4939, 3862, 7712, 4819, 3769, 7718, 6587, 7224, 6053],\n",
       " 22651: [8728, 7619, 9459, 8727, 7721, 9403, 6898, 8527, 8525, 7493],\n",
       " 668: [7717, 1353, 2379, 1159, 1595, 5485, 2854, 1324, 2859, 1587],\n",
       " 17300: [4774, 7856, 9536, 7923, 5435, 4825, 9403, 5434, 10162, 4651],\n",
       " 16008: [6379, 5150, 3204, 2048, 6702, 3336, 5166, 7468, 5259, 9078],\n",
       " 11087: [5971, 6496, 7637, 3507, 5970, 8665, 4515, 6589, 3490, 4920],\n",
       " 3160: [8559, 7433, 4335, 8656, 3862, 4839, 8626, 9267, 3891, 2437],\n",
       " 12109: [6367, 8402, 8823, 10025, 9207, 7171, 2054, 3535, 2056, 6492],\n",
       " 5636: [1360, 2353, 2909, 5245, 8656, 8626, 3828, 3620, 5446, 3408],\n",
       " 4948: [1770, 53, 1901, 842, 481, 1769, 2552, 5560, 4871, 5562],\n",
       " 19060: [7620, 4339, 4340, 2346, 8656, 8341, 6053, 5690, 8626, 6563],\n",
       " 2444: [5695, 8136, 134, 6593, 5507, 5682, 7866, 5404, 9058, 7399],\n",
       " 13252: [4825, 3862, 6426, 5070, 4215, 5069, 6898, 7619, 5434, 3293],\n",
       " 7559: [2346, 8656, 5051, 4500, 5053, 8626, 6587, 7299, 2603, 4819],\n",
       " 9798: [10374, 4127, 6566, 9551, 2711, 9020, 9113, 3115, 4247, 1350],\n",
       " 75: [6575, 3490, 9007, 7213, 4994, 5924, 6593, 5855, 4920, 6496],\n",
       " 2164: [5896, 6033, 6035, 5795, 6034, 3220, 3852, 4649, 561, 3219],\n",
       " 5960: [1906, 2392, 2456, 2068, 1709, 3535, 4819, 2549, 3457, 2633],\n",
       " 10352: [10374, 4127, 6566, 9551, 2711, 9020, 9113, 3115, 4247, 1350],\n",
       " 20357: [9149, 9146, 8774, 9147, 9770, 9678, 9665, 9148, 5310, 3648],\n",
       " 6910: [2499, 1810, 4573, 2603, 4819, 6587, 4104, 7071, 7433, 8682],\n",
       " 13532: [6821, 3323, 6892, 5311, 6707, 8014, 7575, 7426, 7660, 4285],\n",
       " 7033: [3429, 3259, 2587, 1847, 4678, 5446, 1212, 7224, 4660, 5632],\n",
       " 21583: [8447, 7068, 3223, 881, 2274, 3012, 5428, 2110, 2783, 7377],\n",
       " 16321: [6892, 7660, 6707, 7369, 9469, 8428, 8619, 5532, 5320, 5311],\n",
       " 18125: [3862, 5156, 4215, 4981, 6758, 4087, 4717, 2346, 7433, 6841],\n",
       " 11203: [8341, 6512, 4717, 4825, 6894, 6426, 6035, 4819, 5145, 6043],\n",
       " 2901: [7299, 8208, 36, 5051, 8004, 5053, 2337, 8645, 3850, 201],\n",
       " 19539: [7598, 8919, 6930, 6931, 3322, 7818, 5094, 6929, 9134, 7819],\n",
       " 11279: [10374, 4127, 6566, 9551, 2711, 9020, 9113, 3115, 4247, 1350],\n",
       " 8524: [3323, 8014, 7426, 8482, 9779, 9068, 8986, 4169, 8552, 9826],\n",
       " 7160: [1360, 5738, 5245, 3408, 1830, 4060, 5813, 2346, 1800, 4825],\n",
       " 21113: [7152, 9793, 6931, 6930, 8617, 8934, 6929, 8584, 6957, 10026],\n",
       " 13757: [8479, 6657, 882, 2234, 1286, 4011, 8478, 5534, 1521, 7461],\n",
       " 5233: [8005, 3985, 5821, 8208, 8004, 3560, 8003, 8656, 6801, 6033],\n",
       " 11: [7802, 9083, 4670, 8208, 8206, 6034, 6035, 8207, 8003, 6033],\n",
       " 7830: [4658, 8014, 6605, 6819, 6938, 5311, 4677, 7333, 9197, 6225],\n",
       " 3020: [8717, 7790, 3732, 2893, 2398, 8391, 6885, 7947, 4461, 6622],\n",
       " 19908: [8160, 4979, 22, 5755, 5264, 4939, 21, 6053, 5261, 4475],\n",
       " 5620: [101, 3852, 6910, 5795, 1470, 6892, 3894, 2126, 6707, 3862],\n",
       " 8315: [5452, 5728, 4851, 6510, 5616, 5735, 5059, 4829, 5729, 5613],\n",
       " 13712: [6945, 2641, 4825, 4481, 4215, 9668, 8656, 5053, 2346, 3862],\n",
       " 3855: [3859, 1825, 2501, 436, 748, 1908, 424, 2803, 2898, 8341],\n",
       " 16071: [6884, 7818, 6843, 3322, 5094, 5384, 8617, 5923, 4187, 4878],\n",
       " 79: [5097, 1229, 38, 435, 8718, 1408, 9610, 3404, 2251, 6560],\n",
       " 10107: [10374, 4127, 6566, 9551, 2711, 9020, 9113, 3115, 4247, 1350],\n",
       " 15752: [4335, 8559, 2252, 476, 3899, 597, 3926, 7347, 81, 3380],\n",
       " 1088: [3864, 2085, 1341, 2230, 3551, 2713, 8640, 4965, 7608, 5499],\n",
       " 7926: [6428, 7492, 8527, 6426, 8525, 7071, 8524, 7493, 6898, 7619],\n",
       " 16904: [7820, 8931, 9643, 7821, 5069, 6240, 8978, 5070, 9642, 9403],\n",
       " 7299: [3394, 8160, 8159, 9377, 1744, 5264, 5266, 4951, 1706, 5261],\n",
       " 14472: [2429, 4835, 298, 6053, 3947, 4939, 8632, 7209, 3946, 3293],\n",
       " 10968: [6681, 5547, 4517, 5329, 9065, 7617, 7939, 8411, 4974, 6449],\n",
       " 720: [5075, 2346, 5074, 3862, 2603, 7214, 9267, 6870, 4339, 4819],\n",
       " 7933: [6688, 6683, 8728, 2859, 2379, 7717, 5485, 9179, 7721, 7667],\n",
       " 8392: [6155, 6963, 8412, 4856, 5289, 4852, 6471, 4441, 7705, 7703],\n",
       " 8819: [9580, 7476, 8628, 10010, 8611, 8648, 8647, 5942, 8054, 7155],\n",
       " 15943: [4825, 6426, 4819, 5435, 8632, 5145, 3862, 4835, 4714, 5434],\n",
       " 993: [7150, 9005, 9790, 5390, 7913, 7479, 6648, 9776, 4226, 6885],\n",
       " 6669: [4913, 5883, 7115, 4023, 7904, 6487, 10040, 9356, 7903, 10066],\n",
       " 3028: [6595, 436, 2898, 2890, 3549, 7031, 5075, 5074, 4678, 7214],\n",
       " 16083: [6423, 7515, 4543, 8611, 8647, 6053, 7516, 9267, 8656, 4819],\n",
       " 8307: [6390, 4825, 4651, 3293, 5648, 8656, 3828, 4819, 8367, 1718],\n",
       " 18381: [4623, 7614, 6900, 8654, 6716, 6852, 4285, 675, 5324, 6035],\n",
       " 18744: [4515, 7773, 3507, 7638, 9570, 6843, 7818, 9793, 6884, 5972],\n",
       " 13622: [5097, 9610, 6549, 1229, 3854, 4427, 6574, 38, 2251, 8892],\n",
       " 13542: [5803, 5094, 9222, 3322, 5923, 5997, 7818, 5384, 6884, 8718],\n",
       " 1293: [8207, 8206, 8005, 8004, 4542, 8003, 8656, 5795, 6423, 4928],\n",
       " 17534: [6643, 5061, 9267, 4939, 5051, 7299, 1619, 8676, 7458, 8656],\n",
       " 4323: [6622, 4928, 4929, 8003, 7135, 6466, 6255, 7539, 8206, 6034],\n",
       " 13250: [7632, 9350, 5842, 8791, 5843, 7946, 6908, 7299, 6033, 6035],\n",
       " 19350: [8552, 3323, 6817, 8482, 7426, 8014, 8017, 10182, 7425, 5311],\n",
       " 7582: [7818, 5384, 3322, 4878, 5803, 6957, 5094, 6884, 6843, 8617],\n",
       " 12368: [5521, 9493, 5520, 7576, 6903, 9492, 6053, 9235, 1781, 4939],\n",
       " 5461: [4334, 4781, 1469, 4494, 4438, 4277, 1026, 4212, 4399, 4290],\n",
       " 4451: [2012, 3299, 3858, 9136, 6820, 8483, 40, 3346, 1878, 2652],\n",
       " 14348: [3920, 5842, 3862, 4686, 7073, 2894, 9267, 9359, 2346, 5074],\n",
       " 7912: [10041, 6985, 7404, 5884, 7098, 10050, 4866, 8098, 7049, 7192],\n",
       " 18729: [6053, 6427, 6426, 4835, 5155, 7493, 2894, 4819, 7433, 5842],\n",
       " 8886: [8208, 1689, 1455, 6622, 3560, 3544, 2452, 6255, 8656, 6035],\n",
       " 18946: [6269, 6587, 4573, 6565, 8656, 8682, 7299, 8626, 5064, 8341],\n",
       " 2550: [1341, 2085, 3864, 2230, 8659, 4230, 6588, 2713, 8661, 4558],\n",
       " 11401: [10374, 4127, 6566, 9551, 2711, 9020, 9113, 3115, 4247, 1350],\n",
       " 10275: [10374, 4127, 6566, 2711, 9020, 9113, 3115, 4247, 1350, 9519],\n",
       " 19269: [1825, 3859, 1908, 436, 748, 2803, 2501, 3383, 6535, 424],\n",
       " 16523: [7517, 7458, 6423, 6783, 8516, 6784, 8517, 4542, 8611, 8647],\n",
       " 10747: [7493, 9402, 5690, 7491, 9403, 6426, 7433, 8524, 6427, 4340],\n",
       " 8838: [7243, 5519, 1323, 3980, 5542, 1960, 7968, 2175, 976, 7244],\n",
       " 14935: [4444, 5726, 8835, 8831, 5555, 230, 6772, 1284, 2325, 3674],\n",
       " 13527: [3737, 8892, 5793, 4427, 1661, 6592, 9509, 2258, 6795, 733],\n",
       " 19180: [7576, 1181, 1781, 4479, 551, 2596, 1948, 8172, 3287, 4036],\n",
       " 10958: [8482, 7426, 8552, 8014, 8017, 7425, 8986, 4166, 4267, 9826],\n",
       " 8960: [6585, 3869, 1004, 6324, 3506, 9094, 2337, 8071, 2958, 3850],\n",
       " 4073: [8003, 8207, 3985, 8208, 1455, 8005, 3829, 6622, 6924, 2452],\n",
       " 10824: [4690, 5477, 5798, 7567, 8722, 5145, 5795, 7056, 3852, 6035],\n",
       " 1582: [1189, 117, 380, 3872, 9571, 8231, 5984, 951, 4180, 516],\n",
       " 2601: [7080, 4215, 7153, 6884, 9789, 7582, 7818, 9810, 8617, 9794],\n",
       " 12026: [3218, 3862, 584, 2196, 5156, 3851, 4620, 6824, 4819, 6577],\n",
       " 3238: [6195, 3821, 2750, 9111, 120, 1651, 850, 8200, 8811, 6463],\n",
       " 8197: [2852, 2334, 5146, 1255, 201, 8858, 3301, 1771, 9527, 1972],\n",
       " 4900: [2346, 6035, 2603, 6034, 5061, 3593, 1475, 5446, 5121, 3985],\n",
       " 4715: [3765, 4900, 6070, 6597, 5932, 4899, 3165, 6103, 4901, 6420],\n",
       " 9710: [8919, 7598, 6930, 9206, 9134, 8573, 6931, 6929, 9263, 8567],\n",
       " 9923: [8827, 8829, 7752, 8828, 4774, 1842, 6892, 4910, 7349, 5786],\n",
       " 18546: [5155, 4500, 3862, 6707, 4939, 5075, 2894, 6053, 9267, 6033],\n",
       " 1863: [8656, 9267, 7299, 3862, 7674, 8626, 5061, 6035, 7433, 7609],\n",
       " 10622: [6033, 8166, 4500, 8165, 8666, 5343, 6034, 6035, 6373, 6891],\n",
       " 10565: [7208, 4861, 1270, 1515, 2429, 5641, 5648, 8596, 2570, 3495],\n",
       " 2953: [7457, 7458, 6587, 7456, 7299, 4819, 4825, 8645, 3862, 7619],\n",
       " 13932: [6813, 9267, 9549, 3862, 8626, 8573, 8656, 4825, 2346, 4819],\n",
       " 649: [1903, 2882, 8491, 1006, 8490, 7176, 9024, 761, 500, 6877],\n",
       " 20047: [6555, 4889, 1097, 8024, 1205, 7962, 7278, 6065, 3694, 9327],\n",
       " 12099: [4115, 7619, 7820, 8931, 2600, 7071, 5069, 8022, 5471, 3242],\n",
       " 1507: [3490, 7818, 3322, 4920, 5030, 7819, 5094, 7008, 7025, 7637],\n",
       " 19969: [6033, 8064, 6034, 4500, 5343, 6891, 8066, 8004, 8003, 8005],\n",
       " 17834: [8388, 6423, 4543, 3865, 1354, 7299, 8656, 4542, 4115, 8387],\n",
       " 4296: [4678, 4660, 1686, 2587, 7224, 5205, 1847, 7225, 3803, 3079],\n",
       " 745: [10374, 4127, 6566, 9551, 2711, 9020, 9113, 3115, 4247, 1350],\n",
       " 3322: [4905, 7913, 5390, 2470, 7150, 4169, 2601, 7912, 4514, 7941],\n",
       " 20974: [4928, 6622, 4929, 7299, 6255, 2603, 9267, 6033, 6466, 8004],\n",
       " 17828: [6798, 8557, 9070, 9577, 9395, 9402, 7619, 7492, 9403, 4835],\n",
       " 519: [1405, 272, 333, 8613, 588, 38, 1686, 1687, 913, 1847],\n",
       " 2504: [6499, 7041, 6324, 3197, 4721, 7641, 1165, 7698, 7695, 5063],\n",
       " 12709: [4300, 1444, 3766, 6648, 557, 4726, 3509, 7752, 875, 4247],\n",
       " 13279: [4939, 6053, 8110, 5803, 4878, 5094, 6813, 3322, 4215, 8151],\n",
       " 9503: [9790, 4169, 3323, 8482, 9833, 8986, 8017, 3855, 7426, 9777],\n",
       " 6065: [2549, 5924, 5795, 6892, 3852, 3490, 9007, 3862, 4920, 9759],\n",
       " 12121: [10193, 6891, 8164, 4500, 8666, 7165, 6325, 6373, 5343, 8165],\n",
       " 57: [7073, 5155, 5842, 3920, 2894, 3862, 7224, 6707, 9546, 5070],\n",
       " 10300: [7593, 6590, 8639, 3869, 2958, 6839, 9094, 8032, 6585, 8071],\n",
       " 10803: [8159, 5264, 8626, 5261, 7433, 9267, 5755, 8682, 2603, 7299],\n",
       " 1647: [1459, 1977, 1990, 2621, 7628, 212, 7618, 4106, 8607, 5224],\n",
       " 10399: [3475, 3165, 6597, 6070, 3765, 4248, 6103, 6285, 5932, 4900],\n",
       " 12377: [8159, 9377, 3394, 3317, 1744, 5264, 5266, 223, 1706, 22],\n",
       " 20018: [3857, 6707, 3862, 9602, 3504, 4825, 38, 5434, 4819, 5435],\n",
       " 10047: [8208, 5435, 4889, 8206, 9645, 6427, 6426, 8656, 4819, 8444],\n",
       " 8939: [9864, 9858, 9573, 9842, 6416, 9881, 9907, 4157, 3448, 8078],\n",
       " 20029: [5764, 8223, 6092, 9062, 4941, 9249, 7391, 5940, 5861, 8529],\n",
       " 9904: [5729, 6306, 6478, 4859, 6304, 4855, 4829, 4832, 4821, 5617],\n",
       " 829: [2722, 8616, 3499, 8631, 1627, 8443, 8444, 5144, 5268, 1239],\n",
       " 6896: [6195, 2750, 120, 850, 9110, 3204, 5144, 6035, 6463, 9111],\n",
       " 16278: [8611, 6423, 7517, 8647, 4542, 7515, 4543, 8517, 8656, 6783],\n",
       " 9534: [6883, 4572, 978, 6948, 4226, 7479, 8038, 7913, 9005, 2601],\n",
       " 15891: [6873, 4543, 9267, 8656, 6053, 4339, 3862, 6035, 596, 6643],\n",
       " 6461: [7662, 5332, 5380, 6643, 5330, 5382, 7665, 9396, 9394, 7663],\n",
       " 3093: [6943, 7568, 856, 1338, 1004, 3452, 6585, 3850, 4721, 6324],\n",
       " 5915: [10374, 4127, 6566, 9551, 2711, 9020, 9113, 3115, 4247, 1350],\n",
       " 4593: [7913, 4514, 3518, 4545, 3513, 2432, 7479, 7786, 1357, 978],\n",
       " 2707: [7458, 7299, 9267, 5795, 6622, 7946, 6255, 6033, 3852, 6035],\n",
       " 6106: [3323, 8482, 9790, 8552, 7426, 9779, 8017, 8014, 7425, 8986],\n",
       " 11954: [5070, 7619, 5061, 4819, 6898, 7492, 5069, 6428, 7208, 7674],\n",
       " 15967: [5435, 8636, 4819, 6426, 6652, 5434, 8632, 6427, 4651, 7433],\n",
       " 8030: [7623, 4801, 6758, 7476, 9581, 8628, 6326, 3862, 1875, 6844],\n",
       " 14352: [8129, 7962, 9249, 7879, 8886, 8469, 5764, 8024, 9983, 7444],\n",
       " 18746: [2337, 6585, 1004, 3850, 7041, 8071, 4721, 1343, 6324, 6598],\n",
       " 17533: [7408, 8626, 7299, 3862, 4819, 4825, 8656, 8005, 8208, 7433],\n",
       " 12379: [4651, 7674, 8367, 4575, 6412, 8364, 8366, 9457, 7493, 5434],\n",
       " 18961: [8762, 4835, 7442, 9403, 8632, 7493, 9402, 8596, 7491, 7674],\n",
       " 8467: [6179, 8371, 1196, 6180, 5394, 7071, 8391, 4825, 2091, 5093],\n",
       " 20139: [8919, 9206, 6930, 6931, 6929, 9001, 8567, 8585, 8573, 6832],\n",
       " 499: [8626, 1619, 3862, 9267, 7299, 4659, 4819, 8003, 2346, 8682],\n",
       " 13262: [5697, 4903, 6945, 9283, 6577, 4839, 6444, 6843, 4215, 6884],\n",
       " 14688: [8097, 8098, 7049, 7098, 6381, 7404, 9117, 8756, 6996, 9383],\n",
       " 148: [2761, 1903, 3296, 6877, 8875, 8491, 5984, 319, 445, 9024],\n",
       " 13354: [6923, 9304, 7470, 9303, 9267, 6622, 7471, 8057, 8626, 7674],\n",
       " 12974: [9028, 9267, 3116, 5795, 6033, 7433, 4659, 9393, 6035, 3862],\n",
       " 12538: [3538, 4003, 5428, 2274, 2783, 5925, 8265, 881, 2659, 2419],\n",
       " 7301: [10374, 4127, 6566, 9551, 2711, 9020, 9113, 3115, 4247, 1350],\n",
       " 14432: [4354, 8412, 4826, 4829, 4144, 3603, 4832, 4821, 4145, 4859],\n",
       " 18981: [2085, 4443, 1341, 3864, 2633, 4230, 2230, 6588, 2713, 7163],\n",
       " 8195: [3862, 4819, 4825, 4462, 3202, 7493, 7299, 4835, 7433, 9267],\n",
       " 11991: [6407, 4517, 4653, 5938, 3512, 9065, 7134, 4558, 7939, 5292],\n",
       " 20389: [9154, 3802, 7597, 7637, 6347, 6345, 9152, 5263, 6882, 7580],\n",
       " 21609: [4760, 5979, 8359, 5978, 4013, 6821, 6689, 4596, 6998, 7909],\n",
       " 5727: [4127, 4628, 3749, 3049, 3532, 5277, 2449, 1122, 4128, 4184],\n",
       " 8727: [9573, 5458, 9864, 10210, 4157, 6416, 9858, 8078, 9881, 1810],\n",
       " 6340: [4829, 5341, 6155, 4826, 6737, 3603, 4144, 4145, 8412, 4354],\n",
       " 15552: [7915, 7660, 6957, 8584, 7914, 9793, 6707, 9361, 7916, 6883],\n",
       " 13095: [1689, 5821, 3862, 4819, 4077, 6323, 3293, 1341, 5051, 6707],\n",
       " 14572: [6426, 4825, 7491, 7493, 8525, 8524, 6053, 9402, 4819, 6833],\n",
       " 15270: [8762, 7442, 8430, 2434, 9725, 9743, 8765, 9774, 9355, 9762],\n",
       " 10390: [4825, 7641, 6518, 6912, 4216, 2812, 4102, 4215, 3857, 5062],\n",
       " 5873: [5399, 6325, 8165, 8164, 8666, 5095, 8683, 9048, 6891, 7604],\n",
       " 17615: [7239, 7238, 6908, 8591, 7214, 6870, 7215, 5074, 8193, 9002],\n",
       " 21445: [6793, 9070, 9577, 8251, 8557, 9578, 8267, 9883, 8235, 9395],\n",
       " 9859: [9578, 6798, 9883, 9395, 5767, 8557, 9390, 5366, 10120, 9635],\n",
       " 1786: [3518, 7021, 1161, 7913, 2838, 4166, 4514, 7022, 8802, 2470],\n",
       " 13212: [7619, 6898, 8632, 9290, 4835, 5435, 6426, 7208, 4215, 7674],\n",
       " 5016: [596, 6873, 6906, 2271, 2211, 8147, 6260, 6261, 8149, 5839],\n",
       " 7184: [8732, 5847, 6584, 8733, 7222, 6910, 4516, 8049, 9007, 6496],\n",
       " 7888: [7227, 6385, 5510, 8997, 3825, 6891, 4500, 5343, 8164, 8165],\n",
       " 21949: [10374, 4127, 6566, 9551, 2711, 9020, 9113, 3115, 4247, 1350],\n",
       " 20928: [7620, 6053, 4215, 8568, 4825, 6043, 6813, 8005, 8573, 6707],\n",
       " 5179: [8367, 8626, 5075, 8364, 9457, 8656, 9487, 9488, 5074, 2722],\n",
       " 7579: [9884, 8135, 7956, 7248, 5576, 6162, 3643, 8111, 4307, 2817],\n",
       " 21114: [7568, 856, 2268, 3452, 1338, 9267, 4322, 7299, 8656, 4825],\n",
       " 5547: [7442, 8762, 8430, 2434, 9762, 9743, 8765, 9725, 9943, 9355],\n",
       " 1560: [1904, 3894, 9571, 677, 4839, 4228, 272, 1408, 147, 951],\n",
       " 2655: [9200, 8110, 6613, 9663, 7079, 6648, 9353, 8583, 4256, 4700],\n",
       " 5051: [1302, 1524, 6869, 918, 6543, 5687, 1848, 7471, 1304, 6635],\n",
       " 19288: [8402, 6367, 8823, 6053, 7163, 6707, 3536, 6813, 4939, 9267],\n",
       " 19650: [7196, 4459, 6746, 2619, 7421, 4458, 4309, 6617, 7226, 3169],\n",
       " 6039: [3490, 2549, 4920, 9007, 5030, 3862, 3504, 7025, 6902, 9759],\n",
       " 13435: [7299, 3862, 4608, 5070, 2346, 5632, 2603, 8656, 4825, 8626],\n",
       " 13923: [3560, 3862, 6035, 3985, 4819, 2346, 7619, 8444, 7674, 4659],\n",
       " 7354: [3732, 6428, 9728, 5715, 7492, 2230, 4981, 5458, 3488, 2499],\n",
       " 16817: [6142, 4340, 5690, 4339, 5444, 6961, 7599, 7585, 7297, 6570],\n",
       " 7293: [10374, 4127, 6566, 9551, 2711, 9020, 9113, 3115, 4247, 1350],\n",
       " 258: [9179, 9181, 5446, 6034, 2346, 4500, 6035, 6033, 965, 2216],\n",
       " 8107: [1341, 7748, 3864, 3862, 8206, 2230, 4230, 8659, 4819, 7716],\n",
       " 872: [5262, 7141, 5259, 7140, 6947, 5781, 7621, 7468, 7571, 7467],\n",
       " 9900: [5795, 9267, 6043, 6033, 6707, 5446, 2346, 3852, 6035, 8626],\n",
       " 10028: [4141, 2923, 4888, 4904, 4171, 6150, 5669, 4972, 3209, 7303],\n",
       " 8850: [2346, 3580, 4352, 7071, 4573, 4034, 4819, 5070, 7492, 4825],\n",
       " 7456: [4335, 8152, 8559, 3899, 8537, 2252, 476, 7347, 3891, 9348],\n",
       " 3813: [3869, 7593, 2958, 8639, 1778, 6839, 4332, 8651, 9285, 9384],\n",
       " 7720: [5275, 8173, 5905, 7965, 2880, 1780, 9203, 7481, 7576, 1452],\n",
       " 4447: [603, 4335, 8152, 81, 597, 2252, 8559, 476, 3380, 3899],\n",
       " 9890: [7939, 5434, 9065, 5435, 4517, 6426, 4819, 6427, 4825, 4545],\n",
       " 12416: [5914, 5915, 7397, 7396, 6908, 9350, 6814, 9351, 6836, 8193],\n",
       " 16225: [6397, 4931, 4932, 4717, 9267, 8364, 8673, 8636, 4575, 3862],\n",
       " 20312: [9197, 9501, 9505, 6938, 6942, 5162, 7332, 9502, 6819, 6581],\n",
       " 14366: [7029, 7398, 5961, 7637, 1843, 8313, 7638, 9163, 6913, 5081],\n",
       " 7861: [3490, 4920, 7638, 5924, 7637, 5030, 5970, 6902, 7025, 9007],\n",
       " 664: [8479, 1363, 9287, 6413, 7461, 6414, 882, 1286, 1838, 7460],\n",
       " 6325: [1407, 2898, 3859, 6535, 436, 2501, 588, 559, 8659, 2085],\n",
       " 6042: [1455, 2452, 3544, 4975, 3554, 3560, 3985, 3586, 6351, 6392],\n",
       " 20545: [8596, 6587, 4835, 7209, 7208, 7674, 4573, 6565, 7672, 6579],\n",
       " 12336: [8412, 9516, 4829, 4144, 3603, 4354, 4821, 4832, 7299, 4859],\n",
       " 489: [10374, 4127, 6566, 9551, 2711, 9020, 9113, 3115, 4247, 1350],\n",
       " 7987: [2923, 6826, 3841, 4141, 8015, 9578, 9577, 4888, 6278, 6798],\n",
       " 20299: [3418, 8715, 3868, 2599, 3732, 9728, 3857, 7097, 3862, 4981],\n",
       " 6300: [6466, 4929, 6465, 6622, 6255, 7135, 7299, 9056, 5053, 186],\n",
       " 18107: [6485, 4859, 6483, 3603, 8412, 4829, 4832, 4826, 7684, 7686],\n",
       " 1691: [7098, 7404, 4866, 6381, 8098, 9117, 8097, 7192, 8989, 6996],\n",
       " 16893: [7786, 8137, 9042, 7790, 5390, 1357, 7913, 7136, 4275, 3518],\n",
       " 10088: [1370, 4649, 3220, 1965, 2580, 6033, 8064, 4235, 8232, 6035],\n",
       " 2420: [6892, 7660, 6707, 7369, 3862, 6043, 3894, 5311, 3496, 4623],\n",
       " 20151: [9196, 9197, 5408, 5162, 5154, 5163, 5409, 9501, 9195, 9505],\n",
       " 11547: [5869, 6866, 3979, 1323, 6071, 1509, 7641, 7356, 1354, 5518],\n",
       " 10322: [6427, 6426, 5435, 8715, 7493, 4825, 5648, 7491, 8367, 4819],\n",
       " 452: [7625, 892, 7612, 1337, 46, 6574, 4427, 8084, 7860, 3737],\n",
       " 17815: [9818, 9578, 9883, 9089, 8819, 9395, 10120, 9897, 6798, 8386],\n",
       " 6035: [8762, 7442, 8430, 2434, 9743, 9762, 9943, 8765, 9725, 9355],\n",
       " 2495: [6012, 3638, 2710, 200, 370, 101, 2862, 530, 5795, 3852],\n",
       " 17660: [3538, 5428, 2274, 8750, 2783, 7501, 5925, 2419, 5350, 4019],\n",
       " 14928: [2085, 1341, 2230, 2549, 9007, 7605, 8661, 2713, 9009, 7608],\n",
       " 18822: [6070, 5191, 5932, 6597, 6335, 5830, 3765, 4900, 3080, 3475],\n",
       " 7029: [2599, 3868, 7097, 3418, 6847, 5368, 2832, 6959, 10216, 10023],\n",
       " 7821: [7669, 3851, 5099, 7224, 8444, 7299, 4608, 1255, 4939, 3862],\n",
       " 9241: [7802, 4670, 5623, 9128, 6033, 6035, 7692, 6034, 9235, 4500],\n",
       " 16199: [6096, 8007, 6056, 6089, 8010, 9244, 7654, 7156, 8673, 8027],\n",
       " 10347: [7598, 8919, 6930, 8567, 9175, 9229, 7818, 9001, 6832, 6931],\n",
       " 2610: [2126, 2912, 530, 101, 4433, 958, 1470, 3852, 5533, 250],\n",
       " 7484: [4226, 7370, 4572, 5390, 3512, 4517, 7786, 7838, 4545, 9005],\n",
       " 447: [4801, 3629, 3634, 4892, 6851, 2006, 8195, 9474, 9475, 1801],\n",
       " ...}"
      ]
     },
     "execution_count": 194,
     "metadata": {},
     "output_type": "execute_result"
    }
   ],
   "source": [
    "%time\n",
    "\n",
    "ResultCB = {}\n",
    "p = \"0.0%\"\n",
    "u_count = 0\n",
    "\n",
    "u_max = len(user_profilesCB_opt)\n",
    "for uid, user_profileCB in user_profilesCB_opt.iteritems():\n",
    "    \n",
    "    sims = cosine_similarity(user_profileCB, item_profilesCB)\n",
    "    uid_rating = gamesCB.copy().apply(lambda i: 0.0) \n",
    "    i = 0\n",
    "    for index, val in uid_rating.iteritems():\n",
    "        uid_rating.set_value(value=sims[0, i],label=index)\n",
    "        i += 1\n",
    "    uid_rating.sort_values(ascending=False, inplace=True)\n",
    "    \n",
    "    ResultCB.setdefault(uid, {})\n",
    "    i = 0\n",
    "    ResultCB[uid] = []\n",
    "    while len(ResultCB[uid]) < 10:\n",
    "        if uid_rating.index[i] not in training_dict[uid].keys():\n",
    "            ResultCB[uid].append(uid_rating.index[i])\n",
    "        i +=1\n",
    "    u_count += 1\n",
    "    pnew = \"{:10.1f}\".format(u_count*100/u_max) + \"%\"\n",
    "    if pnew != p:\n",
    "        p = pnew\n",
    "        clear_output()\n",
    "        print(p)\n",
    "ResultCB"
   ]
  },
  {
   "cell_type": "markdown",
   "metadata": {},
   "source": [
    "### Оценка данных"
   ]
  },
  {
   "cell_type": "code",
   "execution_count": 195,
   "metadata": {},
   "outputs": [
    {
     "name": "stdout",
     "output_type": "stream",
     "text": [
      "HR@10:  0.03580337490829054\n"
     ]
    }
   ],
   "source": [
    "print(\"HR@10: \", hit_ratio( ResultCB, test_dict) )"
   ]
  },
  {
   "cell_type": "markdown",
   "metadata": {},
   "source": [
    "#### `HR@10` для content-based, модели созданной автором блокнота: 0.065"
   ]
  },
  {
   "cell_type": "markdown",
   "metadata": {},
   "source": [
    "## Item-based collaborative filtering RS"
   ]
  },
  {
   "cell_type": "markdown",
   "metadata": {},
   "source": [
    "Item-based CF основан на идее, что пользователь предпочтет объекты, похожие на те, что он приобретал ранее. Данные в CF модели представлены матрицей `user x item`, где ячейка матрицы соответствует рейтингу, который пользователь поставил объекту. Вместо рейтингов в матрице могут быть вероятности (т.е. вероятность, что пользователь воспользуется объектом). Для работы модели необходимо построить матрицу `item x item` схожести объектов. Обычно для построения матрицы схожести используется исходная матрица `user x item`. Чтобы уменьшить шумы в матрице схожести, для каждого объекта хранят только $K$ наиболее похожих объектов.\n",
    "\n",
    "В простейшем случае рекомендации строятся путем нахождения объектов с наибольшим значением предсказанного рейтинга:\n",
    "$$\\hat{r}_{ui} = \\frac{\\sum_{j \\in I_u} r_{uj} * sim(j, i)}{\\sum_{j \\in I_u} r_{uj}}$$\n",
    "\n",
    "* $I_u$ - множество объектов, оцененных пользователем\n",
    "* $sim(j, i)$ - схожесть между объектами $j$ и $i$\n",
    "\n",
    "Часто из финальных рекомендаций для пользователя $u$ исключаются объекты $I_u$."
   ]
  },
  {
   "cell_type": "code",
   "execution_count": 39,
   "metadata": {
    "collapsed": true
   },
   "outputs": [],
   "source": [
    "def load_data(df):\n",
    "    rows = []\n",
    "    cols = []\n",
    "    data = []\n",
    "    \n",
    "    uid_to_row = {}\n",
    "    iid_to_col = {}\n",
    "    \n",
    "    for t in df.itertuples():\n",
    "        row_id = uid_to_row.setdefault(t.uid, len(uid_to_row))\n",
    "        col_id = iid_to_col.setdefault(t.iid, len(iid_to_col))\n",
    "        rating = t.rating\n",
    "        \n",
    "        rows.append(row_id)\n",
    "        cols.append(col_id)\n",
    "        data.append(rating)\n",
    "        \n",
    "    ui_m = csr_matrix((data, (rows, cols)))\n",
    "    return ui_m, uid_to_row, iid_to_col"
   ]
  },
  {
   "cell_type": "code",
   "execution_count": 40,
   "metadata": {
    "collapsed": true
   },
   "outputs": [],
   "source": [
    "ui_m, uid_to_row, iid_to_col = load_data(training_df)"
   ]
  },
  {
   "cell_type": "code",
   "execution_count": 41,
   "metadata": {},
   "outputs": [
    {
     "name": "stdout",
     "output_type": "stream",
     "text": [
      "Density 0.0008265921718676217\n",
      "Max rating 5.0\n",
      "Min rating 1.0\n",
      "Shape (22215, 10098)\n"
     ]
    }
   ],
   "source": [
    "print(\"Density\", ui_m.nnz / (ui_m.shape[0] * ui_m.shape[1]))\n",
    "print(\"Max rating\", ui_m.data.max())\n",
    "print(\"Min rating\", ui_m.data.min())\n",
    "print(\"Shape\", ui_m.shape)"
   ]
  },
  {
   "cell_type": "code",
   "execution_count": 42,
   "metadata": {
    "collapsed": true
   },
   "outputs": [],
   "source": [
    "from sklearn.metrics.pairwise import cosine_similarity\n",
    "ii_sim_m = cosine_similarity(ui_m.T.tocsr(), dense_output=False)"
   ]
  },
  {
   "cell_type": "code",
   "execution_count": 43,
   "metadata": {},
   "outputs": [
    {
     "name": "stdout",
     "output_type": "stream",
     "text": [
      "Density 0.038468718580097656\n",
      "Max sim 1.0\n",
      "Min sim 0.000180093435822\n",
      "Shape (10098, 10098)\n"
     ]
    }
   ],
   "source": [
    "print(\"Density\", ii_sim_m.nnz / (ii_sim_m.shape[0] * ii_sim_m.shape[1]))\n",
    "print(\"Max sim\", ii_sim_m.data.max())\n",
    "print(\"Min sim\", ii_sim_m.data.min())\n",
    "print(\"Shape\", ii_sim_m.shape)"
   ]
  },
  {
   "cell_type": "code",
   "execution_count": 44,
   "metadata": {
    "collapsed": true
   },
   "outputs": [],
   "source": [
    "# вспомогательные функции, которые могут пригодиться при построении Item-based CF\n",
    "def nullify_main_diagonal(m):\n",
    "    positions = range(m.shape[0])\n",
    "    eye = csr_matrix((np.ones(len(positions)), (positions, positions)), m.shape)\n",
    "    return m - m.multiply(eye)\n",
    "\n",
    "\n",
    "def get_topk(matrix, top, axis=1):\n",
    "    \"\"\"Converts source matrix to Top-K matrix\n",
    "    where each row or column contains only top K values\n",
    "\n",
    "    :param matrix: source matrix\n",
    "    :param top: number of top items to be stored\n",
    "    :param axis: 0 - top by column, 1 - top by row\n",
    "    :return:\n",
    "    \"\"\"\n",
    "    rows = []\n",
    "    cols = []\n",
    "    data = []\n",
    "\n",
    "    if axis == 0:\n",
    "        matrix = matrix.T.tocsr()\n",
    "\n",
    "    for row_id, row in enumerate(matrix):\n",
    "        if top is not None and row.nnz > top:\n",
    "            top_args = np.argsort(row.data)[-top:]\n",
    "\n",
    "            rows += [row_id] * top\n",
    "            cols += row.indices[top_args].tolist()\n",
    "            data += row.data[top_args].tolist()\n",
    "        elif row.nnz > 0:\n",
    "            rows += [row_id] * row.nnz\n",
    "            cols += row.indices.tolist()\n",
    "            data += row.data.tolist()\n",
    "\n",
    "    topk_m = csr_matrix((data, (rows, cols)), (matrix.shape[0], matrix.shape[1]))\n",
    "\n",
    "    if axis == 0:\n",
    "        topk_m = topk_m.T.tocsr()\n",
    "\n",
    "    return topk_m"
   ]
  },
  {
   "cell_type": "code",
   "execution_count": 45,
   "metadata": {
    "collapsed": true
   },
   "outputs": [],
   "source": [
    "ii_sim_m = nullify_main_diagonal(ii_sim_m)\n",
    "ii_sim_m = get_topk(ii_sim_m, top=30)"
   ]
  },
  {
   "cell_type": "code",
   "execution_count": 46,
   "metadata": {},
   "outputs": [
    {
     "name": "stdout",
     "output_type": "stream",
     "text": [
      "Density 0.0029141527312393995\n",
      "Max sim 1.0\n",
      "Min sim 0.00140492678148\n",
      "Shape (10098, 10098)\n"
     ]
    }
   ],
   "source": [
    "print(\"Density\", ii_sim_m.nnz / (ii_sim_m.shape[0] * ii_sim_m.shape[1]))\n",
    "print(\"Max sim\", ii_sim_m.data.max())\n",
    "print(\"Min sim\", ii_sim_m.data.min())\n",
    "print(\"Shape\", ii_sim_m.shape)"
   ]
  },
  {
   "cell_type": "markdown",
   "metadata": {
    "collapsed": true
   },
   "source": [
    "Item-based rating prediction"
   ]
  },
  {
   "cell_type": "code",
   "execution_count": null,
   "metadata": {},
   "outputs": [],
   "source": [
    "from sklearn.preprocessing import binarize\n",
    "\n",
    "user_id = 5317\n",
    "item_id = 5390\n",
    "\n",
    "up = ii_sim_m[item_id].dot(ui_m[user_id].T)\n",
    "down = np.abs(ii_sim_m[item_id]).dot(binarize(ui_m[user_id]).T)\n",
    "\n",
    "print(user_id, item_id, \":\", ui_m[user_id, item_id])\n",
    "print(\"Prediction:\", up.sum() / down.sum())"
   ]
  },
  {
   "cell_type": "markdown",
   "metadata": {},
   "source": [
    "#### `HR@10` для item-based CF модели, созданной автором блокнота: 0.085"
   ]
  },
  {
   "cell_type": "markdown",
   "metadata": {},
   "source": [
    "### Подcказки\n",
    "* Определитесь с тем, что вы пытаетесь предсказать (рейтинги, вероятности, ...)\n",
    "* Оптимальный способ вычисления матрицы схожести выглядит так:\n",
    " * Привести строки в матрице `user x item` к единичной длине (выделяет основные предпочтения пользователя)\n",
    " * Построить матрицу схожести `item x item`\n",
    " * Для каждого объекта оставить только $K$ наиболее похожих объектов\n",
    " * Для каждого объекта привести к единичной длине вектор схожести этого объекта (выделяет наиболее схожие объекты)\n",
    "* Удалили ли вы из рекомендаций объекты, которые пользователь уже оценивал?\n",
    "* Статья \"Item-Based Top-N Recommendation Algorithms\", Mukund Deshpande и George Karypis"
   ]
  },
  {
   "cell_type": "markdown",
   "metadata": {},
   "source": [
    "## Hybrid RS"
   ]
  },
  {
   "cell_type": "markdown",
   "metadata": {},
   "source": [
    "Гибридная рекомендательная система - это объединение нескольких рекомендательных систем (мы не будем перечислять тут возможные способы гибридизации). Цель гибридизации - воспользоваться сильными сторонами нескольких моделей, чтобы улучшить качество рекомендаций.\n",
    "\n",
    "В данном задании студент должен создать гибридную систему, состояющую **как минимум** из двух подсистем."
   ]
  },
  {
   "cell_type": "markdown",
   "metadata": {},
   "source": [
    "#### `HR@10` для гибридной модели, созданной автором блокнота: 0.096"
   ]
  },
  {
   "cell_type": "markdown",
   "metadata": {},
   "source": [
    "### Подcказки\n",
    "* Определите сильные и слабые стороны различных моделей\n",
    "* Какие из них коррелируют? А какие могут дополнять друг друга?\n",
    "* Только конечный результат работы системы должен содержать $N$ рекомендаций (промежуточные могут содержать больше)"
   ]
  },
  {
   "cell_type": "markdown",
   "metadata": {},
   "source": [
    "## P.S.\n",
    "В коде возможны пасхальные яйца ]:->, если у вас возникли вопросы, не стесняйтесь их задавать."
   ]
  },
  {
   "cell_type": "code",
   "execution_count": null,
   "metadata": {
    "collapsed": true
   },
   "outputs": [],
   "source": []
  }
 ],
 "metadata": {
  "kernelspec": {
   "display_name": "Python 3",
   "language": "python",
   "name": "python3"
  },
  "language_info": {
   "codemirror_mode": {
    "name": "ipython",
    "version": 3
   },
   "file_extension": ".py",
   "mimetype": "text/x-python",
   "name": "python",
   "nbconvert_exporter": "python",
   "pygments_lexer": "ipython3",
   "version": "3.6.1"
  }
 },
 "nbformat": 4,
 "nbformat_minor": 2
}
